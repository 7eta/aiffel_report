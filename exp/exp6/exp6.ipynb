{
 "cells": [
  {
   "cell_type": "markdown",
   "id": "c733a1ac",
   "metadata": {},
   "source": [
    "### 12-1. 프로젝트: 뉴스기사 요약해보기\n",
    "새로운 데이터셋에 대해서 추상적 요약과 추출적 요약을 모두 해보는 시간을 가져봐요"
   ]
  },
  {
   "cell_type": "markdown",
   "id": "ef82992d",
   "metadata": {},
   "source": [
    "##### Step 1. 데이터 수집하기\n",
    " - 데이터는 아래 링크에 있는 뉴스 기사 데이터(news_summary_more.csv)를 사용하세요.\n",
    "\n",
    " * sunnysai12345/News_Summary(https://github.com/sunnysai12345/News_Summary)"
   ]
  },
  {
   "cell_type": "code",
   "execution_count": 1,
   "id": "0fd09398",
   "metadata": {},
   "outputs": [
    {
     "name": "stderr",
     "output_type": "stream",
     "text": [
      "[nltk_data] Downloading package stopwords to /aiffel/nltk_data...\n",
      "[nltk_data]   Package stopwords is already up-to-date!\n"
     ]
    }
   ],
   "source": [
    "from importlib.metadata import version\n",
    "import nltk\n",
    "import tensorflow\n",
    "import summa\n",
    "import pandas as pd\n",
    "nltk.download('stopwords')\n",
    "\n",
    "import numpy as np\n",
    "import pandas as pd\n",
    "import os\n",
    "import re\n",
    "import matplotlib.pyplot as plt\n",
    "from nltk.corpus import stopwords\n",
    "from bs4 import BeautifulSoup \n",
    "from tensorflow.keras.preprocessing.text import Tokenizer \n",
    "from tensorflow.keras.preprocessing.sequence import pad_sequences\n",
    "import urllib.request\n",
    "import warnings\n",
    "warnings.filterwarnings(\"ignore\", category=UserWarning, module='bs4')"
   ]
  },
  {
   "cell_type": "code",
   "execution_count": 2,
   "id": "81b6c505",
   "metadata": {},
   "outputs": [
    {
     "data": {
      "text/html": [
       "<div>\n",
       "<style scoped>\n",
       "    .dataframe tbody tr th:only-of-type {\n",
       "        vertical-align: middle;\n",
       "    }\n",
       "\n",
       "    .dataframe tbody tr th {\n",
       "        vertical-align: top;\n",
       "    }\n",
       "\n",
       "    .dataframe thead th {\n",
       "        text-align: right;\n",
       "    }\n",
       "</style>\n",
       "<table border=\"1\" class=\"dataframe\">\n",
       "  <thead>\n",
       "    <tr style=\"text-align: right;\">\n",
       "      <th></th>\n",
       "      <th>headlines</th>\n",
       "      <th>text</th>\n",
       "    </tr>\n",
       "  </thead>\n",
       "  <tbody>\n",
       "    <tr>\n",
       "      <th>56578</th>\n",
       "      <td>PM Modi's mother Heeraben casts vote in Gandhi...</td>\n",
       "      <td>PM Narendra Modi's mother Heeraben on Thursday...</td>\n",
       "    </tr>\n",
       "    <tr>\n",
       "      <th>34722</th>\n",
       "      <td>No meeting between PM Modi, Pak PM Abbasi at C...</td>\n",
       "      <td>Responding to a question about PM Narendra Mod...</td>\n",
       "    </tr>\n",
       "    <tr>\n",
       "      <th>61747</th>\n",
       "      <td>Apple confirms iPhone X becomes unresponsive i...</td>\n",
       "      <td>Apple has confirmed that it is aware of the in...</td>\n",
       "    </tr>\n",
       "    <tr>\n",
       "      <th>30011</th>\n",
       "      <td>Bengaluru startup launches its EV charging net...</td>\n",
       "      <td>Bengaluru-based startup Ather Energy on Monday...</td>\n",
       "    </tr>\n",
       "    <tr>\n",
       "      <th>6557</th>\n",
       "      <td>God said netas will rule every corner, then ma...</td>\n",
       "      <td>Chairman of RPG Group Harsh Goenka on Tuesday ...</td>\n",
       "    </tr>\n",
       "    <tr>\n",
       "      <th>37337</th>\n",
       "      <td>Mukesh Ambani's daughter Isha gets an MBA from...</td>\n",
       "      <td>India's richest person Mukesh Ambani's daughte...</td>\n",
       "    </tr>\n",
       "    <tr>\n",
       "      <th>60471</th>\n",
       "      <td>Puducherry varsity boy forced to perform oral ...</td>\n",
       "      <td>A Pondicherry University male student was alle...</td>\n",
       "    </tr>\n",
       "    <tr>\n",
       "      <th>31540</th>\n",
       "      <td>Mob thrashes woman for feeding stray dogs in D...</td>\n",
       "      <td>The Delhi Police has filed a case after a woma...</td>\n",
       "    </tr>\n",
       "    <tr>\n",
       "      <th>65770</th>\n",
       "      <td>11 Indians missing, 15 rescued after ship sink...</td>\n",
       "      <td>A Chinese cargo ship with 26 Indian crew membe...</td>\n",
       "    </tr>\n",
       "    <tr>\n",
       "      <th>39819</th>\n",
       "      <td>Gopichand training Saina, Sindhu at separate v...</td>\n",
       "      <td>Coach Pullela Gopichand is training PV Sindhu ...</td>\n",
       "    </tr>\n",
       "  </tbody>\n",
       "</table>\n",
       "</div>"
      ],
      "text/plain": [
       "                                               headlines  \\\n",
       "56578  PM Modi's mother Heeraben casts vote in Gandhi...   \n",
       "34722  No meeting between PM Modi, Pak PM Abbasi at C...   \n",
       "61747  Apple confirms iPhone X becomes unresponsive i...   \n",
       "30011  Bengaluru startup launches its EV charging net...   \n",
       "6557   God said netas will rule every corner, then ma...   \n",
       "37337  Mukesh Ambani's daughter Isha gets an MBA from...   \n",
       "60471  Puducherry varsity boy forced to perform oral ...   \n",
       "31540  Mob thrashes woman for feeding stray dogs in D...   \n",
       "65770  11 Indians missing, 15 rescued after ship sink...   \n",
       "39819  Gopichand training Saina, Sindhu at separate v...   \n",
       "\n",
       "                                                    text  \n",
       "56578  PM Narendra Modi's mother Heeraben on Thursday...  \n",
       "34722  Responding to a question about PM Narendra Mod...  \n",
       "61747  Apple has confirmed that it is aware of the in...  \n",
       "30011  Bengaluru-based startup Ather Energy on Monday...  \n",
       "6557   Chairman of RPG Group Harsh Goenka on Tuesday ...  \n",
       "37337  India's richest person Mukesh Ambani's daughte...  \n",
       "60471  A Pondicherry University male student was alle...  \n",
       "31540  The Delhi Police has filed a case after a woma...  \n",
       "65770  A Chinese cargo ship with 26 Indian crew membe...  \n",
       "39819  Coach Pullela Gopichand is training PV Sindhu ...  "
      ]
     },
     "execution_count": 2,
     "metadata": {},
     "output_type": "execute_result"
    }
   ],
   "source": [
    "import urllib.request\n",
    "urllib.request.urlretrieve(\"https://raw.githubusercontent.com/sunnysai12345/News_Summary/master/news_summary_more.csv\", filename=\"news_summary_more.csv\")\n",
    "data = pd.read_csv('news_summary_more.csv', encoding='iso-8859-1')\n",
    "\n",
    "data.sample(10)"
   ]
  },
  {
   "cell_type": "markdown",
   "id": "125edd6f",
   "metadata": {},
   "source": [
    "이 데이터는 기사의 본문에 해당되는 text와 headlines 두 가지 열로 구성되어져 있습니다.\n",
    "\n",
    "추상적 요약을 하는 경우에는 text를 본문, headlines를 이미 요약된 데이터로 삼아서 모델을 학습할 수 있어요. 추출적 요약을 하는 경우에는 오직 text열만을 사용하세요."
   ]
  },
  {
   "cell_type": "markdown",
   "id": "4c250033",
   "metadata": {},
   "source": [
    "#### Step 2. 데이터 전처리하기 (추상적 요약)\n",
    " - 실습에서 사용된 전처리를 참고하여 각자 필요하다고 생각하는 전처리를 추가 사용하여 텍스트를 정규화 또는 정제해 보세요. 만약, 불용어 제거를 선택한다면 상대적으로 길이가 짧은 요약 데이터에 대해서도 불용어를 제거하는 것이 좋을지 고민해 보세요."
   ]
  },
  {
   "cell_type": "markdown",
   "id": "2f74043c",
   "metadata": {},
   "source": [
    " 텍스트 정규화(text normalization)\n",
    "\n",
    "여기서는 텍스트 정규화를 위한 사전(dictionary)을 아래와 같이 구성할 거예요. 이 사전은 아래의 링크에서 참고하여 만들었어요.\n",
    "\n",
    "정규화 사전 출처(https://stackoverflow.com/questions/19790188/expanding-english-language-contractions-in-python)"
   ]
  },
  {
   "cell_type": "code",
   "execution_count": 3,
   "id": "f11d1358",
   "metadata": {},
   "outputs": [],
   "source": [
    "contractions = {\"ain't\": \"is not\", \"aren't\": \"are not\",\"can't\": \"cannot\", \"'cause\": \"because\", \"could've\": \"could have\", \"couldn't\": \"could not\",\n",
    "                           \"didn't\": \"did not\",  \"doesn't\": \"does not\", \"don't\": \"do not\", \"hadn't\": \"had not\", \"hasn't\": \"has not\", \"haven't\": \"have not\",\n",
    "                           \"he'd\": \"he would\",\"he'll\": \"he will\", \"he's\": \"he is\", \"how'd\": \"how did\", \"how'd'y\": \"how do you\", \"how'll\": \"how will\", \"how's\": \"how is\",\n",
    "                           \"I'd\": \"I would\", \"I'd've\": \"I would have\", \"I'll\": \"I will\", \"I'll've\": \"I will have\",\"I'm\": \"I am\", \"I've\": \"I have\", \"i'd\": \"i would\",\n",
    "                           \"i'd've\": \"i would have\", \"i'll\": \"i will\",  \"i'll've\": \"i will have\",\"i'm\": \"i am\", \"i've\": \"i have\", \"isn't\": \"is not\", \"it'd\": \"it would\",\n",
    "                           \"it'd've\": \"it would have\", \"it'll\": \"it will\", \"it'll've\": \"it will have\",\"it's\": \"it is\", \"let's\": \"let us\", \"ma'am\": \"madam\",\n",
    "                           \"mayn't\": \"may not\", \"might've\": \"might have\",\"mightn't\": \"might not\",\"mightn't've\": \"might not have\", \"must've\": \"must have\",\n",
    "                           \"mustn't\": \"must not\", \"mustn't've\": \"must not have\", \"needn't\": \"need not\", \"needn't've\": \"need not have\",\"o'clock\": \"of the clock\",\n",
    "                           \"oughtn't\": \"ought not\", \"oughtn't've\": \"ought not have\", \"shan't\": \"shall not\", \"sha'n't\": \"shall not\", \"shan't've\": \"shall not have\",\n",
    "                           \"she'd\": \"she would\", \"she'd've\": \"she would have\", \"she'll\": \"she will\", \"she'll've\": \"she will have\", \"she's\": \"she is\",\n",
    "                           \"should've\": \"should have\", \"shouldn't\": \"should not\", \"shouldn't've\": \"should not have\", \"so've\": \"so have\",\"so's\": \"so as\",\n",
    "                           \"this's\": \"this is\",\"that'd\": \"that would\", \"that'd've\": \"that would have\", \"that's\": \"that is\", \"there'd\": \"there would\",\n",
    "                           \"there'd've\": \"there would have\", \"there's\": \"there is\", \"here's\": \"here is\",\"they'd\": \"they would\", \"they'd've\": \"they would have\",\n",
    "                           \"they'll\": \"they will\", \"they'll've\": \"they will have\", \"they're\": \"they are\", \"they've\": \"they have\", \"to've\": \"to have\",\n",
    "                           \"wasn't\": \"was not\", \"we'd\": \"we would\", \"we'd've\": \"we would have\", \"we'll\": \"we will\", \"we'll've\": \"we will have\", \"we're\": \"we are\",\n",
    "                           \"we've\": \"we have\", \"weren't\": \"were not\", \"what'll\": \"what will\", \"what'll've\": \"what will have\", \"what're\": \"what are\",\n",
    "                           \"what's\": \"what is\", \"what've\": \"what have\", \"when's\": \"when is\", \"when've\": \"when have\", \"where'd\": \"where did\", \"where's\": \"where is\",\n",
    "                           \"where've\": \"where have\", \"who'll\": \"who will\", \"who'll've\": \"who will have\", \"who's\": \"who is\", \"who've\": \"who have\",\n",
    "                           \"why's\": \"why is\", \"why've\": \"why have\", \"will've\": \"will have\", \"won't\": \"will not\", \"won't've\": \"will not have\",\n",
    "                           \"would've\": \"would have\", \"wouldn't\": \"would not\", \"wouldn't've\": \"would not have\", \"y'all\": \"you all\",\n",
    "                           \"y'all'd\": \"you all would\",\"y'all'd've\": \"you all would have\",\"y'all're\": \"you all are\",\"y'all've\": \"you all have\",\n",
    "                           \"you'd\": \"you would\", \"you'd've\": \"you would have\", \"you'll\": \"you will\", \"you'll've\": \"you will have\",\n",
    "                           \"you're\": \"you are\", \"you've\": \"you have\"}"
   ]
  },
  {
   "cell_type": "code",
   "execution_count": 4,
   "id": "7aec289a",
   "metadata": {},
   "outputs": [],
   "source": [
    "# 데이터 전처리 함수\n",
    "def preprocess_sentence(sentence, remove_stopwords=True):\n",
    "    sentence = sentence.lower() # 텍스트 소문자화\n",
    "    sentence = BeautifulSoup(sentence, \"lxml\").text # <br />, <a href = ...> 등의 html 태그 제거\n",
    "    sentence = re.sub(r'\\([^)]*\\)', '', sentence) # 괄호로 닫힌 문자열 (...) 제거 Ex) my husband (and myself!) for => my husband for\n",
    "    sentence = re.sub('\"','', sentence) # 쌍따옴표 \" 제거\n",
    "    sentence = ' '.join([contractions[t] if t in contractions else t for t in sentence.split(\" \")]) # 약어 정규화\n",
    "    sentence = re.sub(r\"'s\\b\",\"\", sentence) # 소유격 제거. Ex) roland's -> roland\n",
    "    sentence = re.sub(\"[^a-zA-Z]\", \" \", sentence) # 영어 외 문자(숫자, 특수문자 등) 공백으로 변환\n",
    "    sentence = re.sub('[m]{2,}', 'mm', sentence) # m이 3개 이상이면 2개로 변경. Ex) ummmmmmm yeah -> umm yeah\n",
    "    \n",
    "    # 불용어 제거 (Text)\n",
    "    if remove_stopwords:\n",
    "        tokens = ' '.join(word for word in sentence.split() if not word in stopwords.words('english') if len(word) > 1)\n",
    "    # 불용어 미제거 (Summary)\n",
    "    else:\n",
    "        tokens = ' '.join(word for word in sentence.split() if len(word) > 1)\n",
    "    return tokens"
   ]
  },
  {
   "cell_type": "code",
   "execution_count": 5,
   "id": "fe08a642",
   "metadata": {},
   "outputs": [],
   "source": [
    "clean_headlines = []\n",
    "for s in data['headlines']:\n",
    "    clean_headlines.append(preprocess_sentence(s))\n",
    "print(\"Summary 전처리 후 결과: \", clean_headlines[:5])"
   ]
  },
  {
   "cell_type": "code",
   "execution_count": 7,
   "id": "b4bc01a4",
   "metadata": {},
   "outputs": [
    {
     "name": "stdout",
     "output_type": "stream",
     "text": [
      "Text 전처리 후 결과:  ['saurav kant alumnus upgrad iiit pg program machine learning artificial intelligence sr systems engineer infosys almost years work experience program upgrad degree career support helped transition data scientist tech mahindra salary hike upgrad online power learning powered lakh careers', 'kunal shah credit card bill payment platform cred gave users chance win free food swiggy one year pranav kaushik delhi techie bagged reward spending cred coins users get one cred coin per rupee bill paid used avail rewards brands like ixigo bookmyshow ubereats cult fit', 'new zealand defeated india wickets fourth odi hamilton thursday win first match five match odi series india lost international match rohit sharma captaincy consecutive victories dating back march match witnessed india getting seventh lowest total odi cricket history', 'aegon life iterm insurance plan customers enjoy tax benefits premiums paid save taxes plan provides life cover age years also customers options insure critical illnesses disability accidental death benefit rider life cover age years', 'speaking sexual harassment allegations rajkumar hirani sonam kapoor said known hirani many years true metoo movement get derailed metoo movement always believe woman case need reserve judgment added hirani accused assistant worked sanju']\n"
     ]
    }
   ],
   "source": [
    "# 전체 Text 데이터에 대한 전처리 : 10분 이상 시간이 걸릴 수 있습니다. \n",
    "clean_text = []\n",
    "for s in data['text']:\n",
    "    clean_text.append(preprocess_sentence(s))\n",
    "\n",
    "# 전처리 후 출력\n",
    "print(\"Text 전처리 후 결과: \", clean_text[:5])"
   ]
  },
  {
   "cell_type": "code",
   "execution_count": null,
   "id": "5c20127c",
   "metadata": {},
   "outputs": [],
   "source": [
    "data['text'] = clean_text\n",
    "data['headlines'] = clean_headlines\n",
    "\n",
    "# 빈 값을 Null 값으로 변환\n",
    "data.replace('', np.nan, inplace=True)"
   ]
  },
  {
   "cell_type": "code",
   "execution_count": 9,
   "id": "fe62b86a",
   "metadata": {},
   "outputs": [
    {
     "data": {
      "text/plain": [
       "headlines    0\n",
       "text         0\n",
       "dtype: int64"
      ]
     },
     "execution_count": 9,
     "metadata": {},
     "output_type": "execute_result"
    }
   ],
   "source": [
    "data.isnull().sum()"
   ]
  },
  {
   "cell_type": "code",
   "execution_count": 10,
   "id": "8cefcd93",
   "metadata": {},
   "outputs": [
    {
     "name": "stdout",
     "output_type": "stream",
     "text": [
      "전체 샘플수 : 98401\n"
     ]
    }
   ],
   "source": [
    "data.dropna(axis=0, inplace=True)\n",
    "print('전체 샘플수 :', (len(data)))"
   ]
  },
  {
   "cell_type": "markdown",
   "id": "0a4acd47",
   "metadata": {},
   "source": [
    "#### 훈련데이터와 테스트데이터 나누기\n",
    " ##### 샘플의 최대 길이 정하기"
   ]
  },
  {
   "cell_type": "code",
   "execution_count": 11,
   "id": "520903b6",
   "metadata": {},
   "outputs": [
    {
     "name": "stdout",
     "output_type": "stream",
     "text": [
      "텍스트의 최소 길이 : 1\n",
      "텍스트의 최대 길이 : 60\n",
      "텍스트의 평균 길이 : 35.09983638377659\n",
      "요약의 최소 길이 : 1\n",
      "요약의 최대 길이 : 13\n",
      "요약의 평균 길이 : 7.135964065405839\n"
     ]
    },
    {
     "data": {
      "image/png": "[encoded data removed]",
      "text/plain": [
       "<Figure size 432x288 with 2 Axes>"
      ]
     },
     "metadata": {
      "needs_background": "light"
     },
     "output_type": "display_data"
    },
    {
     "data": {
      "image/png": "[encoded data removed]",
      "text/plain": [
       "<Figure size 432x288 with 1 Axes>"
      ]
     },
     "metadata": {
      "needs_background": "light"
     },
     "output_type": "display_data"
    },
    {
     "data": {
      "image/png": "[encoded data removed]",
      "text/plain": [
       "<Figure size 432x288 with 1 Axes>"
      ]
     },
     "metadata": {
      "needs_background": "light"
     },
     "output_type": "display_data"
    }
   ],
   "source": [
    "# 길이 분포 출력\n",
    "import matplotlib.pyplot as plt\n",
    "\n",
    "text_len = [len(s.split()) for s in data['text']]\n",
    "summary_len = [len(s.split()) for s in data['headlines']]\n",
    "\n",
    "print('텍스트의 최소 길이 : {}'.format(np.min(text_len)))\n",
    "print('텍스트의 최대 길이 : {}'.format(np.max(text_len)))\n",
    "print('텍스트의 평균 길이 : {}'.format(np.mean(text_len)))\n",
    "print('요약의 최소 길이 : {}'.format(np.min(summary_len)))\n",
    "print('요약의 최대 길이 : {}'.format(np.max(summary_len)))\n",
    "print('요약의 평균 길이 : {}'.format(np.mean(summary_len)))\n",
    "\n",
    "plt.subplot(1,2,1)\n",
    "plt.boxplot(text_len)\n",
    "plt.title('Text')\n",
    "plt.subplot(1,2,2)\n",
    "plt.boxplot(summary_len)\n",
    "plt.title('Summary')\n",
    "plt.tight_layout()\n",
    "plt.show()\n",
    "\n",
    "plt.title('Text')\n",
    "plt.hist(text_len, bins = 40)\n",
    "plt.xlabel('length of samples')\n",
    "plt.ylabel('number of samples')\n",
    "plt.show()\n",
    "\n",
    "plt.title('Summary')\n",
    "plt.hist(summary_len, bins = 40)\n",
    "plt.xlabel('length of samples')\n",
    "plt.ylabel('number of samples')\n",
    "plt.show()"
   ]
  },
  {
   "cell_type": "code",
   "execution_count": null,
   "id": "b5238ca4",
   "metadata": {},
   "outputs": [],
   "source": [
    "text_max_len = 40\n",
    "text_min_len = 30\n",
    "\n",
    "headlines_max_len = 8\n",
    "headlines_min_len = 6"
   ]
  },
  {
   "cell_type": "code",
   "execution_count": null,
   "id": "04cbb8e7",
   "metadata": {},
   "outputs": [],
   "source": [
    "def below_threshold_len(max_len, min_len, nested_list):\n",
    "    cnt = 0\n",
    "    for s in nested_list:\n",
    "        #if(len(s.split()) <= max_len):\n",
    "        if not (len(s.split()) <= max_len and len(s.split()) >= min_len):\n",
    "            cnt = cnt + 1\n",
    "    print('전체 샘플 중 길이가 %s 이하 %s 이상이 아닌 샘플의 비율: %s'%(max_len, min_len, (cnt / len(nested_list))))"
   ]
  },
  {
   "cell_type": "code",
   "execution_count": 14,
   "id": "9f788834",
   "metadata": {},
   "outputs": [
    {
     "name": "stdout",
     "output_type": "stream",
     "text": [
      "전체 샘플 중 길이가 40 이하 30 이상이 아닌 샘플의 비율: 0.9238320748772878\n",
      "전체 샘플 중 길이가 8 이하 6 이상이 아닌 샘플의 비율: 0.8925925549537098\n"
     ]
    }
   ],
   "source": [
    "below_threshold_len(text_max_len, text_min_len, data['text'])\n",
    "below_threshold_len(headlines_max_len,  headlines_min_len, data['headlines'])"
   ]
  },
  {
   "cell_type": "code",
   "execution_count": 15,
   "id": "34c5a220",
   "metadata": {},
   "outputs": [
    {
     "name": "stdout",
     "output_type": "stream",
     "text": [
      "전체 샘플수 : 81945\n"
     ]
    }
   ],
   "source": [
    "orgdata = data.copy() # 이후 data 조작 중 잘못됐을때 사용하기 위해 복사\n",
    "data = data[data.apply(lambda x: len(x['text'].split()) <= text_max_len and len(x['headlines'].split()) <= headlines_max_len , axis=1)]\n",
    "data = data[data.apply(lambda x: len(x['text'].split()) >= text_min_len and len(x['headlines'].split()) >= headlines_min_len , axis=1)]\n",
    "print('전체 샘플수 :', (len(data)))"
   ]
  },
  {
   "cell_type": "code",
   "execution_count": 16,
   "id": "9c57c3dc",
   "metadata": {},
   "outputs": [
    {
     "data": {
      "text/html": [
       "<div>\n",
       "<style scoped>\n",
       "    .dataframe tbody tr th:only-of-type {\n",
       "        vertical-align: middle;\n",
       "    }\n",
       "\n",
       "    .dataframe tbody tr th {\n",
       "        vertical-align: top;\n",
       "    }\n",
       "\n",
       "    .dataframe thead th {\n",
       "        text-align: right;\n",
       "    }\n",
       "</style>\n",
       "<table border=\"1\" class=\"dataframe\">\n",
       "  <thead>\n",
       "    <tr style=\"text-align: right;\">\n",
       "      <th></th>\n",
       "      <th>headlines</th>\n",
       "      <th>text</th>\n",
       "      <th>decoder_input</th>\n",
       "      <th>decoder_target</th>\n",
       "    </tr>\n",
       "  </thead>\n",
       "  <tbody>\n",
       "    <tr>\n",
       "      <th>0</th>\n",
       "      <td>upgrad learner switches career ml al salary hike</td>\n",
       "      <td>saurav kant alumnus upgrad iiit pg program mac...</td>\n",
       "      <td>sostoken upgrad learner switches career ml al ...</td>\n",
       "      <td>upgrad learner switches career ml al salary hi...</td>\n",
       "    </tr>\n",
       "    <tr>\n",
       "      <th>4</th>\n",
       "      <td>known hirani yrs metoo claims true sonam</td>\n",
       "      <td>speaking sexual harassment allegations rajkuma...</td>\n",
       "      <td>sostoken known hirani yrs metoo claims true sonam</td>\n",
       "      <td>known hirani yrs metoo claims true sonam eostoken</td>\n",
       "    </tr>\n",
       "    <tr>\n",
       "      <th>6</th>\n",
       "      <td>india get lowest odi total new zealand</td>\n",
       "      <td>india recorded lowest odi total new zealand ge...</td>\n",
       "      <td>sostoken india get lowest odi total new zealand</td>\n",
       "      <td>india get lowest odi total new zealand eostoken</td>\n",
       "    </tr>\n",
       "    <tr>\n",
       "      <th>7</th>\n",
       "      <td>govt directs alok verma join work day retirement</td>\n",
       "      <td>weeks ex cbi director alok verma told departme...</td>\n",
       "      <td>sostoken govt directs alok verma join work day...</td>\n",
       "      <td>govt directs alok verma join work day retireme...</td>\n",
       "    </tr>\n",
       "    <tr>\n",
       "      <th>9</th>\n",
       "      <td>cong wins ramgarh bypoll rajasthan takes total...</td>\n",
       "      <td>congress candidate shafia zubair ramgarh assem...</td>\n",
       "      <td>sostoken cong wins ramgarh bypoll rajasthan ta...</td>\n",
       "      <td>cong wins ramgarh bypoll rajasthan takes total...</td>\n",
       "    </tr>\n",
       "  </tbody>\n",
       "</table>\n",
       "</div>"
      ],
      "text/plain": [
       "                                           headlines  \\\n",
       "0   upgrad learner switches career ml al salary hike   \n",
       "4           known hirani yrs metoo claims true sonam   \n",
       "6             india get lowest odi total new zealand   \n",
       "7   govt directs alok verma join work day retirement   \n",
       "9  cong wins ramgarh bypoll rajasthan takes total...   \n",
       "\n",
       "                                                text  \\\n",
       "0  saurav kant alumnus upgrad iiit pg program mac...   \n",
       "4  speaking sexual harassment allegations rajkuma...   \n",
       "6  india recorded lowest odi total new zealand ge...   \n",
       "7  weeks ex cbi director alok verma told departme...   \n",
       "9  congress candidate shafia zubair ramgarh assem...   \n",
       "\n",
       "                                       decoder_input  \\\n",
       "0  sostoken upgrad learner switches career ml al ...   \n",
       "4  sostoken known hirani yrs metoo claims true sonam   \n",
       "6    sostoken india get lowest odi total new zealand   \n",
       "7  sostoken govt directs alok verma join work day...   \n",
       "9  sostoken cong wins ramgarh bypoll rajasthan ta...   \n",
       "\n",
       "                                      decoder_target  \n",
       "0  upgrad learner switches career ml al salary hi...  \n",
       "4  known hirani yrs metoo claims true sonam eostoken  \n",
       "6    india get lowest odi total new zealand eostoken  \n",
       "7  govt directs alok verma join work day retireme...  \n",
       "9  cong wins ramgarh bypoll rajasthan takes total...  "
      ]
     },
     "execution_count": 16,
     "metadata": {},
     "output_type": "execute_result"
    }
   ],
   "source": [
    "data['decoder_input'] = data['headlines'].apply(lambda x : 'sostoken '+ x)\n",
    "data['decoder_target'] = data['headlines'].apply(lambda x : x + ' eostoken')\n",
    "data.head()"
   ]
  },
  {
   "cell_type": "code",
   "execution_count": null,
   "id": "84b43e30",
   "metadata": {},
   "outputs": [],
   "source": [
    "encoder_input = np.array(data['text']) # 인코더의 입력\n",
    "decoder_input = np.array(data['decoder_input']) # 디코더의 입력\n",
    "decoder_target = np.array(data['decoder_target']) # 디코더의 레이블"
   ]
  },
  {
   "cell_type": "code",
   "execution_count": 18,
   "id": "767b5f4c",
   "metadata": {},
   "outputs": [
    {
     "name": "stdout",
     "output_type": "stream",
     "text": [
      "[16602 18352 48282 ... 56705 62392 57148]\n"
     ]
    }
   ],
   "source": [
    "indices = np.arange(encoder_input.shape[0])\n",
    "np.random.shuffle(indices)\n",
    "print(indices)"
   ]
  },
  {
   "cell_type": "code",
   "execution_count": null,
   "id": "aa1c8562",
   "metadata": {},
   "outputs": [],
   "source": [
    "encoder_input = encoder_input[indices]\n",
    "decoder_input = decoder_input[indices]\n",
    "decoder_target = decoder_target[indices]"
   ]
  },
  {
   "cell_type": "code",
   "execution_count": 20,
   "id": "2c1afd31",
   "metadata": {},
   "outputs": [
    {
     "name": "stdout",
     "output_type": "stream",
     "text": [
      "테스트 데이터의 수 : 16389\n"
     ]
    }
   ],
   "source": [
    "n_of_val = int(len(encoder_input)*0.2)\n",
    "print('테스트 데이터의 수 :', n_of_val)"
   ]
  },
  {
   "cell_type": "code",
   "execution_count": 21,
   "id": "eea8bd37",
   "metadata": {},
   "outputs": [
    {
     "name": "stdout",
     "output_type": "stream",
     "text": [
      "훈련 데이터의 개수 : 65556\n",
      "훈련 레이블의 개수 : 65556\n",
      "테스트 데이터의 개수 : 16389\n",
      "테스트 레이블의 개수 : 16389\n"
     ]
    }
   ],
   "source": [
    "encoder_input_train = encoder_input[:-n_of_val]\n",
    "decoder_input_train = decoder_input[:-n_of_val]\n",
    "decoder_target_train = decoder_target[:-n_of_val]\n",
    "\n",
    "encoder_input_test = encoder_input[-n_of_val:]\n",
    "decoder_input_test = decoder_input[-n_of_val:]\n",
    "decoder_target_test = decoder_target[-n_of_val:]\n",
    "\n",
    "print('훈련 데이터의 개수 :', len(encoder_input_train))\n",
    "print('훈련 레이블의 개수 :', len(decoder_input_train))\n",
    "print('테스트 데이터의 개수 :', len(encoder_input_test))\n",
    "print('테스트 레이블의 개수 :', len(decoder_input_test))"
   ]
  },
  {
   "cell_type": "markdown",
   "id": "d3ef34ab",
   "metadata": {},
   "source": [
    "##### 단어 집합(vocabulary) 만들기 및 정수 인코딩"
   ]
  },
  {
   "cell_type": "code",
   "execution_count": null,
   "id": "17ec6191",
   "metadata": {},
   "outputs": [],
   "source": [
    "src_tokenizer = Tokenizer() # 토크나이저 정의\n",
    "src_tokenizer.fit_on_texts(encoder_input_train) # 입력된 데이터로부터 단어 집합 생성"
   ]
  },
  {
   "cell_type": "code",
   "execution_count": 23,
   "id": "2e995b9a",
   "metadata": {},
   "outputs": [
    {
     "name": "stdout",
     "output_type": "stream",
     "text": [
      "단어 집합(vocabulary)의 크기 : 63052\n",
      "등장 빈도가 6번 이하인 희귀 단어의 수: 43023\n",
      "단어 집합에서 희귀 단어를 제외시킬 경우의 단어 집합의 크기 20029\n",
      "단어 집합에서 희귀 단어의 비율: 68.23415593478398\n",
      "전체 등장 빈도에서 희귀 단어 등장 빈도 비율: 3.8985045573936152\n"
     ]
    }
   ],
   "source": [
    "threshold = 7 # 등장 빈도수의 th\n",
    "total_cnt = len(src_tokenizer.word_index) # 단어의 수\n",
    "rare_cnt = 0 # 등장 빈도수가 threshold보다 작은 단어의 개수를 카운트\n",
    "total_freq = 0 # 훈련 데이터의 전체 단어 빈도수 총 합\n",
    "rare_freq = 0 # 등장 빈도수가 threshold보다 작은 단어의 등장 빈도수의 총 합\n",
    "\n",
    "# 단어와 빈도수의 쌍(pair)을 key와 value로 받는다.\n",
    "for key, value in src_tokenizer.word_counts.items():\n",
    "    total_freq = total_freq + value\n",
    "\n",
    "    # 단어의 등장 빈도수가 threshold보다 작으면\n",
    "    if(value < threshold):\n",
    "        rare_cnt = rare_cnt + 1\n",
    "        rare_freq = rare_freq + value\n",
    "\n",
    "print('단어 집합(vocabulary)의 크기 :', total_cnt)\n",
    "print('등장 빈도가 %s번 이하인 희귀 단어의 수: %s'%(threshold - 1, rare_cnt))\n",
    "print('단어 집합에서 희귀 단어를 제외시킬 경우의 단어 집합의 크기 %s'%(total_cnt - rare_cnt))\n",
    "print(\"단어 집합에서 희귀 단어의 비율:\", (rare_cnt / total_cnt)*100)\n",
    "print(\"전체 등장 빈도에서 희귀 단어 등장 빈도 비율:\", (rare_freq / total_freq)*100)"
   ]
  },
  {
   "cell_type": "code",
   "execution_count": null,
   "id": "658268af",
   "metadata": {},
   "outputs": [],
   "source": [
    "src_vocab = 8000\n",
    "src_tokenizer = Tokenizer(num_words=src_vocab) # 단어 집합의 크기를 8,000으로 제한\n",
    "src_tokenizer.fit_on_texts(encoder_input_train) # 단어 집합 재생성"
   ]
  },
  {
   "cell_type": "code",
   "execution_count": 25,
   "id": "74dd8db4",
   "metadata": {},
   "outputs": [
    {
     "name": "stdout",
     "output_type": "stream",
     "text": [
      "[[349, 27, 1578, 392, 5660, 6611, 4114, 692, 332, 598, 718, 336, 1724, 637, 172, 158, 798, 718, 835, 1881, 213, 3184, 4114, 459, 6735, 718, 901, 5395, 417, 718, 4377, 317, 1663], [216, 1, 251, 3862, 11, 576, 1086, 1086, 303, 112, 2, 963, 296, 527, 1544, 2196, 1894, 4634, 35, 5, 490, 1419, 2009, 2883, 1894, 1], [1160, 14, 7270, 50, 5396, 1, 1160, 1052, 3, 4345, 114, 1670, 5396, 2, 1401, 1052, 776, 677, 305, 1401, 226, 1160, 9, 6, 4471, 945, 2139]]\n"
     ]
    }
   ],
   "source": [
    "# 텍스트 시퀀스를 정수 시퀀스로 변환\n",
    "encoder_input_train = src_tokenizer.texts_to_sequences(encoder_input_train) \n",
    "encoder_input_test = src_tokenizer.texts_to_sequences(encoder_input_test)\n",
    "\n",
    "# 잘 진행되었는지 샘플 출력\n",
    "print(encoder_input_train[:3])"
   ]
  },
  {
   "cell_type": "code",
   "execution_count": null,
   "id": "19e1e8ab",
   "metadata": {},
   "outputs": [],
   "source": [
    "tar_tokenizer = Tokenizer()\n",
    "tar_tokenizer.fit_on_texts(decoder_input_train)"
   ]
  },
  {
   "cell_type": "code",
   "execution_count": 27,
   "id": "6d38669b",
   "metadata": {},
   "outputs": [
    {
     "name": "stdout",
     "output_type": "stream",
     "text": [
      "단어 집합(vocabulary)의 크기 : 27525\n",
      "등장 빈도가 5번 이하인 희귀 단어의 수: 18220\n",
      "단어 집합에서 희귀 단어를 제외시킬 경우의 단어 집합의 크기 9305\n",
      "단어 집합에서 희귀 단어의 비율: 66.19436875567666\n",
      "전체 등장 빈도에서 희귀 단어 등장 빈도 비율: 6.7962219296391595\n"
     ]
    }
   ],
   "source": [
    "threshold = 6\n",
    "total_cnt = len(tar_tokenizer.word_index) # 단어의 수\n",
    "rare_cnt = 0 # 등장 빈도수가 threshold보다 작은 단어의 개수를 카운트\n",
    "total_freq = 0 # 훈련 데이터의 전체 단어 빈도수 총 합\n",
    "rare_freq = 0 # 등장 빈도수가 threshold보다 작은 단어의 등장 빈도수의 총 합\n",
    "\n",
    "# 단어와 빈도수의 쌍(pair)을 key와 value로 받는다.\n",
    "for key, value in tar_tokenizer.word_counts.items():\n",
    "    total_freq = total_freq + value\n",
    "\n",
    "    # 단어의 등장 빈도수가 threshold보다 작으면\n",
    "    if(value < threshold):\n",
    "        rare_cnt = rare_cnt + 1\n",
    "        rare_freq = rare_freq + value\n",
    "\n",
    "print('단어 집합(vocabulary)의 크기 :', total_cnt)\n",
    "print('등장 빈도가 %s번 이하인 희귀 단어의 수: %s'%(threshold - 1, rare_cnt))\n",
    "print('단어 집합에서 희귀 단어를 제외시킬 경우의 단어 집합의 크기 %s'%(total_cnt - rare_cnt))\n",
    "print(\"단어 집합에서 희귀 단어의 비율:\", (rare_cnt / total_cnt)*100)\n",
    "print(\"전체 등장 빈도에서 희귀 단어 등장 빈도 비율:\", (rare_freq / total_freq)*100)"
   ]
  },
  {
   "cell_type": "code",
   "execution_count": 28,
   "id": "9d01f96d",
   "metadata": {},
   "outputs": [
    {
     "name": "stdout",
     "output_type": "stream",
     "text": [
      "input\n",
      "input  [[1, 668, 422, 83, 729, 821], [1, 688, 1659, 622], [1, 851, 35], [1, 440, 273, 1348, 675], [1, 102, 255, 198, 23, 1122, 1624, 16]]\n",
      "target\n",
      "decoder  [[668, 422, 83, 729, 821, 2], [688, 1659, 622, 2], [851, 35, 2], [440, 273, 1348, 675, 2], [102, 255, 198, 23, 1122, 1624, 16, 2]]\n"
     ]
    }
   ],
   "source": [
    "tar_vocab = 2000\n",
    "tar_tokenizer = Tokenizer(num_words=tar_vocab) \n",
    "tar_tokenizer.fit_on_texts(decoder_input_train)\n",
    "tar_tokenizer.fit_on_texts(decoder_target_train)\n",
    "\n",
    "# 텍스트 시퀀스를 정수 시퀀스로 변환\n",
    "decoder_input_train = tar_tokenizer.texts_to_sequences(decoder_input_train) \n",
    "decoder_target_train = tar_tokenizer.texts_to_sequences(decoder_target_train)\n",
    "decoder_input_test = tar_tokenizer.texts_to_sequences(decoder_input_test)\n",
    "decoder_target_test = tar_tokenizer.texts_to_sequences(decoder_target_test)\n",
    "\n",
    "# 잘 변환되었는지 확인\n",
    "print('input')\n",
    "print('input ',decoder_input_train[:5])\n",
    "print('target')\n",
    "print('decoder ',decoder_target_train[:5])"
   ]
  },
  {
   "cell_type": "code",
   "execution_count": 29,
   "id": "93fb8d58",
   "metadata": {},
   "outputs": [
    {
     "name": "stdout",
     "output_type": "stream",
     "text": [
      "삭제할 훈련 데이터의 개수 : 218\n",
      "삭제할 테스트 데이터의 개수 : 58\n",
      "훈련 데이터의 개수 : 65338\n",
      "훈련 레이블의 개수 : 65338\n",
      "테스트 데이터의 개수 : 16331\n",
      "테스트 레이블의 개수 : 16331\n"
     ]
    }
   ],
   "source": [
    "drop_train = [index for index, sentence in enumerate(decoder_input_train) if len(sentence) == 1]\n",
    "drop_test = [index for index, sentence in enumerate(decoder_input_test) if len(sentence) == 1]\n",
    "\n",
    "print('삭제할 훈련 데이터의 개수 :', len(drop_train))\n",
    "print('삭제할 테스트 데이터의 개수 :', len(drop_test))\n",
    "\n",
    "encoder_input_train = [sentence for index, sentence in enumerate(encoder_input_train) if index not in drop_train]\n",
    "decoder_input_train = [sentence for index, sentence in enumerate(decoder_input_train) if index not in drop_train]\n",
    "decoder_target_train = [sentence for index, sentence in enumerate(decoder_target_train) if index not in drop_train]\n",
    "\n",
    "encoder_input_test = [sentence for index, sentence in enumerate(encoder_input_test) if index not in drop_test]\n",
    "decoder_input_test = [sentence for index, sentence in enumerate(decoder_input_test) if index not in drop_test]\n",
    "decoder_target_test = [sentence for index, sentence in enumerate(decoder_target_test) if index not in drop_test]\n",
    "\n",
    "print('훈련 데이터의 개수 :', len(encoder_input_train))\n",
    "print('훈련 레이블의 개수 :', len(decoder_input_train))\n",
    "print('테스트 데이터의 개수 :', len(encoder_input_test))\n",
    "print('테스트 레이블의 개수 :', len(decoder_input_test))"
   ]
  },
  {
   "cell_type": "markdown",
   "id": "997df13c",
   "metadata": {},
   "source": [
    "##### 패딩하기"
   ]
  },
  {
   "cell_type": "code",
   "execution_count": null,
   "id": "443e9d81",
   "metadata": {},
   "outputs": [],
   "source": [
    "encoder_input_train = pad_sequences(encoder_input_train, maxlen=text_max_len, padding='post')\n",
    "encoder_input_test = pad_sequences(encoder_input_test, maxlen=text_max_len, padding='post')\n",
    "decoder_input_train = pad_sequences(decoder_input_train, maxlen=headlines_max_len, padding='post')\n",
    "decoder_target_train = pad_sequences(decoder_target_train, maxlen=headlines_max_len, padding='post')\n",
    "decoder_input_test = pad_sequences(decoder_input_test, maxlen=headlines_max_len, padding='post')\n",
    "decoder_target_test = pad_sequences(decoder_target_test, maxlen=headlines_max_len, padding='post')"
   ]
  },
  {
   "cell_type": "markdown",
   "id": "ec3ced1f",
   "metadata": {},
   "source": [
    "###  모델 설계하기"
   ]
  },
  {
   "cell_type": "code",
   "execution_count": 31,
   "id": "a542b495",
   "metadata": {},
   "outputs": [],
   "source": [
    "from tensorflow.keras.layers import Input, LSTM, Embedding, Dense, Concatenate, TimeDistributed\n",
    "from tensorflow.keras.models import Model\n",
    "from tensorflow.keras.callbacks import EarlyStopping, ModelCheckpoint\n",
    "\n",
    "\n",
    "# 인코더 설계 시작\n",
    "embedding_dim = 128\n",
    "hidden_size = 256\n",
    "\n",
    "# 인코더\n",
    "encoder_inputs = Input(shape=(text_max_len,))\n",
    "\n",
    "# 인코더의 임베딩 층\n",
    "enc_emb = Embedding(src_vocab, embedding_dim)(encoder_inputs)\n",
    "\n",
    "# 인코더의 LSTM 1\n",
    "# encoder_lstm1 = LSTM(hidden_size, return_sequences=True, return_state=True ,dropout = 0.4, recurrent_dropout = 0.4)\n",
    "encoder_lstm1 = LSTM(hidden_size, return_sequences=True, return_state=True ,dropout = 0.4)\n",
    "encoder_output1, state_h1, state_c1 = encoder_lstm1(enc_emb)\n",
    "\n",
    "# 인코더의 LSTM 2\n",
    "encoder_lstm2 = LSTM(hidden_size, return_sequences=True, return_state=True, dropout=0.4)\n",
    "encoder_output2, state_h2, state_c2 = encoder_lstm2(encoder_output1)\n",
    "\n",
    "# 인코더의 LSTM 3\n",
    "encoder_lstm3 = LSTM(hidden_size, return_state=True, return_sequences=True, dropout=0.4)\n",
    "encoder_outputs, state_h, state_c = encoder_lstm3(encoder_output2)"
   ]
  },
  {
   "cell_type": "code",
   "execution_count": 32,
   "id": "7fd958b3",
   "metadata": {},
   "outputs": [],
   "source": [
    "# 디코더 설계\n",
    "decoder_inputs = Input(shape=(None,))\n",
    "\n",
    "# 디코더의 임베딩 층\n",
    "dec_emb_layer = Embedding(tar_vocab, embedding_dim)\n",
    "dec_emb = dec_emb_layer(decoder_inputs)\n",
    "\n",
    "# 디코더의 LSTM\n",
    "# decoder_lstm = LSTM(hidden_size, return_sequences=True, return_state=True, dropout=0.4, recurrent_dropout=0.2)\n",
    "decoder_lstm = LSTM(hidden_size, return_sequences=True, return_state=True, dropout=0.4)\n",
    "decoder_outputs, _, _ = decoder_lstm(dec_emb, initial_state=[state_h, state_c])"
   ]
  },
  {
   "cell_type": "code",
   "execution_count": 33,
   "id": "b1f1c1aa",
   "metadata": {},
   "outputs": [
    {
     "name": "stdout",
     "output_type": "stream",
     "text": [
      "Model: \"model\"\n",
      "__________________________________________________________________________________________________\n",
      "Layer (type)                    Output Shape         Param #     Connected to                     \n",
      "==================================================================================================\n",
      "input_1 (InputLayer)            [(None, 40)]         0                                            \n",
      "__________________________________________________________________________________________________\n",
      "embedding (Embedding)           (None, 40, 128)      1024000     input_1[0][0]                    \n",
      "__________________________________________________________________________________________________\n",
      "lstm (LSTM)                     [(None, 40, 256), (N 394240      embedding[0][0]                  \n",
      "__________________________________________________________________________________________________\n",
      "input_2 (InputLayer)            [(None, None)]       0                                            \n",
      "__________________________________________________________________________________________________\n",
      "lstm_1 (LSTM)                   [(None, 40, 256), (N 525312      lstm[0][0]                       \n",
      "__________________________________________________________________________________________________\n",
      "embedding_1 (Embedding)         (None, None, 128)    256000      input_2[0][0]                    \n",
      "__________________________________________________________________________________________________\n",
      "lstm_2 (LSTM)                   [(None, 40, 256), (N 525312      lstm_1[0][0]                     \n",
      "__________________________________________________________________________________________________\n",
      "lstm_3 (LSTM)                   [(None, None, 256),  394240      embedding_1[0][0]                \n",
      "                                                                 lstm_2[0][1]                     \n",
      "                                                                 lstm_2[0][2]                     \n",
      "__________________________________________________________________________________________________\n",
      "dense (Dense)                   (None, None, 2000)   514000      lstm_3[0][0]                     \n",
      "==================================================================================================\n",
      "Total params: 3,633,104\n",
      "Trainable params: 3,633,104\n",
      "Non-trainable params: 0\n",
      "__________________________________________________________________________________________________\n"
     ]
    }
   ],
   "source": [
    "# 디코더의 출력층\n",
    "decoder_softmax_layer = Dense(tar_vocab, activation='softmax')\n",
    "decoder_softmax_outputs = decoder_softmax_layer(decoder_outputs) \n",
    "\n",
    "# 모델 정의\n",
    "model = Model([encoder_inputs, decoder_inputs], decoder_softmax_outputs)\n",
    "model.summary()"
   ]
  },
  {
   "cell_type": "markdown",
   "id": "dbe869fc",
   "metadata": {},
   "source": [
    "#### Step 3. 어텐션 메커니즘 사용하기 (추상적 요약)\n",
    "##### 어텐션 메커니즘"
   ]
  },
  {
   "cell_type": "code",
   "execution_count": 34,
   "id": "d072a29e",
   "metadata": {},
   "outputs": [
    {
     "name": "stdout",
     "output_type": "stream",
     "text": [
      "Model: \"model_1\"\n",
      "__________________________________________________________________________________________________\n",
      "Layer (type)                    Output Shape         Param #     Connected to                     \n",
      "==================================================================================================\n",
      "input_1 (InputLayer)            [(None, 40)]         0                                            \n",
      "__________________________________________________________________________________________________\n",
      "embedding (Embedding)           (None, 40, 128)      1024000     input_1[0][0]                    \n",
      "__________________________________________________________________________________________________\n",
      "lstm (LSTM)                     [(None, 40, 256), (N 394240      embedding[0][0]                  \n",
      "__________________________________________________________________________________________________\n",
      "input_2 (InputLayer)            [(None, None)]       0                                            \n",
      "__________________________________________________________________________________________________\n",
      "lstm_1 (LSTM)                   [(None, 40, 256), (N 525312      lstm[0][0]                       \n",
      "__________________________________________________________________________________________________\n",
      "embedding_1 (Embedding)         (None, None, 128)    256000      input_2[0][0]                    \n",
      "__________________________________________________________________________________________________\n",
      "lstm_2 (LSTM)                   [(None, 40, 256), (N 525312      lstm_1[0][0]                     \n",
      "__________________________________________________________________________________________________\n",
      "lstm_3 (LSTM)                   [(None, None, 256),  394240      embedding_1[0][0]                \n",
      "                                                                 lstm_2[0][1]                     \n",
      "                                                                 lstm_2[0][2]                     \n",
      "__________________________________________________________________________________________________\n",
      "attention_layer (AdditiveAttent (None, None, 256)    256         lstm_3[0][0]                     \n",
      "                                                                 lstm_2[0][0]                     \n",
      "__________________________________________________________________________________________________\n",
      "concat_layer (Concatenate)      (None, None, 512)    0           lstm_3[0][0]                     \n",
      "                                                                 attention_layer[0][0]            \n",
      "__________________________________________________________________________________________________\n",
      "dense_1 (Dense)                 (None, None, 2000)   1026000     concat_layer[0][0]               \n",
      "==================================================================================================\n",
      "Total params: 4,145,360\n",
      "Trainable params: 4,145,360\n",
      "Non-trainable params: 0\n",
      "__________________________________________________________________________________________________\n"
     ]
    }
   ],
   "source": [
    "from tensorflow.keras.layers import AdditiveAttention\n",
    "\n",
    "# 어텐션 층(어텐션 함수)\n",
    "attn_layer = AdditiveAttention(name='attention_layer')\n",
    "\n",
    "# 인코더와 디코더의 모든 time step의 hidden state를 어텐션 층에 전달하고 결과를 리턴\n",
    "attn_out = attn_layer([decoder_outputs, encoder_outputs])\n",
    "\n",
    "\n",
    "# 어텐션의 결과와 디코더의 hidden state들을 연결\n",
    "decoder_concat_input = Concatenate(axis=-1, name='concat_layer')([decoder_outputs, attn_out])\n",
    "\n",
    "# 디코더의 출력층\n",
    "decoder_softmax_layer = Dense(tar_vocab, activation='softmax')\n",
    "decoder_softmax_outputs = decoder_softmax_layer(decoder_concat_input)\n",
    "\n",
    "# 모델 정의\n",
    "model = Model([encoder_inputs, decoder_inputs], decoder_softmax_outputs)\n",
    "model.summary()"
   ]
  },
  {
   "cell_type": "markdown",
   "id": "4f5dce6b",
   "metadata": {},
   "source": [
    "### 모델 훈련하기"
   ]
  },
  {
   "cell_type": "code",
   "execution_count": 35,
   "id": "2399969a",
   "metadata": {},
   "outputs": [
    {
     "name": "stdout",
     "output_type": "stream",
     "text": [
      "Epoch 1/50\n",
      "256/256 [==============================] - 29s 61ms/step - loss: 4.3415 - val_loss: 4.0610\n",
      "Epoch 2/50\n",
      "256/256 [==============================] - 14s 56ms/step - loss: 3.8462 - val_loss: 3.6999\n",
      "Epoch 3/50\n",
      "256/256 [==============================] - 15s 57ms/step - loss: 3.5615 - val_loss: 3.5006\n",
      "Epoch 4/50\n",
      "256/256 [==============================] - 15s 58ms/step - loss: 3.3444 - val_loss: 3.3160\n",
      "Epoch 5/50\n",
      "256/256 [==============================] - 15s 58ms/step - loss: 3.1809 - val_loss: 3.2052\n",
      "Epoch 6/50\n",
      "256/256 [==============================] - 15s 58ms/step - loss: 3.0481 - val_loss: 3.1272\n",
      "Epoch 7/50\n",
      "256/256 [==============================] - 15s 58ms/step - loss: 2.9315 - val_loss: 3.0447\n",
      "Epoch 8/50\n",
      "256/256 [==============================] - 15s 58ms/step - loss: 2.8290 - val_loss: 3.0023\n",
      "Epoch 9/50\n",
      "256/256 [==============================] - 15s 58ms/step - loss: 2.7376 - val_loss: 2.9315\n",
      "Epoch 10/50\n",
      "256/256 [==============================] - 15s 58ms/step - loss: 2.6571 - val_loss: 2.9033\n",
      "Epoch 11/50\n",
      "256/256 [==============================] - 15s 58ms/step - loss: 2.5830 - val_loss: 2.8624\n",
      "Epoch 12/50\n",
      "256/256 [==============================] - 15s 58ms/step - loss: 2.5127 - val_loss: 2.8433\n",
      "Epoch 13/50\n",
      "256/256 [==============================] - 15s 58ms/step - loss: 2.4487 - val_loss: 2.8165\n",
      "Epoch 14/50\n",
      "256/256 [==============================] - 15s 58ms/step - loss: 2.3893 - val_loss: 2.8009\n",
      "Epoch 15/50\n",
      "256/256 [==============================] - 15s 58ms/step - loss: 2.3323 - val_loss: 2.7907\n",
      "Epoch 16/50\n",
      "256/256 [==============================] - 15s 58ms/step - loss: 2.2783 - val_loss: 2.7822\n",
      "Epoch 17/50\n",
      "256/256 [==============================] - 15s 58ms/step - loss: 2.2286 - val_loss: 2.7689\n",
      "Epoch 18/50\n",
      "256/256 [==============================] - 15s 58ms/step - loss: 2.1818 - val_loss: 2.7618\n",
      "Epoch 19/50\n",
      "256/256 [==============================] - 15s 58ms/step - loss: 2.1359 - val_loss: 2.7597\n",
      "Epoch 20/50\n",
      "256/256 [==============================] - 15s 58ms/step - loss: 2.0932 - val_loss: 2.7656\n",
      "Epoch 21/50\n",
      "256/256 [==============================] - 15s 58ms/step - loss: 2.0544 - val_loss: 2.7639\n",
      "Epoch 00021: early stopping\n"
     ]
    }
   ],
   "source": [
    "model.compile(optimizer='rmsprop', loss='sparse_categorical_crossentropy')\n",
    "es = EarlyStopping(monitor='val_loss', patience=2, verbose=1) # 조기 종료 # patience : 검증 데이터의 손실이 줄어들지 않고 증가하는 현상\n",
    "\n",
    "history = model.fit(x=[encoder_input_train, decoder_input_train], y=decoder_target_train, \\\n",
    "          validation_data=([encoder_input_test, decoder_input_test], decoder_target_test), \\\n",
    "          batch_size=256, callbacks=[es], epochs=50)"
   ]
  },
  {
   "cell_type": "code",
   "execution_count": 36,
   "id": "596dc1a3",
   "metadata": {},
   "outputs": [
    {
     "data": {
      "image/png": "[encoded data removed]",
      "text/plain": [
       "<Figure size 432x288 with 1 Axes>"
      ]
     },
     "metadata": {
      "needs_background": "light"
     },
     "output_type": "display_data"
    }
   ],
   "source": [
    "plt.plot(history.history['loss'], label='train')\n",
    "plt.plot(history.history['val_loss'], label='test')\n",
    "plt.legend()\n",
    "plt.show()"
   ]
  },
  {
   "cell_type": "markdown",
   "id": "fd316982",
   "metadata": {},
   "source": [
    "epoch이 진행될수록 loss는 점점 감소하며, 증 데이터의 손실이 줄어들지 않고 증가하는 현상 2회 발생하여 21epoch 이후 학습 조기 종료함"
   ]
  },
  {
   "cell_type": "markdown",
   "id": "8239d8c0",
   "metadata": {},
   "source": [
    "##### 인퍼런스 모델 구현"
   ]
  },
  {
   "cell_type": "code",
   "execution_count": null,
   "id": "7e6f7a3c",
   "metadata": {},
   "outputs": [],
   "source": [
    "src_index_to_word = src_tokenizer.index_word # 원문 단어 집합에서 정수 -> 단어를 얻음\n",
    "tar_word_to_index = tar_tokenizer.word_index # 요약 단어 집합에서 단어 -> 정수를 얻음\n",
    "tar_index_to_word = tar_tokenizer.index_word # 요약 단어 집합에서 정수 -> 단어를 얻음"
   ]
  },
  {
   "cell_type": "code",
   "execution_count": null,
   "id": "9051af07",
   "metadata": {},
   "outputs": [],
   "source": [
    "# 인코더 설계\n",
    "encoder_model = Model(inputs=encoder_inputs, outputs=[encoder_outputs, state_h, state_c])\n",
    "\n",
    "# 이전 시점의 상태들을 저장하는 텐서\n",
    "decoder_state_input_h = Input(shape=(hidden_size,))\n",
    "decoder_state_input_c = Input(shape=(hidden_size,))\n",
    "\n",
    "dec_emb2 = dec_emb_layer(decoder_inputs)\n",
    "\n",
    "# 문장의 다음 단어를 예측하기 위해서 초기 상태(initial_state)를 이전 시점의 상태로 사용. 이는 뒤의 함수 decode_sequence()에 구현\n",
    "# 훈련 과정에서와 달리 LSTM의 리턴하는 은닉 상태와 셀 상태인 state_h와 state_c를 버리지 않음.\n",
    "decoder_outputs2, state_h2, state_c2 = decoder_lstm(dec_emb2, initial_state=[decoder_state_input_h, decoder_state_input_c])\n"
   ]
  },
  {
   "cell_type": "code",
   "execution_count": null,
   "id": "fcb78af5",
   "metadata": {},
   "outputs": [],
   "source": [
    "# 어텐션 함수\n",
    "decoder_hidden_state_input = Input(shape=(text_max_len, hidden_size))\n",
    "attn_out_inf = attn_layer([decoder_outputs2, decoder_hidden_state_input])\n",
    "decoder_inf_concat = Concatenate(axis=-1, name='concat')([decoder_outputs2, attn_out_inf])\n",
    "\n",
    "# 디코더의 출력층\n",
    "decoder_outputs2 = decoder_softmax_layer(decoder_inf_concat) \n",
    "\n",
    "# 최종 디코더 모델\n",
    "decoder_model = Model(\n",
    "    [decoder_inputs] + [decoder_hidden_state_input,decoder_state_input_h, decoder_state_input_c],\n",
    "    [decoder_outputs2] + [state_h2, state_c2])\n"
   ]
  },
  {
   "cell_type": "code",
   "execution_count": 40,
   "id": "805b09ce",
   "metadata": {},
   "outputs": [
    {
     "name": "stdout",
     "output_type": "stream",
     "text": [
      "=3\n"
     ]
    }
   ],
   "source": [
    "def decode_sequence(input_seq):\n",
    "    # 입력으로부터 인코더의 상태를 얻음\n",
    "    e_out, e_h, e_c = encoder_model.predict(input_seq)\n",
    "\n",
    "     # <SOS>에 해당하는 토큰 생성\n",
    "    target_seq = np.zeros((1,1))\n",
    "    target_seq[0, 0] = tar_word_to_index['sostoken']\n",
    "\n",
    "    stop_condition = False\n",
    "    decoded_sentence = ''\n",
    "    while not stop_condition: # stop_condition이 True가 될 때까지 루프 반복\n",
    "\n",
    "        output_tokens, h, c = decoder_model.predict([target_seq] + [e_out, e_h, e_c])\n",
    "        sampled_token_index = np.argmax(output_tokens[0, -1, :])\n",
    "        sampled_token = tar_index_to_word[sampled_token_index]\n",
    "\n",
    "        if (sampled_token!='eostoken'):\n",
    "            decoded_sentence += ' '+sampled_token\n",
    "\n",
    "        #  <eos>에 도달하거나 최대 길이를 넘으면 중단.\n",
    "        if (sampled_token == 'eostoken'  or len(decoded_sentence.split()) >= (headlines_max_len-1)):\n",
    "            stop_condition = True\n",
    "\n",
    "        # 길이가 1인 타겟 시퀀스를 업데이트\n",
    "        target_seq = np.zeros((1,1))\n",
    "        target_seq[0, 0] = sampled_token_index\n",
    "\n",
    "        # 상태를 업데이트 합니다.\n",
    "        e_h, e_c = h, c\n",
    "\n",
    "    return decoded_sentence"
   ]
  },
  {
   "cell_type": "code",
   "execution_count": null,
   "id": "358bea83",
   "metadata": {
    "scrolled": true
   },
   "outputs": [],
   "source": [
    "# 원문의 정수 시퀀스를 텍스트 시퀀스로 변환\n",
    "def seq2text(input_seq):\n",
    "    temp=''\n",
    "    for i in input_seq:\n",
    "        if (i!=0):\n",
    "            temp = temp + src_index_to_word[i]+' '\n",
    "    return temp\n",
    "\n",
    "# 요약문의 정수 시퀀스를 텍스트 시퀀스로 변환\n",
    "def seq2summary(input_seq):\n",
    "    temp=''\n",
    "    for i in input_seq:\n",
    "        if (i!=0):\n",
    "            if tar_index_to_word[i] == 'sostoken' or tar_index_to_word[i] == 'eostoken':\n",
    "                continue\n",
    "            temp = temp + tar_index_to_word[i]+' '\n",
    "    return temp\n"
   ]
  },
  {
   "cell_type": "markdown",
   "id": "ba3c48ed",
   "metadata": {},
   "source": [
    "#### Step 4. 실제 결과와 요약문 비교하기 (추상적 요약)\n",
    "##### 모델 테스트 하기"
   ]
  },
  {
   "cell_type": "code",
   "execution_count": 42,
   "id": "b6528dba",
   "metadata": {
    "scrolled": true
   },
   "outputs": [
    {
     "name": "stdout",
     "output_type": "stream",
     "text": [
      "원문 : central reserve police force said tuesday bus carrying amarnath pilgrims came attack terrorists violated security protocol bus pilgrims without police registered amarnath shrine board also pm security cover withdrawn \n",
      "실제 요약 : bus attacked terrorists security crpf \n",
      "예측 요약 :  crpf attack attack crpf\n",
      "\n",
      "\n",
      "원문 : chennai super kings captain mahendra singh dhoni slammed second biggest six ipl smashing delhi daredevils fast bowler khan full toss distance metres monday year old went hit five knock rcb ab de villiers hit biggest six tournament \n",
      "실제 요약 : ms dhoni six nd biggest ipl \n",
      "예측 요약 :  dhoni csk captain ipl\n",
      "\n",
      "\n",
      "원문 : maldives supreme court upheld result presidential election president lost opposition candidate ibrahim mohamed court rejected petition seeking result ruling failed prove elections initially conceded defeat called fresh elections later citing unfair elections \n",
      "실제 요약 : sc president poll defeat \n",
      "예측 요약 :  prez election vote election\n",
      "\n",
      "\n",
      "원문 : infosys co founder nandan nilekani friday tweeted joined infosys joined life turn full circle appointed non executive chairman infosys board thursday chairman co chairman ravi resigned nilekani said come execution guy move completed \n",
      "실제 요약 : infosys \n",
      "예측 요약 :  infosys co founder resigns\n",
      "\n",
      "\n",
      "원문 : hong kong public broadcasting service said reduce nearly year old hour british broadcasting corporation world service broadcast eight hours day replace china state radio channel move intended enhance cultural exchange china hong kong officials said \n",
      "실제 요약 : replace chinese years \n",
      "예측 요약 :  cancels group\n",
      "\n",
      "\n",
      "원문 : iran deputy foreign minister abbas warned country may withdraw nuclear deal coming weeks agreement european reached adding deal care unit called compensate us withdrawal deal \n",
      "실제 요약 : iran warns may withdraw nuclear deal weeks \n",
      "예측 요약 :  iran threatens nuclear deal\n",
      "\n",
      "\n",
      "원문 : japanese robot hotel na hotel fired half robot workers began robot assistant reportedly activated guest also unable answer guests queries actually use robots realise places needed people company said \n",
      "실제 요약 : japan robot hotel fires half robot workers \n",
      "예측 요약 :  robot robot robot\n",
      "\n",
      "\n",
      "원문 : harbhajan singh ex australia cricketer andrew claims broke crying apologising scandal happen broke harbhajan tweeted accused harbhajan abusing sydney test claimed harbhajan apologised playing mumbai indians \n",
      "실제 요약 : break harbhajan denies \n",
      "예측 요약 :  harbhajan claims harbhajan\n",
      "\n",
      "\n",
      "원문 : named lawsuit alleged executives lied shareholders explained cloud sales growing lawsuit claimed engaged threats sell cloud products creating model fell apart investors alleged lost money stock march reporting disappointing results \n",
      "실제 요약 : accused investors sales growth \n",
      "예측 요약 :  sues rival rival investors\n",
      "\n",
      "\n",
      "원문 : many teams nations independence seeking regions minority communities participating rebel world cup taking place london world football cup matches taking place non league grounds across uk capital teams include tibet united japan among others \n",
      "실제 요약 : world cup taking place london \n",
      "예측 요약 :  spain wc world cup\n",
      "\n",
      "\n",
      "원문 : china urged allies afghanistan pakistan improve relations establish crisis prevention management mechanism properly deal kind sudden tensions pakistan afghanistan increased recent times afghanistan accusing pakistan supporting taliban india influence afghanistan \n",
      "실제 요약 : china urges afghan pak form crisis \n",
      "예측 요약 :  us troops afghanistan afghanistan\n",
      "\n",
      "\n",
      "원문 : hailing supreme court verdict right privacy union minister ravi shankar prasad said absolute right added want give speech naked allowed like fundamental rights privacy also subject restrictions said however prasad refused comment legal challenge aadhaar \n",
      "실제 요약 : want give speech naked allowed prasad \n",
      "예측 요약 :  right right right sc\n",
      "\n",
      "\n",
      "원문 : pakistani actor singer ali zafar denied sexual harassment allegations made actress singer saying nothing hide zafar added silence absolutely option take courts law address earlier said felt zafar behaviour attitude \n",
      "실제 요약 : nothing ali denies sexual harassment claims \n",
      "예측 요약 :  actor sexual harassment row\n",
      "\n",
      "\n",
      "원문 : bengaluru based online shopping portal fashion lifestyle products suspended operations reportedly exercise however website read doors might temporarily closed come back something better founded sanjay shroff luxury products fashion accessories \n",
      "실제 요약 : online fashion startup suspends operations \n",
      "예측 요약 :  app uses mumbai civic body\n",
      "\n",
      "\n",
      "원문 : pm narendra modi thursday commissioned india first indigenous class submarine navy mumbai naval tonne india first new diesel electric submarine years followed five crore project equipped weapon launching \n",
      "실제 요약 : st made india class service \n",
      "예측 요약 :  india st ever pm modi\n",
      "\n",
      "\n",
      "원문 : ryan international school gurugram bus conductor allegedly killed year old separate toilets staff like bus drivers fact finding committee found security system check people entering school team also mentioned cctv cameras cover parts school \n",
      "실제 요약 : probe reveals gurugram school security \n",
      "예측 요약 :  ryan school bus students murder\n",
      "\n",
      "\n",
      "원문 : manipur scientist claims successfully indian hybrid latest hybrid hybrid two kishore average hybrid heat unit scale content \n",
      "실제 요약 : india claims scientist \n",
      "예측 요약 :  reveals\n",
      "\n",
      "\n",
      "원문 : google facing legal action claims tracked recorded users locations without consent even location tracking turned company investigation arizona attorney general looking whether search firm users google could allegedly face huge fines per violation claims confirmed \n",
      "실제 요약 : google faces legal action users without \n",
      "예측 요약 :  google employees\n",
      "\n",
      "\n",
      "원문 : bound delta flight forced make emergency landing new york bird struck aircraft one engines shut due impact flight carrying passengers landed safely meanwhile airline spokesperson said plane gate maintenance evaluation \n",
      "실제 요약 : plane makes emergency landing hits aircraft \n",
      "예측 요약 :  flight makes emergency landing\n",
      "\n",
      "\n",
      "원문 : us president donald trump asked lawmakers additional billion urgent missile defence north korea request supports additional efforts detect defeat defend north korean use ballistic missiles us deployed forces allies partners trump wrote letter congress \n",
      "실제 요약 : trump seeks another billion defence korea \n",
      "예측 요약 :  trump sanctions defence missile\n",
      "\n",
      "\n",
      "원문 : zoo japan thursday said searching kg giant female escaped second time two weeks zoo staffer said one metre walk faster ever imagine added worried \n",
      "실제 요약 : female second time weeks \n",
      "예측 요약 :  japan\n",
      "\n",
      "\n",
      "원문 : senior doctor arrested jharkhand allegedly forcing year old girl convert said police doctor accused girl telling would converted religious meeting rescued village religious meeting going \n",
      "실제 요약 : doctor offers yr old arrested \n",
      "예측 요약 :  arrested minor girl\n",
      "\n",
      "\n",
      "원문 : mocking idea former us state secretary john running president donald trump tweeted lucky trump called father terminated iran nuclear deal notably said interview really thinking running office \n",
      "실제 요약 : would runs office trump \n",
      "예측 요약 :  trump says chief\n",
      "\n",
      "\n",
      "원문 : per reports salman planning release production tubelight china seek aamir khan advice market following film india release aamir dangal recently became one highest grossing films china tubelight set indo china war also stars chinese actress \n",
      "실제 요약 : salman seek aamir help film china release report \n",
      "예측 요약 :  co founder khan release china\n",
      "\n",
      "\n",
      "원문 : bjp candidate madhu azad friday became first woman mayor gurugram getting unanimously chosen deputy mayor post bagged bjp candidate congress backed independent candidate bagged post senior deputy mayor municipal corporation gurugram elections bjp managed get majority gathering support \n",
      "실제 요약 : bjp becomes gurugram first woman mayor \n",
      "예측 요약 :  bjp bjp appoints first female\n",
      "\n",
      "\n",
      "원문 : election commission directed two aiadmk one led panneerselvam another sasikala remove twin leaves poll symbol websites social media earlier poll panel frozen usage poll symbol name aiadmk upcoming polls \n",
      "실제 요약 : aiadmk asked remove two leaves site \n",
      "예측 요약 :  ec members paper paper\n",
      "\n",
      "\n",
      "원문 : talking advances artificial intelligence microsoft ceo satya nadella said company going everything ai also said going perception capability language capability going built applications going forward self driving projects everywhere nadella added \n",
      "실제 요약 : microsoft ai ceo \n"
     ]
    },
    {
     "name": "stdout",
     "output_type": "stream",
     "text": [
      "예측 요약 :  microsoft working ai ceo\n",
      "\n",
      "\n",
      "원문 : kerala sabarimala temple recorded highest ever collection crore pilgrimage season state tourism minister said tuesday temple witnessed increase crore collection season compared last season added state spent crore construction activities pilgrimage season said \n",
      "실제 요약 : sabarimala temple record crore \n",
      "예측 요약 :  sabarimala temple crore\n",
      "\n",
      "\n",
      "원문 : year old man survived last year mass shooting las vegas killed among killed wednesday mass shooting california graduate thousand high school later joined navy many people killed mass shooting bar wednesday \n",
      "실제 요약 : shooting killed mass shooting \n",
      "예측 요약 :  killed injured shooting\n",
      "\n",
      "\n",
      "원문 : samsung president ceo dj announced company make least million phones available first half also said met google ceo sundar pichai develop software interface phone phone official name yet added \n",
      "실제 요약 : samsung make least million phones \n",
      "예측 요약 :  samsung founders sell android\n",
      "\n",
      "\n",
      "원문 : india fiscal deficit april january reached target current fiscal year ends march fiscal deficit stood trillion net tax first ten months trillion government data showed earlier fiscal deficit target current year raised gdp \n",
      "실제 요약 : april jan hits full year target \n",
      "예측 요약 :  india rises month high\n",
      "\n",
      "\n",
      "원문 : installed pune park town people driving wrong side metal strip functions speed vehicles right side opposite side tyres vehicles driven wrong side strip costing around lakh installed last month \n",
      "실제 요약 : pune people driving wrong side \n",
      "예측 요약 :  mayor road rain\n",
      "\n",
      "\n",
      "원문 : apple reportedly wait till release first iphone decision reportedly could result apple dispute qualcomm switch intel sole provider chips intel current chip reportedly facing problems heat power consumption would chip ready \n",
      "실제 요약 : apple till release first iphone report \n",
      "예측 요약 :  apple reveals iphone report\n",
      "\n",
      "\n",
      "원문 : actress swara bhasker revealed sexually harassed director workplace took six eight years realise exactly happened much culture silence around issue sexual harassment going lives without recognising properly recognise added \n",
      "실제 요약 : took years sexually director swara \n",
      "예측 요약 :  sexual harassment allegations\n",
      "\n",
      "\n",
      "원문 : bangladesh cricket team limited overs captain tuesday announced retire international cricket end series sri lanka year old pace bowler featured matches nation far picking wickets registering runs average \n",
      "실제 요약 : captain announces retirement \n",
      "예측 요약 :  bangladesh captain takes wickets test series\n",
      "\n",
      "\n",
      "원문 : us based study fossil preserve soft like hair called rare lack hair five times could also due scientists collection could lead missing important finds said researchers \n",
      "실제 요약 : study hair find \n",
      "예측 요약 :  study\n",
      "\n",
      "\n",
      "원문 : russian believed carrying gold worth billion found south korean island japanese war firm discovered ship said raise vessel later year give half gold found aboard russian government \n",
      "실제 요약 : russian ship bn gold found korea \n",
      "예측 요약 :  russian billionaire lost crore\n",
      "\n",
      "\n",
      "원문 : uk based energy drinks company rich energy talks buy vijay mallya owned formula one team force india according reports rich energy reportedly leading consortium planning million takeover team mallya currently facing extradition india charges money laundering defrauding banks crore \n",
      "실제 요약 : uk firm talks buy mallya team reports \n",
      "예측 요약 :  mallya mallya\n",
      "\n",
      "\n",
      "원문 : bangladesh cricket board granted rounder al hasan break tests six months requested allowed break tour south africa said play second test wants played tests missed since debut \n",
      "실제 요약 : allowed take break test cricket \n",
      "예측 요약 :  cricket cricket\n",
      "\n",
      "\n",
      "원문 : cryptocurrency billionaire banking matthew died suddenly age mexico attending drug rehabilitation facility made fortune cryptocurrency turning million investment billion matthew previously fought addiction spending per month taking per day \n",
      "실제 요약 : crypto billionaire dies aged \n",
      "예측 요약 :  billionaire dies\n",
      "\n",
      "\n",
      "원문 : union minister satya pal singh friday said caste system time lord ram hanuman time one caste lord hanuman belonged caste added singh statement comes days uttar pradesh chief minister yogi adityanath called hindu god hanuman dalit \n",
      "실제 요약 : caste system time lord union minister \n",
      "예측 요약 :  triple talaq minister\n",
      "\n",
      "\n",
      "원문 : jammu bar association chief bs said association wants action guilty kathua rape case adding campaign body attempted divide state comes deepika counsel appearing eight year old victim family alleged threatened court taking case \n",
      "실제 요약 : false info us bar body kathua case \n",
      "예측 요약 :  kathua accused kathua case\n",
      "\n",
      "\n",
      "원문 : undisclosed income crore identified following centre demonetisation decision till march central board direct taxes chairman sushil chandra said moreover since note ban many lakh persons identified whose cash transactions appear line taxpayers chandra added \n",
      "실제 요약 : income crore post note ban \n",
      "예측 요약 :  dept new notes\n",
      "\n",
      "\n",
      "원문 : expressing restaurants berlin know speak german deputy finance minister called said everyone know local language ensure peaceful locals foreigners however berlin business senator encouraged use english language \n",
      "실제 요약 : german \n",
      "예측 요약 :  hope language language\n",
      "\n",
      "\n",
      "원문 : amazon reported biggest quarterly profit year history making billion profit april june period compared million last year jump attributed amazon ad sales generated billion recently commerce giant crossed billion market cap first time trailing apple world valuable company \n",
      "실제 요약 : amazon posts highest ever profit billion \n",
      "예측 요약 :  amazon profit rises billion\n",
      "\n",
      "\n",
      "원문 : mercedes benz india launched new class luxury progressive design state art system safety features new class range comprises progressive prime powerful line class gets powerful bs engine priced lakhs \n",
      "실제 요약 : india launches class \n",
      "예측 요약 :  launches new\n",
      "\n",
      "\n",
      "원문 : year old man stabbed death allegedly wife help lover uttar pradesh muzaffarnagar saturday killed allegedly opposing wife relationship man police officer said knife purportedly used commit crime recovered added \n",
      "실제 요약 : husband stabbed death wife \n",
      "예측 요약 :  man kills wife wife\n",
      "\n",
      "\n",
      "원문 : artist alex installed statue act girl statue front wall street charging bull girl statue installed comment gender however said nothing artist made bull \n",
      "실제 요약 : statue next girl \n",
      "예측 요약 :  temple temple\n",
      "\n",
      "\n",
      "원문 : calcutta high court judge justice karnan ordered medical examination seven supreme court judges ordered test contempt case direct dgp new delhi take seven accused produce medical board attached aiims conduct medical test justice karnan said \n",
      "실제 요약 : wants medical test sc judges wanted one \n",
      "예측 요약 :  sc judge judge case\n",
      "\n",
      "\n",
      "원문 : new delhi based mobile technology startup software shut internet things business leading several job cuts received million seed funding tiger global flipkart october founded launched first product bluetooth controlled colour changing smart november \n",
      "실제 요약 : tiger global startup shuts business \n",
      "예측 요약 :  patanjali delivery startup raises crore\n",
      "\n",
      "\n"
     ]
    }
   ],
   "source": [
    "for i in range(50, 100):\n",
    "    print(\"원문 :\", seq2text(encoder_input_test[i]))\n",
    "    print(\"실제 요약 :\", seq2summary(decoder_input_test[i]))\n",
    "    print(\"예측 요약 :\", decode_sequence(encoder_input_test[i].reshape(1, text_max_len)))\n",
    "    print(\"\\n\")"
   ]
  },
  {
   "cell_type": "markdown",
   "id": "e8519e67",
   "metadata": {},
   "source": [
    "#### Step 5. Summa을 이용해서 추출적 요약해보기"
   ]
  },
  {
   "cell_type": "code",
   "execution_count": 43,
   "id": "5b8e1eb3",
   "metadata": {},
   "outputs": [],
   "source": [
    "import requests\n",
    "from summa.summarizer import summarize"
   ]
  },
  {
   "cell_type": "code",
   "execution_count": 54,
   "id": "30014720",
   "metadata": {
    "scrolled": true
   },
   "outputs": [
    {
     "name": "stdout",
     "output_type": "stream",
     "text": [
      "원문 : central reserve police force said tuesday bus carrying amarnath pilgrims came attack terrorists violated security protocol bus pilgrims without police registered amarnath shrine board also pm security cover withdrawn \n",
      "실제 요약 :  bus attacked terrorists security crpf \n",
      "예측 요약 :  crpf attack attack crpf\n",
      "예측 요약 : \n",
      "\n",
      "\n",
      "원문 : chennai super kings captain mahendra singh dhoni slammed second biggest six ipl smashing delhi daredevils fast bowler khan full toss distance metres monday year old went hit five knock rcb ab de villiers hit biggest six tournament \n",
      "실제 요약 :  ms dhoni six nd biggest ipl \n",
      "예측 요약 :  dhoni csk captain ipl\n",
      "예측 요약 : \n",
      "\n",
      "\n",
      "원문 : maldives supreme court upheld result presidential election president lost opposition candidate ibrahim mohamed court rejected petition seeking result ruling failed prove elections initially conceded defeat called fresh elections later citing unfair elections \n",
      "실제 요약 :  sc president poll defeat \n",
      "예측 요약 :  prez election vote election\n",
      "예측 요약 : \n",
      "\n",
      "\n",
      "원문 : infosys co founder nandan nilekani friday tweeted joined infosys joined life turn full circle appointed non executive chairman infosys board thursday chairman co chairman ravi resigned nilekani said come execution guy move completed \n",
      "실제 요약 :  infosys \n",
      "예측 요약 :  infosys co founder resigns\n",
      "예측 요약 : \n",
      "\n",
      "\n",
      "원문 : hong kong public broadcasting service said reduce nearly year old hour british broadcasting corporation world service broadcast eight hours day replace china state radio channel move intended enhance cultural exchange china hong kong officials said \n",
      "실제 요약 :  replace chinese years \n",
      "예측 요약 :  cancels group\n",
      "예측 요약 : \n",
      "\n",
      "\n",
      "원문 : iran deputy foreign minister abbas warned country may withdraw nuclear deal coming weeks agreement european reached adding deal care unit called compensate us withdrawal deal \n",
      "실제 요약 :  iran warns may withdraw nuclear deal weeks \n",
      "예측 요약 :  iran threatens nuclear deal\n",
      "예측 요약 : \n",
      "\n",
      "\n",
      "원문 : japanese robot hotel na hotel fired half robot workers began robot assistant reportedly activated guest also unable answer guests queries actually use robots realise places needed people company said \n",
      "실제 요약 :  japan robot hotel fires half robot workers \n",
      "예측 요약 :  robot robot robot\n",
      "예측 요약 : \n",
      "\n",
      "\n",
      "원문 : harbhajan singh ex australia cricketer andrew claims broke crying apologising scandal happen broke harbhajan tweeted accused harbhajan abusing sydney test claimed harbhajan apologised playing mumbai indians \n",
      "실제 요약 :  break harbhajan denies \n",
      "예측 요약 :  harbhajan claims harbhajan\n",
      "예측 요약 : \n",
      "\n",
      "\n",
      "원문 : named lawsuit alleged executives lied shareholders explained cloud sales growing lawsuit claimed engaged threats sell cloud products creating model fell apart investors alleged lost money stock march reporting disappointing results \n",
      "실제 요약 :  accused investors sales growth \n",
      "예측 요약 :  sues rival rival investors\n",
      "예측 요약 : \n",
      "\n",
      "\n",
      "원문 : many teams nations independence seeking regions minority communities participating rebel world cup taking place london world football cup matches taking place non league grounds across uk capital teams include tibet united japan among others \n",
      "실제 요약 :  world cup taking place london \n",
      "예측 요약 :  spain wc world cup\n",
      "예측 요약 : \n",
      "\n",
      "\n"
     ]
    }
   ],
   "source": [
    "for i in range(50, 60):\n",
    "    print(\"원문 :\", seq2text(encoder_input_test[i]))\n",
    "    print(\"실제 요약 : \", seq2summary(decoder_input_test[i]))\n",
    "    print(\"추상적 예측 요약 :\", decode_sequence(encoder_input_test[i].reshape(1, text_max_len)))\n",
    "    print(\"추출적 예측 요약 :\", summarize(seq2text(encoder_input_test[i]), ratio=0.5))\n",
    "#     print(\"예측 요약 :\", summarize(seq2text(encoder_input_test[i]), words=50))\n",
    "    print(\"\\n\")"
   ]
  },
  {
   "cell_type": "markdown",
   "id": "95d2ff5b",
   "metadata": {},
   "source": [
    "원문이 데이터 처리를 진행하면서 변경되어 진짜 원본을 reload 하여 추출적 요약 진행"
   ]
  },
  {
   "cell_type": "code",
   "execution_count": 61,
   "id": "15e535dc",
   "metadata": {},
   "outputs": [
    {
     "name": "stdout",
     "output_type": "stream",
     "text": [
      "원문 : Former Finance Minister Yashwant Sinha on Tuesday demanded a probe into the alleged diversion of loans worth Ã¢ÂÂ¹31,000 crore by Dewan Housing Finance (DHFL). All agencies including regulators of the government have failed to track nefarious deals, he said. This comes after a media report on Tuesday accused DHFL's controlling shareholders of diverting funds to shell companies to buy assets.\n",
      "실제 요약 :  Yashwant Sinha demands probe into alleged fund diversion by DHFL\n",
      "예측 요약 :  Former Finance Minister Yashwant Sinha on Tuesday demanded a probe into the alleged diversion of loans worth Ã¢ÂÂ¹31,000 crore by Dewan Housing Finance (DHFL).\n",
      "\n",
      "\n",
      "원문 : US-based Boeing on Wednesday reported annual sales worth $101.12 billion in 2018, the first time the planemaker's sales crossed the $100-billion mark in its 102-year history. The company said it expects to deliver between 895 and 905 commercial aircraft in 2019. Boeing retained its position as the world's largest planemaker for the seventh straight year, delivering 806 aircraft in 2018. \n",
      "실제 요약 :  Boeing sales cross $100bn for 1st time in its 102-yr history\n",
      "예측 요약 :  Boeing retained its position as the world's largest planemaker for the seventh straight year, delivering 806 aircraft in 2018.\n",
      "\n",
      "\n",
      "원문 : text\n",
      "실제 요약 :  headlines\n",
      "예측 요약 :  \n",
      "\n",
      "\n",
      "원문 : OnePlus has emerged as India's best-selling premium smartphone brand of 2018, as per a report by Counterpoint. It captured 36% of the market share in the premium segment, in Q4 2018. Further, its OnePlus 6 emerged as the highest selling premium smartphone of 2018 followed by OnePlus 6T.\n",
      "실제 요약 :  OnePlus named bestselling premium smartphone brand of 2018: Report\n",
      "예측 요약 :  Further, its OnePlus 6 emerged as the highest selling premium smartphone of 2018 followed by OnePlus 6T.\n",
      "\n",
      "\n",
      "원문 : Filmmaker Pooja Bhatt, while talking about the presentation of women in her films, said, \"I can never look at a female body, even if it's naked, in a vulgar manner.\" \"Our audience can say...the women in my films are bold or sensual, but never ever vulgar,\" she added. Pooja further said her censor board is her \"own heart and mind\".\n",
      "실제 요약 :  Can never look at female body, even if naked, in vulgar way: Pooja\n",
      "예측 요약 :  \n",
      "\n",
      "\n",
      "원문 : Actress Mishti, who has featured in 'Manikarnika: The Queen of Jhansi', has said the film's co-director Kangana Ranaut made false promises to the cast. \"Kangana had said, 'I want dates because all characters look jumbled up...I'm trying my best to give everybody a prominent space on screen.' After watching the movie, there is no scope for other characters,\" Mishti added. \n",
      "실제 요약 :  Kangana made fake promises to cast: 'Manikarnika' actress Mishti\n",
      "예측 요약 :  \n",
      "\n",
      "\n",
      "원문 : The high-powered committee led by PM Narendra Modi to select the next CBI Director will meet again on February 1, Congress leader Mallikarjun Kharge has said. The panel consisting of Kharge and Chief Justice of India Ranjan Gogoi met on January 24, but the meeting ended \"inconclusively\" after Kharge cited lack of details in the list of 80 IPS officers. \n",
      "실제 요약 :  PM-led panel to meet on Friday to pick new CBI chief: Kharge\n",
      "예측 요약 :  \n",
      "\n",
      "\n",
      "원문 : Nevada State Athletic Commission has banned MMA fighters Conor McGregor and Khabib Nurmagomedov for six months and nine months respectively over their roles in the mass brawl that occurred after their fight at UFC 229 last October. McGregor and Khabib have been fined $50,000 (Ã¢ÂÂ¹35 lakh) and $500,000 (Ã¢ÂÂ¹3.5 crore) respectively. The brawl occurred after Nurmagomedov confronted McGregor's teammate.\n",
      "실제 요약 :  McGregor fined Ã¢ÂÂ¹35 lakh, Khabib Ã¢ÂÂ¹3.5 crore for brawl; both banned\n",
      "예측 요약 :  Nevada State Athletic Commission has banned MMA fighters Conor McGregor and Khabib Nurmagomedov for six months and nine months respectively over their roles in the mass brawl that occurred after their fight at UFC 229 last October.\n",
      "\n",
      "\n",
      "원문 : Pakistan captain Sarfaraz Ahmed, who has been banned for four matches over racist remarks, took an apparent dig at his critics by sharing a video of a child reciting 'log hai na' poem on Twitter. \"Pyaar karna hai to khud se kar...dushmani karne ke liye log hai na,\" the poem read. \"This is how the world is,\" Sarfaraz wrote.\n",
      "실제 요약 :  Banned for 4 matches, Sarfaraz shares 'log hai na' poem for critics\n",
      "예측 요약 :  Pakistan captain Sarfaraz Ahmed, who has been banned for four matches over racist remarks, took an apparent dig at his critics by sharing a video of a child reciting 'log hai na' poem on Twitter.\n",
      "\n",
      "\n",
      "원문 : Banned cricketer Sreesanth has told Supreme Court he initially confessed to Delhi Police about his alleged involvement in 2013 IPL spot-fixing scandal to escape continuous police torture. Sreesanth further said the bookie tried dragging him into spot-fixing but he didn't fall for it. Citing Sreesanth not informing BCCI about fixing approach, the apex court said Sreesanth's conduct \"wasn't good\".\n",
      "실제 요약 :  Confessed to spot-fixing to escape police torture: Sreesanth to SC\n",
      "예측 요약 :  Sreesanth further said the bookie tried dragging him into spot-fixing but he didn't fall for it.\n",
      "\n",
      "\n",
      "원문 : The Finance Ministry on Wednesday said the government will present an Interim Budget on February 1. The clarification came amid speculations that a full Budget may be presented during the session. The government recently assigned Piyush Goyal temporary additional charge of the Finance and Corporate Affairs ministries in the absence of Arun Jaitley, who is in the US for treatment.\n",
      "실제 요약 :  Govt to present Interim Budget, not full Budget on February 1\n",
      "예측 요약 :  The Finance Ministry on Wednesday said the government will present an Interim Budget on February 1.\n",
      "\n",
      "\n",
      "원문 : US President Donald Trump on Wednesday called his country's top intelligence chiefs \"naive\" and \"wrong\" on Iran and added that they should perhaps \"go back to school\". Trump claimed Iran is testing rockets, calling the country \"a source of potential danger and conflict\". Top US intelligence officials on Tuesday said that Iran isn't currently taking steps towards building nuclear weapons.\n",
      "실제 요약 :  US intelligence naive and wrong, should go back to school: Trump\n",
      "예측 요약 :  US President Donald Trump on Wednesday called his country's top intelligence chiefs \"naive\" and \"wrong\" on Iran and added that they should perhaps \"go back to school\".\n",
      "\n",
      "\n",
      "원문 : A senior priest at the Vatican who handled cases of sexual abuse has quit after being accused of sexual abuse by a former nun. The accused priest claimed he is innocent and said he would consider taking legal action. The Vatican said in a statement that a Church investigation of the case was underway.\n",
      "실제 요약 :  Vatican priest handling sex abuse cases quits over alleged sex abuse\n",
      "예측 요약 :  A senior priest at the Vatican who handled cases of sexual abuse has quit after being accused of sexual abuse by a former nun.\n",
      "\n",
      "\n",
      "원문 : A 22-year-old writer turned down a job offer, claiming she was bullied to the point of tears during her two-hour interview by a UK company's CEO. Olivia Bland added the \"brutal\" interview brought back painful memories of her abusive relationship. \"I am so sorry that anyone has been hurt, it is never my intent,\" Web Applications CEO Craig Dean replied. \n",
      "실제 요약 :  Woman rejects job after CEO bullies her in interview; he apologises\n",
      "예측 요약 :  A 22-year-old writer turned down a job offer, claiming she was bullied to the point of tears during her two-hour interview by a UK company's CEO.\n",
      "\n",
      "\n",
      "원문 : Noida Police has arrested Sector 20 station in-charge Manoj Pant and three journalists for allegedly extorting money from a call centre owner for removing his name from an FIR. The four were caught while taking bribe money of Ã¢ÂÂ¹8 lakh, police said. Pant was the lead investigator in the Paytm extortion case involving Founder Vijay Shekhar Sharma's secretary Sonia Dhawan.\n",
      "실제 요약 :  Police officer probing Paytm extortion case arrested for extortion\n",
      "예측 요약 :  Noida Police has arrested Sector 20 station in-charge Manoj Pant and three journalists for allegedly extorting money from a call centre owner for removing his name from an FIR.\n",
      "\n",
      "\n",
      "원문 : Airtel on Wednesday said that Qatar's sovereign wealth fund Qatar Investment Authority will invest $200 million through a primary equity issuance in Airtel Africa. India's second-largest telecom operator's Africa unit recently raised $1.25 billion from six investors. Airtel Africa, the holding company for Airtel's operations in 14 African countries, is preparing for an initial public offering.\n",
      "실제 요약 :  Qatar to invest $200 million in Airtel Africa\n",
      "예측 요약 :  Airtel Africa, the holding company for Airtel's operations in 14 African countries, is preparing for an initial public offering.\n",
      "\n",
      "\n",
      "원문 : Actor Shreyas Talpade said that 'Golmaal' filmmaker Rohit Shetty is still working on the script for the fifth instalment of the 'Golmaal' film franchise. \"He was telling us the other day that he...cracked some story. Once he's done with the...scripting, he'll take a call,Ã¢ÂÂ the actor added. The series features Shreyas along with Ajay Devgn, Arshad Warsi and Tusshar Kapoor.\n",
      "실제 요약 :  Rohit Shetty still working on script for Golmaal 5: Shreyas\n",
      "예측 요약 :  Actor Shreyas Talpade said that 'Golmaal' filmmaker Rohit Shetty is still working on the script for the fifth instalment of the 'Golmaal' film franchise.\n",
      "\n",
      "\n",
      "원문 : A 72-year-old man named Terry Sanderson has sued 'Avengers' actress Gwyneth Paltrow for allegedly crashing into him while skiing, and is seeking $3.1 million (over Ã¢ÂÂ¹22 crore) in damages. The lawsuit states the actress got up and skied away after knocking the man down, leaving him with broken ribs. The incident reportedly took place in 2016 in Utah, US. \n",
      "실제 요약 :  Man sues Avengers actress Gwyneth for Ã¢ÂÂ¹22 crore over ski crash\n",
      "예측 요약 :  A 72-year-old man named Terry Sanderson has sued 'Avengers' actress Gwyneth Paltrow for allegedly crashing into him while skiing, and is seeking $3.1 million (over Ã¢ÂÂ¹22 crore) in damages.\n",
      "\n",
      "\n",
      "원문 : Yami Gautam was felicitated by Border Security Force (BSF) in Amritsar for her performance in 'Uri: The Surgical Strike'. \"BSF is the first line of defence of our country and it gives me...pride to have met them,\" Yami said. The film, which also stars Vicky Kaushal, is based on the Indian Army's surgical strike operation which took place in 2016.\n",
      "실제 요약 :  Yami Gautam felicitated by BSF for performance in 'Uri...'\n",
      "예측 요약 :  Yami Gautam was felicitated by Border Security Force (BSF) in Amritsar for her performance in 'Uri: The Surgical Strike'.\n",
      "\n",
      "\n",
      "원문 : Social media giant Facebook has hired privacy critic Nate Cardozo, formerly the top legal counsel for US privacy watchdog EFF, as a privacy policy manager for WhatsApp. Cardozo had called Facebook a \"faceless corporation\" whose business model depends on user's confusion and indifference about privacy, in October 2015. Facebook has also hired attorney Robyn Greene as its privacy policy manager.\n",
      "실제 요약 :  Facebook hires its privacy critic as privacy policy manager\n",
      "예측 요약 :  \n",
      "\n",
      "\n",
      "원문 : Apple CEO Tim Cook said the company plans to lower some iPhones' prices in markets with currencies that weakened against the US dollar in the past year. \"WeÃ¢ÂÂve decided to go back to (iPhone prices) more commensurate with...local prices...a year ago,\" Cook added. The price cuts, in hopes of increasing sales, are reportedly occurring for second time in 12 years.\n",
      "실제 요약 :  Apple to cut some iPhones' prices outside US over strong dollar\n",
      "예측 요약 :  \"WeÃ¢ÂÂve decided to go back to (iPhone prices) more commensurate with...local prices...a year ago,\" Cook added.\n",
      "\n",
      "\n",
      "원문 : Scientists in Australia's Flinders University are testing a wetsuit prototype that could protect its wearer after a shark attack. The suit, made of synthetic material similar to the material used in bulletproof vests, could help reduce blood loss after a shark attack. \"The majority of fatalities from shark bites is due to blood loss...shock from blood loss,\" a scientist said.\n",
      "실제 요약 :  Scientists test wetsuit to protect wearer after shark attack\n",
      "예측 요약 :  \"The majority of fatalities from shark bites is due to blood loss...shock from blood loss,\" a scientist said.\n",
      "\n",
      "\n",
      "원문 : BJP National Secretary Rahul Sinha on Wednesday asked the party workers in West Bengal to come armed with sticks to PM Narendra Modi's rally in the state on February 2. His statement came a day after clashes broke out following BJP chief Amit Shah's WB rally. Sinha added the TMC is indulged in violence as they're afraid of BJP's strength.\n",
      "실제 요약 :  Come armed with sticks for PM Modi's rally in WB: BJP leader\n",
      "예측 요약 :  BJP National Secretary Rahul Sinha on Wednesday asked the party workers in West Bengal to come armed with sticks to PM Narendra Modi's rally in the state on February 2.\n",
      "\n",
      "\n",
      "원문 : BJP President Amit Shah on Wednesday took a dig at the Opposition parties saying that the 'mahagathbandhan' for the Opposition is 4B - \"Bua-Bhatija-Bhai-Behen\". He added that 4B for the BJP meant \"Badhta Bharat, Banta Bharat\". He said Opposition's government cannot take the country ahead and \"only Modiji can provide a 'mazboot' (strong) government\".\n",
      "실제 요약 :  '4B' for Opposition is 'Bua-Bhatija-Bhai-Behen': Amit Shah\n",
      "예측 요약 :  BJP President Amit Shah on Wednesday took a dig at the Opposition parties saying that the 'mahagathbandhan' for the Opposition is 4B - \"Bua-Bhatija-Bhai-Behen\".\n",
      "\n",
      "\n",
      "원문 : German automaker Volkswagen Group has retained the car industry's top spot in global sales, beating its Japanese rival Toyota. Volkswagen's sales, including its MAN and Scania heavy trucks and buses, rose 0.9% to 10.83 million in 2018, the company had said. Toyota came second with around 10.6 million deliveries, including its affiliated brands Daihatsu and Hino, in 2018.\n",
      "실제 요약 :  Volkswagen retains top spot in global sales, beats Toyota\n",
      "예측 요약 :  Volkswagen's sales, including its MAN and Scania heavy trucks and buses, rose 0.9% to 10.83 million in 2018, the company had said.\n",
      "\n",
      "\n",
      "원문 : Ousted Nissan Chairman Carlos Ghosn has said his arrest over alleged financial misconduct was led by \"plot and treason\" by the Japanese carmaker's executives who opposed its deeper integration with Renault and Mitsubishi. Ghosn added he had discussed the integration plans with Nissan's CEO in September, a month before his arrest. He further said he wouldn't flee if granted bail.\n",
      "실제 요약 :  Plot, treason by Nissan executives led to my arrest: Ghosn\n",
      "예측 요약 :  Ousted Nissan Chairman Carlos Ghosn has said his arrest over alleged financial misconduct was led by \"plot and treason\" by the Japanese carmaker's executives who opposed its deeper integration with Renault and Mitsubishi.\n",
      "\n",
      "\n",
      "원문 : The government has cut down customs duty on import of parts and components for electric vehicles to 10-15%, down from the previous 15-30%. The Central Board of Indirect Taxes and Customs said disassembled parts will attract 10% duty, whereas 15% will be levied on pre-assembled packs. However, fully built electric vehicles will continue to attract 25% import duty.\n",
      "실제 요약 :  Govt cuts customs duty on electric vehicle parts to 10-15%\n",
      "예측 요약 :  The government has cut down customs duty on import of parts and components for electric vehicles to 10-15%, down from the previous 15-30%.\n",
      "\n",
      "\n",
      "원문 : Government officials on Wednesday said that a swine flu outbreak has killed 76 people this year in Rajasthan. Colder weather has worsened the seasonal outbreak of the H1N1 virus in the country, officials added. Rajasthan recorded more than a third of all swine flu deaths in India with Jodhpur being the worst affected area in the state, officials said.\n",
      "실제 요약 :  Swine flu outbreak kills 76 in Rajasthan\n",
      "예측 요약 :  Government officials on Wednesday said that a swine flu outbreak has killed 76 people this year in Rajasthan.\n",
      "\n",
      "\n",
      "원문 : North Korea is \"unlikely to completely give up its nuclear weapons and production capabilities\", Director of US' National Intelligence, Daniel Coats, said. \"North Korean leaders view nuclear arms as critical to regime survival,\" he added. His statements come despite North Korea's agreement with the US at the Singapore summit last year to denuclearise the Korean Peninsula. \n",
      "실제 요약 :  N Korea unlikely to give up nuclear weapons: US intelligence chief\n",
      "예측 요약 :  \"North Korean leaders view nuclear arms as critical to regime survival,\" he added.\n",
      "\n",
      "\n",
      "원문 : Jet Airways on Wednesday denied it was directed by GE Capital Aviation Services to ground its aircraft due to non-payment of dues. The airline said it's in the process of delivering three aircraft to lessors due to the expiry of lease terms. Further, three aircraft have been temporarily grounded to carry out an engine normalisation exercise, it added.\n",
      "실제 요약 :  Jet Airways denies being told to ground aircraft\n",
      "예측 요약 :  Further, three aircraft have been temporarily grounded to carry out an engine normalisation exercise, it added.\n",
      "\n",
      "\n",
      "원문 : Retired Justice Srikrishna's enquiry panel has found that ex-CEO Chanda Kochhar violated ICICI Bank's code of conduct. The bank said it'll treat Kochhar's exit as termination and will take back all bonuses paid to her from April 2009 until March 2018. The CBI recently filed a case against Kochhar, her husband, and Videocon MD in the ICICI-Videocon loan case.\n",
      "실제 요약 :  ICICI fires Chanda Kochhar, to take back bonuses paid in last 9 yrs\n",
      "예측 요약 :  Retired Justice Srikrishna's enquiry panel has found that ex-CEO Chanda Kochhar violated ICICI Bank's code of conduct.\n",
      "\n",
      "\n",
      "원문 : Ex-India cricketer Jacob Martin has been shifted to general ward from the ICU after being on a ventilator for nearly a month following a road accident, wherein he severely injured his lungs. Martin's wife Khyati mentioned there are chances that Jacob will be in hospital for two more months. BCCI, CSK and various cricketers provided financial assistance for Martin's treatment.\n",
      "실제 요약 :  Ex-cricketer Martin out of ICU after being on ventilator for a month\n",
      "예측 요약 :  Ex-India cricketer Jacob Martin has been shifted to general ward from the ICU after being on a ventilator for nearly a month following a road accident, wherein he severely injured his lungs.\n",
      "\n",
      "\n",
      "원문 : Sri Lanka all-rounder Thisara Perera has written to Sri Lanka Cricket CEO Ashley de Silva, asking the board to intervene after ODI captain Lasith Malinga's wife Tanya targeted him on Facebook. Tanya accused Perera of meeting country's Sports Minister to secure his place in the team. \"We've become laughing stock of whole country...because of one person's personal vendetta,\" Perera wrote.\n",
      "실제 요약 :  Malinga's wife targets Perera on Facebook, he seeks board's help\n",
      "예측 요약 :  Tanya accused Perera of meeting country's Sports Minister to secure his place in the team.\n",
      "\n",
      "\n",
      "원문 : Goa CM and ex-Defence Minister Manohar Parrikar has written a letter to Congress President Rahul Gandhi over his claim that Parrikar told him he has nothing to do with new Rafale deal. Parrikar wrote, \"Kindly do not use your visit to an ailing person to feed political opportunism.\" In their five-minute meeting, they didn't discuss anything about Rafale, he added.\n",
      "실제 요약 :  Don't use visit to ailing man for political gains: Goa CM to Rahul\n",
      "예측 요약 :  \n",
      "\n",
      "\n",
      "원문 : Prime Minister Narendra Modi stopped his speech at the inauguration of the new terminal building at Surat airport after observing that a cameraman had fainted. PM Modi then asked his officers to urgently arrange for an ambulance for the cameraman. \"It's good that PM was paying attention to his surroundings during his speech,\" the cameraman later said from a hospital. \n",
      "실제 요약 :  PM Modi stops speech after cameraman faints, asks officers to help\n",
      "예측 요약 :  PM Modi then asked his officers to urgently arrange for an ambulance for the cameraman.\n",
      "\n",
      "\n",
      "원문 : A couple got divorced minutes after their wedding ceremony got over in Gujarat's Gondal as a disagreement broke out and relatives from both sides started throwing dishes at each other during lunch. The advocates representing both sides arrived at the marriage hall and got the couple divorced within minutes. The couple even reportedly returned the gifts exchanged during the ceremony.\n",
      "실제 요약 :  Couple divorces minutes after marriage as families fight over lunch\n",
      "예측 요약 :  A couple got divorced minutes after their wedding ceremony got over in Gujarat's Gondal as a disagreement broke out and relatives from both sides started throwing dishes at each other during lunch.\n",
      "\n",
      "\n",
      "원문 : Gujarat Education Minister Bhupendrasinh Chudasma has written a congratulatory message to a yoga ashram run by rape-convict Asaram's organisation for observing February 14 as \"Matru-Pitru Pujan Divas\" (Mother-Father worship day). After the Congress termed the letter as \"unfortunate\", saying it \"shows the nexus between BJP and godman\", Chudasma clarified, \"All I have done is sent best wishes.\" \n",
      "실제 요약 :  Minister praises rape-convict Asaram over Matru-Pitru Divas\n",
      "예측 요약 :  \n",
      "\n",
      "\n",
      "원문 : Venezuelan President NicolÃÂ¡s Maduro has claimed that his American counterpart Donald Trump ordered the Colombian government and the Colombian mafia to kill him. \"If something happens to me, Trump and Colombian President IvÃÂ¡n MÃÂ¡rquez will bear responsibility,\" he added. The US has blamed Maduro for the economic crisis in Venezuela and recognised opposition leader Juan GuaidÃÂ³ as interim President.\n",
      "실제 요약 :  Trump ordered to kill me: Venezuela President Maduro\n",
      "예측 요약 :  Venezuelan President NicolÃÂ¡s Maduro has claimed that his American counterpart Donald Trump ordered the Colombian government and the Colombian mafia to kill him.\n",
      "\n",
      "\n",
      "원문 : Eight Asian billionaires aged 90 or above on the Bloomberg Billionaires Index of world's 500 richest people have a combined net worth of $125 billion. The richest among them is Hong Kong's Li Ka Shing with a net worth of $30.5 billion. India's 90-year-old Pallonji Mistry, who controls 18.3% of Tata Sons through Shapoorji Pallonji Group, is worth $20.1 billion.\n",
      "실제 요약 :  8 Asian billionaires aged over 90, including Mistry, control $125bn\n",
      "예측 요약 :  The richest among them is Hong Kong's Li Ka Shing with a net worth of $30.5 billion.\n",
      "\n",
      "\n",
      "원문 : Tamil Nadu food safety officials on Wednesday raided and seized 1,000 kgs of banned plastic items from Hotel Saravana Bhavan in Chennai's Vadapalani. Officials began a surprise check in the branch at 8 am. The state government had banned single-use plastics from January 1 and said the banned items should be handed over at the offices of the city corporation.\n",
      "실제 요약 :  1,000 kg banned plastic seized from Saravana Bhavan in Chennai\n",
      "예측 요약 :  Tamil Nadu food safety officials on Wednesday raided and seized 1,000 kgs of banned plastic items from Hotel Saravana Bhavan in Chennai's Vadapalani.\n",
      "\n",
      "\n",
      "원문 : Actress Shamita Shetty was verbally abused and her driver was slapped in an incident of road rage in Mumbai on Tuesday, as per reports. The incident reportedly took place after a motorist who was accompanied by two friends, rammed his vehicle into Shamita's car. The men allegedly manhandled and threatened Shamita's driver when he stepped out to inspect the damage. \n",
      "실제 요약 :  Shamita Shetty abused, driver slapped after accident: Report\n",
      "예측 요약 :  Actress Shamita Shetty was verbally abused and her driver was slapped in an incident of road rage in Mumbai on Tuesday, as per reports.\n",
      "\n",
      "\n",
      "원문 : Actress Vaani Kapoor said that trolling has become a norm on social media, adding, \"There's no one who hasn't got trolled on social media.\" \"Everybody is out there to pull the other person down but it'll only bother [you] if you let it bother you,\" Vaani added. She further said, social media offers a platform \"where people enjoy belittling everybody\". \n",
      "실제 요약 :  Trolling has become the norm on social media: Vaani\n",
      "예측 요약 :  \n",
      "\n",
      "\n",
      "원문 : Actress Sushmita Sen took to Instagram to share a joke on the subject of marriage. \"Whoever invented marriage was creepy as hell. Like I love you so much IÃ¢ÂÂm gonna get the government involved so you canÃ¢ÂÂt leave,\" Sushmita's post read. \"This is an insult to [the] beauty of marriage,\" an Instagram user commented on her post.\n",
      "실제 요약 :  Whoever invented marriage was creepy as hell: Sushmita posts joke\n",
      "예측 요약 :  \"This is an insult to [the] beauty of marriage,\" an Instagram user commented on her post.\n",
      "\n",
      "\n",
      "원문 : Television actor Karanvir Bohra, who flew to Russia on Tuesday to attend a film festival, has been detained in Moscow due to passport damage. \"They [are] contemplating to deport me back to India,\" the actor wrote on Twitter. The Indian embassy in Russia's capital responded to his tweet and said that they were looking into the issue. \n",
      "실제 요약 :  Actor Karanvir Bohra detained in Russia over passport damage\n",
      "예측 요약 :  Television actor Karanvir Bohra, who flew to Russia on Tuesday to attend a film festival, has been detained in Moscow due to passport damage.\n",
      "\n",
      "\n",
      "원문 : While speaking about winning awards for his films, Shah Rukh Khan said, \"If I don't get an award, that award is at a loss.\" \"Sometimes, the prestige of an award increases when I receive it,\" the actor jokingly added. Shah Rukh further said that he was \"extremely ambitious\" but in a \"fair manner\". \n",
      "실제 요약 :  If I don't get an award, that award is at loss: SRK\n",
      "예측 요약 :  \n",
      "\n",
      "\n",
      "원문 : Actress Patralekhaa will make her debut in the Kannada film industry with the action-comedy film 'Where is my Kannadaka?' \"I can definitely say that itÃ¢ÂÂs a kind of role that I havenÃ¢ÂÂt portrayed on screen so far and that makes it special for me,\" the actress said in a statement. Shooting for the film will reportedly begin in April.\n",
      "실제 요약 :  Actress Patralekhaa to make her Kannada film debut \n",
      "예측 요약 :  \n",
      "\n",
      "\n",
      "원문 : Gmail on Tuesday faced a global outage, which also affected India, wherein certain users complained they faced a '404 error' message while trying to sign-in to their accounts. The error message read: \"The requested URL was not found on this server. That's all we know.\" Google responded saying \"problem with Gmail should be resolved (now). We apologise for the inconvenience\".\n",
      "실제 요약 :  Gmail faces temporary global outage, users face '404 error'\n",
      "예측 요약 :  Gmail on Tuesday faced a global outage, which also affected India, wherein certain users complained they faced a '404 error' message while trying to sign-in to their accounts.\n",
      "\n",
      "\n",
      "원문 : Shiv Sena chief Uddhav Thackeray has asked the BJP to decide about the alliance with the Sena within 15 days and said the BJP should make a concrete proposal on the alliance. Thackeray added that only if the BJP agrees to Sena's terms and conditions, the party will agree for an alliance. Sena is free to fight independently, he said. \n",
      "실제 요약 :  Decide about an alliance within 15 days: Uddhav to BJP\n",
      "예측 요약 :  Shiv Sena chief Uddhav Thackeray has asked the BJP to decide about the alliance with the Sena within 15 days and said the BJP should make a concrete proposal on the alliance.\n",
      "\n",
      "\n",
      "원문 : BJP President Amit Shah on Wednesday took a dig at the Opposition's proposed grand alliance saying if the \"mahagathbandhan comes to power, each opposition leader will be a Prime Minister every day of the week\". He added, \"[The] country will go on...holiday on Sunday\". He said the Opposition is thinking about leading the country but does not have a leader.\n",
      "실제 요약 :  Grand alliance, if wins, will see a new PM every day: Shah\n",
      "예측 요약 :  He said the Opposition is thinking about leading the country but does not have a leader.\n",
      "\n",
      "\n",
      "원문 : Prime Minister Narendra Modi on Wednesday said his government's demonetisation decision made houses affordable for the aspiring youth. He added decisions like demonetisation and RERA have put a check on black money that used to be \"parked in the real estate sector\". He said 'UDAN' (Ude Desh ka Aam Nagrik) scheme has boosted the development of the country's aviation sector.\n",
      "실제 요약 :  Demonetisation made homes affordable for youth: PM Modi\n",
      "예측 요약 :  He added decisions like demonetisation and RERA have put a check on black money that used to be \"parked in the real estate sector\".\n",
      "\n",
      "\n"
     ]
    }
   ],
   "source": [
    "data_org = pd.read_csv('news_summary_more.csv', encoding='iso-8859-1')\n",
    "for i in range(50, 100):\n",
    "#     _text = seq2text(encoder_input_test[i])\n",
    "    _text = data_org.iloc[i,1]\n",
    "    print(\"원문 :\", _text)\n",
    "    print(\"실제 요약 : \", data_org.iloc[i,0])\n",
    "    print(\"예측 요약 : \", summarize(_text, ratio=0.35)) # ratio안달면 결과 안나옴...\n",
    "    print(\"\\n\")"
   ]
  },
  {
   "cell_type": "markdown",
   "id": "d0246454",
   "metadata": {},
   "source": [
    "같은 원문을 직접 비교해보고 싶었지만.... 찾기가 힘들어서 각 하나씩 문장을 가져오록 하겠습니다 \n",
    "\n",
    "|종류|원문|실제요약|예측 요약|문법완성|핵심단어 측면|\n",
    "|:----:|:-----:|:----:|:----:|:---:|:---:|\n",
    "|추상적 요약|samsung president ceo dj announced company make least million phones available first half also said met google ceo sundar pichai develop software interface phone phone official name yet added |samsung make least million phones |samsung founders sell android|매우 미약|대체로 우수|\n",
    "|추출적 요약|North Korea is \"unlikely to completely give up its nuclear weapons and production capabilities\", Director of US' National Intelligence, Daniel Coats, said. \"North Korean leaders view nuclear arms as critical to regime survival,\" he added. His statements come despite North Korea's agreement with the US at the Singapore summit last year to denuclearise the Korean Peninsula. |N Korea unlikely to give up nuclear weapons: US intelligence chief|\"North Korean leaders view nuclear arms as critical to regime survival,\" he added.|우수|우수|\n"
   ]
  },
  {
   "cell_type": "markdown",
   "id": "653322e8",
   "metadata": {},
   "source": [
    "|종류|특징|비고|\n",
    "|:----:|:-----:|:---:|\n",
    "|추상적 요약|마치 사람이 원문을 읽고 창의적으로 글을 쓰는 느낌|학습을 조금 더 잘하면 재밌는 결과 도출할 듯|\n",
    "|추출적 요약|문장을 읽고 단어를 뽑아서 문장을 만드는 느낌||"
   ]
  },
  {
   "cell_type": "code",
   "execution_count": null,
   "id": "0027a6c5",
   "metadata": {},
   "outputs": [],
   "source": []
  }
 ],
 "metadata": {
  "kernelspec": {
   "display_name": "Python 3 (ipykernel)",
   "language": "python",
   "name": "python3"
  },
  "language_info": {
   "codemirror_mode": {
    "name": "ipython",
    "version": 3
   },
   "file_extension": ".py",
   "mimetype": "text/x-python",
   "name": "python",
   "nbconvert_exporter": "python",
   "pygments_lexer": "ipython3",
   "version": "3.9.7"
  }
 },
 "nbformat": 4,
 "nbformat_minor": 5
}
