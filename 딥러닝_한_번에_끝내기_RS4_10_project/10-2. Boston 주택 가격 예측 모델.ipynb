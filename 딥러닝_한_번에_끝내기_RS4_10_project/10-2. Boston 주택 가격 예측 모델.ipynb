{
 "cells": [
  {
   "cell_type": "markdown",
   "id": "856b302d",
   "metadata": {},
   "source": [
    "# 10-2. Boston 주택 가격 예측 모델"
   ]
  },
  {
   "cell_type": "markdown",
   "id": "5a2387d4",
   "metadata": {},
   "source": [
    "### 데이터 로드 및 전처리\n",
    "- 먼저 데이터를 불러와 확인해 보고 전처리를 해 봅시다.\n",
    "- 데이터셋은 ```keras.datasets```에서 불러올 수 있는 boston_housing 데이터셋을 활용합니다."
   ]
  },
  {
   "cell_type": "code",
   "execution_count": 1,
   "id": "075a607e",
   "metadata": {},
   "outputs": [],
   "source": [
    "from tensorflow.keras import models, layers\n",
    "import matplotlib.pyplot as plt"
   ]
  },
  {
   "cell_type": "code",
   "execution_count": 2,
   "id": "fb8ab19b",
   "metadata": {},
   "outputs": [
    {
     "name": "stdout",
     "output_type": "stream",
     "text": [
      "404\n",
      "102\n"
     ]
    }
   ],
   "source": [
    "# keras.datasets 안에 boston_housing 데이터셋을 로드합니다.\n",
    "from keras.datasets import boston_housing\n",
    "\n",
    "(train_data, train_labels), (test_data, test_labels) = boston_housing.load_data()\n",
    "\n",
    "# 데이터셋의 크기를 확인합니다.\n",
    "print(len(train_data))\n",
    "print(len(test_data))"
   ]
  },
  {
   "cell_type": "code",
   "execution_count": 3,
   "id": "33a89fb9",
   "metadata": {},
   "outputs": [],
   "source": [
    "# 문제 1-1: 데이터셋의 전처리를 위해 표준화 작업을 수행합니다.\n",
    "# 먼저 입력 데이터의 각 특성의 평균을 뺍니다.\n",
    "# [[YOUR CODE]]\n",
    "mean = train_data.mean(axis=0)\n",
    "train_data -= mean\n",
    "\n",
    "\n",
    "\n",
    "# 평균을 뺀 입력 데이터에서 표준편차를 나눕니다.\n",
    "# 데이터 특성의 중앙이 0에 가깝게 만들고, 표준편차가 1이 되게 만듭니다.\n",
    "std = train_data.std(axis=0)\n",
    "train_data /= std\n",
    "\n",
    "# 테스트 데이터셋도 마찬가지로 평균을 빼고, 표준편차로 나눕니다.\n",
    "mean = test_data.mean(axis=0)\n",
    "std = test_data.std(axis=0)\n",
    "test_data -= mean\n",
    "test_data /= std"
   ]
  },
  {
   "cell_type": "markdown",
   "id": "ae1621dc",
   "metadata": {},
   "source": [
    "### 모델 구성 및 컴파일\n",
    "- 주택 가격 예측을 위한 딥러닝 모델을 구성하고 컴파일합니다. Sequential() 함수를 이용한 Sequential API 방법으로 딥러닝 모델을 구성해 보세요."
   ]
  },
  {
   "cell_type": "code",
   "execution_count": 4,
   "id": "75116f8d",
   "metadata": {},
   "outputs": [],
   "source": [
    "# 문제 1-2: 주택 가격 예측을 위한 딥러닝 모델 구성 및 컴파일합니다.\n",
    "# input_shape은 (train_data.shape[1], )으로 구성합니다.\n",
    "# 회귀(예측)을 위한 모델이므로 loss를 mse, metrics를 mae로 사용합니다.\n",
    "model = models.Sequential()\n",
    "model.add(layers.Dense(64, activation='relu', input_shape=(train_data.shape[1],)))\n",
    "model.add(layers.Dense(64, activation='relu'))\n",
    "model.add(layers.Dense(1))\n",
    "model.compile(optimizer='rmsprop', loss='mse', metrics=['mae'])"
   ]
  },
  {
   "cell_type": "markdown",
   "id": "05e98efb",
   "metadata": {},
   "source": [
    "### 모델 학습\n",
    "- epochs와 batch size는 자유롭게 설정해 보세요. 모델 학습 후에는 모델 학습 결과를 시각화해 보세요."
   ]
  },
  {
   "cell_type": "code",
   "execution_count": 5,
   "id": "3b17aeeb",
   "metadata": {},
   "outputs": [
    {
     "name": "stdout",
     "output_type": "stream",
     "text": [
      "Epoch 1/30\n",
      "21/21 [==============================] - 1s 10ms/step - loss: 481.4906 - mae: 19.8458 - val_loss: 470.9297 - val_mae: 19.5795\n",
      "Epoch 2/30\n",
      "21/21 [==============================] - 0s 4ms/step - loss: 326.9851 - mae: 15.8048 - val_loss: 297.5660 - val_mae: 14.8806\n",
      "Epoch 3/30\n",
      "21/21 [==============================] - 0s 3ms/step - loss: 184.3888 - mae: 11.0293 - val_loss: 163.7771 - val_mae: 10.1238\n",
      "Epoch 4/30\n",
      "21/21 [==============================] - 0s 3ms/step - loss: 93.4046 - mae: 7.4567 - val_loss: 87.7766 - val_mae: 7.2428\n",
      "Epoch 5/30\n",
      "21/21 [==============================] - 0s 3ms/step - loss: 56.9034 - mae: 5.4407 - val_loss: 55.6286 - val_mae: 5.6552\n",
      "Epoch 6/30\n",
      "21/21 [==============================] - 0s 4ms/step - loss: 41.0578 - mae: 4.5756 - val_loss: 41.2386 - val_mae: 4.8798\n",
      "Epoch 7/30\n",
      "21/21 [==============================] - 0s 4ms/step - loss: 32.4964 - mae: 3.9618 - val_loss: 30.5468 - val_mae: 4.3266\n",
      "Epoch 8/30\n",
      "21/21 [==============================] - 0s 3ms/step - loss: 27.6022 - mae: 3.6492 - val_loss: 26.2968 - val_mae: 3.9383\n",
      "Epoch 9/30\n",
      "21/21 [==============================] - 0s 3ms/step - loss: 24.6452 - mae: 3.4106 - val_loss: 23.2544 - val_mae: 3.6854\n",
      "Epoch 10/30\n",
      "21/21 [==============================] - 0s 4ms/step - loss: 21.6202 - mae: 3.2067 - val_loss: 21.1438 - val_mae: 3.5639\n",
      "Epoch 11/30\n",
      "21/21 [==============================] - 0s 3ms/step - loss: 19.9519 - mae: 3.1070 - val_loss: 20.9746 - val_mae: 3.3752\n",
      "Epoch 12/30\n",
      "21/21 [==============================] - 0s 3ms/step - loss: 18.9170 - mae: 2.9811 - val_loss: 18.6370 - val_mae: 3.2789\n",
      "Epoch 13/30\n",
      "21/21 [==============================] - 0s 3ms/step - loss: 17.1595 - mae: 2.8702 - val_loss: 18.0445 - val_mae: 3.2081\n",
      "Epoch 14/30\n",
      "21/21 [==============================] - 0s 4ms/step - loss: 16.1424 - mae: 2.7614 - val_loss: 16.6461 - val_mae: 3.0781\n",
      "Epoch 15/30\n",
      "21/21 [==============================] - 0s 4ms/step - loss: 14.9126 - mae: 2.6722 - val_loss: 15.8511 - val_mae: 2.8794\n",
      "Epoch 16/30\n",
      "21/21 [==============================] - 0s 3ms/step - loss: 14.3078 - mae: 2.5718 - val_loss: 15.6646 - val_mae: 2.9433\n",
      "Epoch 17/30\n",
      "21/21 [==============================] - 0s 3ms/step - loss: 13.5072 - mae: 2.5159 - val_loss: 14.3530 - val_mae: 2.7780\n",
      "Epoch 18/30\n",
      "21/21 [==============================] - 0s 3ms/step - loss: 12.9680 - mae: 2.4613 - val_loss: 15.9296 - val_mae: 2.9916\n",
      "Epoch 19/30\n",
      "21/21 [==============================] - 0s 3ms/step - loss: 12.3510 - mae: 2.4140 - val_loss: 13.8827 - val_mae: 2.6597\n",
      "Epoch 20/30\n",
      "21/21 [==============================] - 0s 3ms/step - loss: 12.0517 - mae: 2.3909 - val_loss: 14.2171 - val_mae: 2.7052\n",
      "Epoch 21/30\n",
      "21/21 [==============================] - 0s 4ms/step - loss: 11.7391 - mae: 2.4114 - val_loss: 13.7073 - val_mae: 2.7722\n",
      "Epoch 22/30\n",
      "21/21 [==============================] - 0s 4ms/step - loss: 11.2935 - mae: 2.3128 - val_loss: 14.4044 - val_mae: 2.8953\n",
      "Epoch 23/30\n",
      "21/21 [==============================] - 0s 3ms/step - loss: 11.1478 - mae: 2.3244 - val_loss: 13.7166 - val_mae: 2.5923\n",
      "Epoch 24/30\n",
      "21/21 [==============================] - 0s 3ms/step - loss: 10.9279 - mae: 2.3234 - val_loss: 12.7582 - val_mae: 2.6400\n",
      "Epoch 25/30\n",
      "21/21 [==============================] - 0s 3ms/step - loss: 10.3410 - mae: 2.2444 - val_loss: 12.7531 - val_mae: 2.6211\n",
      "Epoch 26/30\n",
      "21/21 [==============================] - 0s 3ms/step - loss: 10.3991 - mae: 2.2736 - val_loss: 13.2900 - val_mae: 2.6276\n",
      "Epoch 27/30\n",
      "21/21 [==============================] - 0s 4ms/step - loss: 10.1763 - mae: 2.2434 - val_loss: 13.3350 - val_mae: 2.7492\n",
      "Epoch 28/30\n",
      "21/21 [==============================] - 0s 4ms/step - loss: 9.9995 - mae: 2.1997 - val_loss: 12.9495 - val_mae: 2.6036\n",
      "Epoch 29/30\n",
      "21/21 [==============================] - 0s 4ms/step - loss: 9.5344 - mae: 2.1897 - val_loss: 12.9914 - val_mae: 2.7879\n",
      "Epoch 30/30\n",
      "21/21 [==============================] - 0s 3ms/step - loss: 9.6370 - mae: 2.1671 - val_loss: 13.3488 - val_mae: 2.6958\n"
     ]
    }
   ],
   "source": [
    "# 문제 1-3: 예측을 위한 딥러닝 모델을 학습합니다.\n",
    "history = model.fit(train_data, train_labels, epochs=30, batch_size=16, validation_split=0.2)"
   ]
  },
  {
   "cell_type": "code",
   "execution_count": 6,
   "id": "6d16dbeb",
   "metadata": {},
   "outputs": [
    {
     "data": {
      "image/png": "[encoded data removed]",
      "text/plain": [
       "<Figure size 864x360 with 2 Axes>"
      ]
     },
     "metadata": {},
     "output_type": "display_data"
    }
   ],
   "source": [
    "# 모델 학습 히스토리에서 loss, val_loss, mae, val_mae를 차트로 보여줍니다.\n",
    "plt.style.use('seaborn-white')\n",
    "\n",
    "history_dict = history.history\n",
    "\n",
    "loss = history_dict['loss']\n",
    "val_loss = history_dict['val_loss']\n",
    "\n",
    "epochs = range(1, len(loss) + 1)\n",
    "fig = plt.figure(figsize=(12, 5))\n",
    "\n",
    "ax1 = fig.add_subplot(1, 2, 1)\n",
    "ax1.plot(epochs, loss, 'b-', label='train_loss')\n",
    "ax1.plot(epochs, val_loss, 'r-', label='val_loss')\n",
    "ax1.set_title('Train and Validation Loss')\n",
    "ax1.set_xlabel('Epochs')\n",
    "ax1.set_ylabel('Loss')\n",
    "ax1.grid()\n",
    "ax1.legend()\n",
    "\n",
    "mae = history_dict['mae']\n",
    "val_mae = history_dict['val_mae']\n",
    "\n",
    "ax2 = fig.add_subplot(1, 2, 2)\n",
    "ax2.plot(epochs, mae, 'b-', label='train_mae')\n",
    "ax2.plot(epochs, val_mae, 'r-', label='val_mae')\n",
    "ax2.set_title('Train and Validation MAE')\n",
    "ax2.set_xlabel('Epochs')\n",
    "ax2.set_ylabel('Accuracy')\n",
    "ax2.grid()\n",
    "ax2.legend()\n",
    "\n",
    "plt.show()"
   ]
  },
  {
   "cell_type": "markdown",
   "id": "f63790f6",
   "metadata": {},
   "source": [
    "### 모델 평가 및 예측\n",
    "- 테스트 데이터를 가져와 모델 성능을 평가해 보겠습니다."
   ]
  },
  {
   "cell_type": "code",
   "execution_count": 7,
   "id": "6a4599ea",
   "metadata": {},
   "outputs": [
    {
     "name": "stdout",
     "output_type": "stream",
     "text": [
      "4/4 [==============================] - 0s 2ms/step - loss: 21.7568 - mae: 3.1551\n"
     ]
    }
   ],
   "source": [
    "# 문제 1-4: 테스트 데이터셋을 이용해 모델을 평가합니다.\n",
    "test_loss, test_mae = model.evaluate(test_data, test_labels)"
   ]
  }
 ],
 "metadata": {
  "kernelspec": {
   "display_name": "Python 3 (ipykernel)",
   "language": "python",
   "name": "python3"
  },
  "language_info": {
   "codemirror_mode": {
    "name": "ipython",
    "version": 3
   },
   "file_extension": ".py",
   "mimetype": "text/x-python",
   "name": "python",
   "nbconvert_exporter": "python",
   "pygments_lexer": "ipython3",
   "version": "3.9.7"
  }
 },
 "nbformat": 4,
 "nbformat_minor": 5
}
