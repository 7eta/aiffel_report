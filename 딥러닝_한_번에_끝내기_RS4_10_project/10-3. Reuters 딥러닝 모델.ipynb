{
 "cells": [
  {
   "cell_type": "markdown",
   "id": "710e5345",
   "metadata": {},
   "source": [
    "## Reuters 딥러닝 모델"
   ]
  },
  {
   "cell_type": "markdown",
   "id": "f3cdc7f4",
   "metadata": {},
   "source": [
    "### 데이터 로드 및 전처리\n",
    "- reuters 데이터셋을 로드하고, 훈련 데이터셋에서 25%를 검증 데이터셋으로 분리합니다. 데이터셋은 ```keras.datasets```에서 불러올 수 있는 reuters 데이터 셋을 활용하고, 이때 파라메터 조정을 통해 단어의 개수는 10000개로 제한합니다(num_words=10000).\n",
    "- 데이터셋 분리 작업에서는 sklearn 라이브러리의 ```train_test_split``` 함수를 활용합니다.\n",
    "- 훈련, 검증, 테스트 데이터와 레이블 종류가 몇개인지 출력합니다."
   ]
  },
  {
   "cell_type": "code",
   "execution_count": 1,
   "id": "c60f73bd",
   "metadata": {},
   "outputs": [],
   "source": [
    "import numpy as np\n",
    "import matplotlib.pyplot as plt\n",
    "from sklearn.model_selection import train_test_split\n",
    "\n",
    "from tensorflow.keras import models, layers\n",
    "from tensorflow.keras import callbacks\n",
    "from tensorflow.keras import utils\n",
    "from keras.datasets import reuters"
   ]
  },
  {
   "cell_type": "code",
   "execution_count": 2,
   "id": "035c109b",
   "metadata": {},
   "outputs": [
    {
     "name": "stdout",
     "output_type": "stream",
     "text": [
      "6736\n",
      "2246\n",
      "2246\n",
      "46\n"
     ]
    }
   ],
   "source": [
    "# 문제 2-1: reuters 데이터셋을 로드하고, 훈련 데이터셋에서 25%를 검증 데이터셋으로 분리합니다.\n",
    "# Reuters 데이터셋 로드\n",
    "(train_data, train_labels), (test_data, test_labels) = reuters.load_data(num_words=10000)\n",
    "\n",
    "# 데이터셋 분리: 훈련 데이터셋에서 25%를 검증 데이터셋으로 분리\n",
    "train_data, val_data, train_labels, val_labels = train_test_split(train_data, train_labels, test_size=0.25, random_state=42)\n",
    "\n",
    "# 훈련, 검증, 테스트 데이터와 레이블 종류가 몇 개인지 출력합니다.\n",
    "print(len(train_data))\n",
    "print(len(val_data))\n",
    "print(len(test_data))\n",
    "print(len(set(train_labels)))"
   ]
  },
  {
   "cell_type": "code",
   "execution_count": 3,
   "id": "e07cb250",
   "metadata": {},
   "outputs": [],
   "source": [
    "from tensorflow.keras.utils import to_categorical\n",
    "# 문제 2-2: 텍스트 데이터의 전처리를 위해서 각 데이터셋마다 원-핫 인코딩을 수행합니다.\n",
    "def one_hot_encoding(data, dim=10000):\n",
    "    results = np.zeros((len(data), dim))\n",
    "    for i, sequence in enumerate(data):\n",
    "        results[i, sequence] = 1.\n",
    "    return results\n",
    "\n",
    "x_train = one_hot_encoding(train_data)\n",
    "x_val = one_hot_encoding(val_data)\n",
    "x_test = one_hot_encoding(test_data)\n",
    "\n",
    "# 레이블 데이터들은 범주형 형태로 to_categorical() 함수를 사용해 변환합니다.\n",
    "y_train = to_categorical(train_labels)\n",
    "y_val = to_categorical(val_labels)\n",
    "y_test = to_categorical(test_labels)"
   ]
  },
  {
   "cell_type": "markdown",
   "id": "41bc346b",
   "metadata": {},
   "source": [
    "### 모델 구성 및 컴파일\n",
    "- BatchNormalization과 Dropout을 적용하여 빠르게 학습하면서 과대적합을 방지하고, 46개의 뉴스 주제를 분류하는 딥러닝 모델을 구성합니다."
   ]
  },
  {
   "cell_type": "code",
   "execution_count": 4,
   "id": "24a3fbd4",
   "metadata": {},
   "outputs": [],
   "source": [
    "# 문제 2-3: 빠른 학습과 과대적합을 방지하기 위해 BatchNormalization과 Dropout을 적용한 딥러닝 모델을 구성합니다.\n",
    "from tensorflow.keras import models, layers\n",
    "\n",
    "model = models.Sequential()\n",
    "model.add(layers.Dense(64, activation='relu', input_shape=(10000,)))\n",
    "model.add(layers.BatchNormalization())\n",
    "model.add(layers.Dropout(0.5))\n",
    "model.add(layers.Dense(64, activation='relu'))\n",
    "model.add(layers.BatchNormalization())\n",
    "model.add(layers.Dropout(0.5))\n",
    "model.add(layers.Dense(46, activation='softmax'))\n"
   ]
  },
  {
   "cell_type": "code",
   "execution_count": 5,
   "id": "a920615a",
   "metadata": {},
   "outputs": [
    {
     "name": "stdout",
     "output_type": "stream",
     "text": [
      "Model: \"sequential\"\n",
      "_________________________________________________________________\n",
      "Layer (type)                 Output Shape              Param #   \n",
      "=================================================================\n",
      "dense (Dense)                (None, 64)                640064    \n",
      "_________________________________________________________________\n",
      "batch_normalization (BatchNo (None, 64)                256       \n",
      "_________________________________________________________________\n",
      "dropout (Dropout)            (None, 64)                0         \n",
      "_________________________________________________________________\n",
      "dense_1 (Dense)              (None, 64)                4160      \n",
      "_________________________________________________________________\n",
      "batch_normalization_1 (Batch (None, 64)                256       \n",
      "_________________________________________________________________\n",
      "dropout_1 (Dropout)          (None, 64)                0         \n",
      "_________________________________________________________________\n",
      "dense_2 (Dense)              (None, 46)                2990      \n",
      "=================================================================\n",
      "Total params: 647,726\n",
      "Trainable params: 647,470\n",
      "Non-trainable params: 256\n",
      "_________________________________________________________________\n"
     ]
    }
   ],
   "source": [
    "model.summary()"
   ]
  },
  {
   "cell_type": "code",
   "execution_count": 6,
   "id": "763857a8",
   "metadata": {},
   "outputs": [
    {
     "name": "stdout",
     "output_type": "stream",
     "text": [
      "Epoch 1/20\n",
      "53/53 [==============================] - 2s 16ms/step - loss: 2.7381 - accuracy: 0.4200 - val_loss: 2.9162 - val_accuracy: 0.6630\n",
      "Epoch 2/20\n",
      "53/53 [==============================] - 0s 7ms/step - loss: 1.6621 - accuracy: 0.6532 - val_loss: 2.0297 - val_accuracy: 0.7030\n",
      "Epoch 3/20\n",
      "53/53 [==============================] - 0s 8ms/step - loss: 1.3093 - accuracy: 0.7202 - val_loss: 1.5582 - val_accuracy: 0.7044\n",
      "Epoch 4/20\n",
      "53/53 [==============================] - 0s 7ms/step - loss: 1.1232 - accuracy: 0.7472 - val_loss: 1.3114 - val_accuracy: 0.7173\n",
      "Epoch 5/20\n",
      "53/53 [==============================] - 0s 7ms/step - loss: 1.0045 - accuracy: 0.7723 - val_loss: 1.1327 - val_accuracy: 0.7560\n",
      "Epoch 6/20\n",
      "53/53 [==============================] - 0s 7ms/step - loss: 0.8840 - accuracy: 0.7990 - val_loss: 1.0632 - val_accuracy: 0.7685\n",
      "Epoch 7/20\n",
      "53/53 [==============================] - 0s 7ms/step - loss: 0.8217 - accuracy: 0.8092 - val_loss: 1.0361 - val_accuracy: 0.7783\n",
      "Epoch 8/20\n",
      "53/53 [==============================] - 0s 7ms/step - loss: 0.7599 - accuracy: 0.8190 - val_loss: 1.0169 - val_accuracy: 0.7921\n",
      "Epoch 9/20\n",
      "53/53 [==============================] - 0s 7ms/step - loss: 0.7056 - accuracy: 0.8302 - val_loss: 1.0038 - val_accuracy: 0.7961\n",
      "Epoch 10/20\n",
      "53/53 [==============================] - 0s 8ms/step - loss: 0.6532 - accuracy: 0.8443 - val_loss: 0.9949 - val_accuracy: 0.8037\n",
      "Epoch 11/20\n",
      "53/53 [==============================] - 0s 7ms/step - loss: 0.6165 - accuracy: 0.8527 - val_loss: 0.9978 - val_accuracy: 0.7996\n",
      "Epoch 12/20\n",
      "53/53 [==============================] - 0s 7ms/step - loss: 0.5912 - accuracy: 0.8613 - val_loss: 1.0170 - val_accuracy: 0.8068\n",
      "Epoch 13/20\n",
      "53/53 [==============================] - 0s 7ms/step - loss: 0.5345 - accuracy: 0.8735 - val_loss: 1.0218 - val_accuracy: 0.8085\n"
     ]
    }
   ],
   "source": [
    "# 문제 2-4: ModelCheckpoint와 EarlyStopping 콜백 함수를 적용하여 모델 학습을 진행합니다.\n",
    "# ModelCheckpoint 콜백 함수 설정\n",
    "checkpoint_cb = callbacks.ModelCheckpoint(\"model.h5\", save_best_only=True)\n",
    "\n",
    "# EarlyStopping 콜백 함수 설정\n",
    "early_stopping_cb = callbacks.EarlyStopping(patience=3, restore_best_weights=True)\n",
    "\n",
    "# 모델 컴파일\n",
    "model.compile(optimizer='rmsprop',\n",
    "              loss='categorical_crossentropy',\n",
    "              metrics=['accuracy'])\n",
    "# 모델 학습\n",
    "history = model.fit(x_train,\n",
    "                    y_train,\n",
    "                    epochs=20,\n",
    "                    batch_size=128,\n",
    "                    validation_data=(x_val, y_val),\n",
    "                    callbacks=[checkpoint_cb, early_stopping_cb])\n"
   ]
  },
  {
   "cell_type": "code",
   "execution_count": 7,
   "id": "1f2cc249",
   "metadata": {},
   "outputs": [
    {
     "data": {
      "image/png": "[encoded data removed]",
      "text/plain": [
       "<Figure size 864x360 with 2 Axes>"
      ]
     },
     "metadata": {},
     "output_type": "display_data"
    }
   ],
   "source": [
    "# 학습 히스토리의 `loss`, `val_loss`, `accuracy`, `val_accuracy`를 차트로 시각화합니다.\n",
    "plt.style.use('seaborn-white')\n",
    "\n",
    "history_dict = history.history\n",
    "\n",
    "loss = history_dict['loss']\n",
    "val_loss = history_dict['val_loss']\n",
    "\n",
    "epochs = range(1, len(loss) + 1)\n",
    "fig = plt.figure(figsize=(12, 5))\n",
    "\n",
    "ax1 = fig.add_subplot(1, 2, 1)\n",
    "ax1.plot(epochs, loss, 'b-', label='train_loss')\n",
    "ax1.plot(epochs, val_loss, 'r-', label='val_loss')\n",
    "ax1.set_title('Train and Validation Loss')\n",
    "ax1.set_xlabel('Epochs')\n",
    "ax1.set_ylabel('Loss')\n",
    "ax1.grid()\n",
    "ax1.legend()\n",
    "\n",
    "accuracy = history_dict['accuracy']\n",
    "val_accuracy = history_dict['val_accuracy']\n",
    "\n",
    "ax2 = fig.add_subplot(1, 2, 2)\n",
    "ax2.plot(epochs, accuracy, 'b-', label='train_accuracy')\n",
    "ax2.plot(epochs, val_accuracy, 'r-', label='val_accuracy')\n",
    "ax2.set_title('Train and Validation Accuracy')\n",
    "ax2.set_xlabel('Epochs')\n",
    "ax2.set_ylabel('Accuracy')\n",
    "ax2.grid()\n",
    "ax2.legend()\n",
    "\n",
    "plt.show()"
   ]
  },
  {
   "cell_type": "code",
   "execution_count": 8,
   "id": "47788494",
   "metadata": {},
   "outputs": [
    {
     "name": "stdout",
     "output_type": "stream",
     "text": [
      "71/71 [==============================] - 0s 3ms/step - loss: 1.0748 - accuracy: 0.7787\n"
     ]
    }
   ],
   "source": [
    "# 문제 2-5: 테스트 데이터셋을 이용해 모델을 평가합니다.\n",
    "test_loss, test_accuracy = model.evaluate(x_test, y_test)"
   ]
  }
 ],
 "metadata": {
  "kernelspec": {
   "display_name": "Python 3 (ipykernel)",
   "language": "python",
   "name": "python3"
  },
  "language_info": {
   "codemirror_mode": {
    "name": "ipython",
    "version": 3
   },
   "file_extension": ".py",
   "mimetype": "text/x-python",
   "name": "python",
   "nbconvert_exporter": "python",
   "pygments_lexer": "ipython3",
   "version": "3.9.7"
  }
 },
 "nbformat": 4,
 "nbformat_minor": 5
}
