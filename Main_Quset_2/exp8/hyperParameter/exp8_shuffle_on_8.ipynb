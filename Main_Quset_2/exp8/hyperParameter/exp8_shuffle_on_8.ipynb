{
 "cells": [
  {
   "cell_type": "markdown",
   "id": "07b76fcd",
   "metadata": {},
   "source": [
    "### 한국어 데이터로 챗봇 만들기"
   ]
  },
  {
   "cell_type": "code",
   "execution_count": 1,
   "id": "e03bbcbf",
   "metadata": {},
   "outputs": [],
   "source": [
    "import tensorflow as tf\n",
    "import tensorflow_datasets as tfds\n",
    "import os\n",
    "import re\n",
    "import numpy as np\n",
    "import pandas as pd\n",
    "import matplotlib.pyplot as plt\n",
    "import random"
   ]
  },
  {
   "cell_type": "markdown",
   "id": "6ae7eaf7",
   "metadata": {},
   "source": [
    "#### Step 1. 데이터 수집하기"
   ]
  },
  {
   "cell_type": "markdown",
   "id": "f74bf20f",
   "metadata": {},
   "source": [
    "songys/Chatbot_data(https://github.com/songys/Chatbot_data/blob/master/ChatbotData.csv) 에서 한국어 챗봇 데이터는 송영숙님이 공개한 챗봇 데이터를 사용"
   ]
  },
  {
   "cell_type": "code",
   "execution_count": 2,
   "id": "f804b036",
   "metadata": {},
   "outputs": [
    {
     "data": {
      "text/html": [
       "<div>\n",
       "<style scoped>\n",
       "    .dataframe tbody tr th:only-of-type {\n",
       "        vertical-align: middle;\n",
       "    }\n",
       "\n",
       "    .dataframe tbody tr th {\n",
       "        vertical-align: top;\n",
       "    }\n",
       "\n",
       "    .dataframe thead th {\n",
       "        text-align: right;\n",
       "    }\n",
       "</style>\n",
       "<table border=\"1\" class=\"dataframe\">\n",
       "  <thead>\n",
       "    <tr style=\"text-align: right;\">\n",
       "      <th></th>\n",
       "      <th>Q</th>\n",
       "      <th>A</th>\n",
       "      <th>label</th>\n",
       "    </tr>\n",
       "  </thead>\n",
       "  <tbody>\n",
       "    <tr>\n",
       "      <th>0</th>\n",
       "      <td>12시 땡!</td>\n",
       "      <td>하루가 또 가네요.</td>\n",
       "      <td>0</td>\n",
       "    </tr>\n",
       "    <tr>\n",
       "      <th>1</th>\n",
       "      <td>1지망 학교 떨어졌어</td>\n",
       "      <td>위로해 드립니다.</td>\n",
       "      <td>0</td>\n",
       "    </tr>\n",
       "    <tr>\n",
       "      <th>2</th>\n",
       "      <td>3박4일 놀러가고 싶다</td>\n",
       "      <td>여행은 언제나 좋죠.</td>\n",
       "      <td>0</td>\n",
       "    </tr>\n",
       "    <tr>\n",
       "      <th>3</th>\n",
       "      <td>3박4일 정도 놀러가고 싶다</td>\n",
       "      <td>여행은 언제나 좋죠.</td>\n",
       "      <td>0</td>\n",
       "    </tr>\n",
       "    <tr>\n",
       "      <th>4</th>\n",
       "      <td>PPL 심하네</td>\n",
       "      <td>눈살이 찌푸려지죠.</td>\n",
       "      <td>0</td>\n",
       "    </tr>\n",
       "  </tbody>\n",
       "</table>\n",
       "</div>"
      ],
      "text/plain": [
       "                 Q            A  label\n",
       "0           12시 땡!   하루가 또 가네요.      0\n",
       "1      1지망 학교 떨어졌어    위로해 드립니다.      0\n",
       "2     3박4일 놀러가고 싶다  여행은 언제나 좋죠.      0\n",
       "3  3박4일 정도 놀러가고 싶다  여행은 언제나 좋죠.      0\n",
       "4          PPL 심하네   눈살이 찌푸려지죠.      0"
      ]
     },
     "execution_count": 2,
     "metadata": {},
     "output_type": "execute_result"
    }
   ],
   "source": [
    "data_path = './data/ChatbotData.csv'\n",
    "data = pd.read_csv(data_path)\n",
    "data.head()"
   ]
  },
  {
   "cell_type": "markdown",
   "id": "d0f29596",
   "metadata": {},
   "source": [
    "#### Step 2. 데이터 전처리하기"
   ]
  },
  {
   "cell_type": "code",
   "execution_count": 3,
   "id": "b93a78b1",
   "metadata": {},
   "outputs": [],
   "source": [
    "import re\n",
    "\n",
    "def preprocess_sentence(sentence):\n",
    "    # 입력받은 sentence를 소문자로 변경하고 양쪽 공백을 제거\n",
    "    sentence = sentence.strip()\n",
    "\n",
    "    # 단어와 구두점(punctuation) 사이의 거리를 만듭니다.\n",
    "    # 예를 들어서 \"나는 학생입니다.\" => \"나는 학생 입니다 .\"와 같이\n",
    "    # 학생과 마침표 사이에 거리를 만듭니다.\n",
    "    sentence = re.sub(r\"([?.!,])\", r\" \\1 \", sentence)\n",
    "    sentence = re.sub(r'[\" \"]+', \" \", sentence)\n",
    "\n",
    "    # (ㄱㅎ가-힣, \".\", \"?\", \"!\", \",\")를 제외한 모든 문자를 공백인 ' '로 대체합니다.\n",
    "#     sentence = re.sub(r\"[^ㄱ-ㅎ가-힣?.!,]+\", \" \", sentence)\n",
    "    sentence = re.sub(r\"[^0-9ㄱ-ㅎ가-힣?.!,]+\", \" \", sentence)\n",
    "    sentence = sentence.strip()\n",
    "    return sentence"
   ]
  },
  {
   "cell_type": "code",
   "execution_count": 4,
   "id": "26a09b41",
   "metadata": {},
   "outputs": [],
   "source": [
    "# 질문과 답변의 쌍인 데이터셋을 구성하기 위한 데이터 로드 함수\n",
    "def load_conversations(_data):\n",
    "    Q = _data['Q']\n",
    "    A = _data['A']\n",
    "    Label = _data['label']\n",
    "\n",
    "\n",
    "    Q = [preprocess_sentence(q) for q in _data['Q']]\n",
    "    A = [preprocess_sentence(a) for a in _data['A']]\n",
    "    return Q, A, Label"
   ]
  },
  {
   "cell_type": "code",
   "execution_count": 5,
   "id": "d74407af",
   "metadata": {},
   "outputs": [
    {
     "name": "stdout",
     "output_type": "stream",
     "text": [
      "전체 샘플 수 : 11823\n",
      "전체 샘플 수 : 11823\n",
      "전처리 후의 22번째 질문 샘플: 1지망 학교 떨어졌어\n",
      "전처리 후의 22번째 답변 샘플: 위로해 드립니다 .\n"
     ]
    }
   ],
   "source": [
    "questions, answers, label = load_conversations(data)\n",
    "print('전체 샘플 수 :', len(questions))\n",
    "print('전체 샘플 수 :', len(answers))\n",
    "\n",
    "print('전처리 후의 22번째 질문 샘플: {}'.format(questions[1]))\n",
    "print('전처리 후의 22번째 답변 샘플: {}'.format(answers[1]))"
   ]
  },
  {
   "cell_type": "markdown",
   "id": "e04ebf79",
   "metadata": {},
   "source": [
    "#### Step 3. SubwordTextEncoder 사용하기"
   ]
  },
  {
   "cell_type": "code",
   "execution_count": 6,
   "id": "59559e78",
   "metadata": {},
   "outputs": [],
   "source": [
    "import tensorflow_datasets as tfds\n",
    "# 질문과 답변 데이터셋에 대해서 Vocabulary 생성\n",
    "tokenizer = tfds.deprecated.text.SubwordTextEncoder.build_from_corpus(questions + answers, target_vocab_size=2**13)"
   ]
  },
  {
   "cell_type": "code",
   "execution_count": 7,
   "id": "c0cb063a",
   "metadata": {},
   "outputs": [
    {
     "name": "stdout",
     "output_type": "stream",
     "text": [
      "START_TOKEN의 번호 : [8158]\n",
      "END_TOKEN의 번호 : [8159]\n"
     ]
    }
   ],
   "source": [
    "# 시작 토큰과 종료 토큰에 고유한 정수를 부여합니다.\n",
    "START_TOKEN, END_TOKEN = [tokenizer.vocab_size], [tokenizer.vocab_size + 1]\n",
    "print('START_TOKEN의 번호 :' ,[tokenizer.vocab_size])\n",
    "print('END_TOKEN의 번호 :' ,[tokenizer.vocab_size + 1])"
   ]
  },
  {
   "cell_type": "code",
   "execution_count": 8,
   "id": "4570d7fe",
   "metadata": {},
   "outputs": [
    {
     "name": "stdout",
     "output_type": "stream",
     "text": [
      "8160\n"
     ]
    }
   ],
   "source": [
    "# 시작 토큰과 종료 토큰을 고려하여 +2를 하여 단어장의 크기를 산정합니다.\n",
    "VOCAB_SIZE = tokenizer.vocab_size + 2\n",
    "print(VOCAB_SIZE)"
   ]
  },
  {
   "cell_type": "code",
   "execution_count": 9,
   "id": "5be8d041",
   "metadata": {},
   "outputs": [
    {
     "data": {
      "image/png": "[encoded data removed]",
      "text/plain": [
       "<Figure size 432x288 with 1 Axes>"
      ]
     },
     "metadata": {
      "needs_background": "light"
     },
     "output_type": "display_data"
    },
    {
     "name": "stdout",
     "output_type": "stream",
     "text": [
      "최대 길이: 29\n",
      "최소 길이: 1\n",
      "평균 길이: 5.651188361667935\n",
      "표준 편차: 2.5598725969048175\n"
     ]
    }
   ],
   "source": [
    "import matplotlib.pyplot as plt\n",
    "import numpy as np\n",
    "combined = questions + answers\n",
    "# 텍스트를 토크나이즈하여 토큰 수 계산\n",
    "sentence_lengths = [len(tokenizer.encode(sentence)) for sentence in combined]\n",
    "\n",
    "# 최대, 최소, 평균, 표준편차 계산\n",
    "max_length = np.max(sentence_lengths)\n",
    "min_length = np.min(sentence_lengths)\n",
    "average_length = np.mean(sentence_lengths)\n",
    "std_length = np.std(sentence_lengths)\n",
    "\n",
    "# 히스토그램 그리기\n",
    "plt.hist(sentence_lengths, bins=50)\n",
    "plt.xlabel('length')\n",
    "plt.ylabel('frequency')\n",
    "plt.title('Sentence length distribution')\n",
    "plt.show()\n",
    "\n",
    "print(\"최대 길이:\", max_length)\n",
    "print(\"최소 길이:\", min_length)\n",
    "print(\"평균 길이:\", average_length)\n",
    "print(\"표준 편차:\", std_length)"
   ]
  },
  {
   "cell_type": "code",
   "execution_count": 10,
   "id": "dc41548c",
   "metadata": {},
   "outputs": [],
   "source": [
    "MAX_LENGTH = max_length\n",
    "\n",
    "# 정수 인코딩, 최대 길이를 초과하는 샘플 제거, 패딩\n",
    "def tokenize_and_filter(inputs, outputs):\n",
    "  tokenized_inputs, tokenized_outputs = [], []\n",
    "  \n",
    "  for (sentence1, sentence2) in zip(inputs, outputs):\n",
    "    # 정수 인코딩 과정에서 시작 토큰과 종료 토큰을 추가\n",
    "    sentence1 = START_TOKEN + tokenizer.encode(sentence1) + END_TOKEN\n",
    "    sentence2 = START_TOKEN + tokenizer.encode(sentence2) + END_TOKEN\n",
    "\n",
    "    # 최대 길이 이하인 경우에만 데이터셋으로 허용\n",
    "    if len(sentence1) <= MAX_LENGTH and len(sentence2) <= MAX_LENGTH:\n",
    "      tokenized_inputs.append(sentence1)\n",
    "      tokenized_outputs.append(sentence2)\n",
    "  \n",
    "  # 최대 길이 40으로 모든 데이터셋을 패딩\n",
    "  tokenized_inputs = tf.keras.preprocessing.sequence.pad_sequences(\n",
    "      tokenized_inputs, maxlen=MAX_LENGTH, padding='post')\n",
    "  tokenized_outputs = tf.keras.preprocessing.sequence.pad_sequences(\n",
    "      tokenized_outputs, maxlen=MAX_LENGTH, padding='post')\n",
    "  \n",
    "  return tokenized_inputs, tokenized_outputs"
   ]
  },
  {
   "cell_type": "code",
   "execution_count": 11,
   "id": "dae37fc9",
   "metadata": {},
   "outputs": [
    {
     "name": "stdout",
     "output_type": "stream",
     "text": [
      "단어장의 크기 : 8160\n",
      "필터링 후의 질문 샘플 개수: 11821\n",
      "필터링 후의 답변 샘플 개수: 11821\n"
     ]
    }
   ],
   "source": [
    "questions, answers = tokenize_and_filter(questions, answers)\n",
    "print('단어장의 크기 :',(VOCAB_SIZE))\n",
    "print('필터링 후의 질문 샘플 개수: {}'.format(len(questions)))\n",
    "print('필터링 후의 답변 샘플 개수: {}'.format(len(answers)))"
   ]
  },
  {
   "cell_type": "markdown",
   "id": "1995dc06",
   "metadata": {},
   "source": [
    "- val dataset 구성\n",
    "### 현재 사용 안함"
   ]
  },
  {
   "cell_type": "code",
   "execution_count": 12,
   "id": "35672835",
   "metadata": {},
   "outputs": [
    {
     "name": "stdout",
     "output_type": "stream",
     "text": [
      "11300\n"
     ]
    }
   ],
   "source": [
    "# 사용할 샘플의 최대 개수\n",
    "train_size = 11300\n",
    "print(train_size)"
   ]
  },
  {
   "cell_type": "code",
   "execution_count": 13,
   "id": "fee96429",
   "metadata": {},
   "outputs": [],
   "source": [
    "def do_not_use():\n",
    "    # 데이터를 질문과 답변을 함께 섞음\n",
    "    random.seed(42)  # 재현 가능한 랜덤 결과를 위해 시드 설정\n",
    "    combined_data = list(zip(questions, answers))\n",
    "    random.shuffle(combined_data)\n",
    "    Q, A = zip(*combined_data)\n",
    "\n",
    "    train_questions = Q[:train_size]\n",
    "    train_answers = A[:train_size]\n",
    "\n",
    "    val_questions = Q[train_size:]\n",
    "    val_answers = A[train_size:]\n",
    "\n",
    "    train_questions = list(train_questions)\n",
    "    train_answers = list(train_answers)\n",
    "\n",
    "    val_questions = list(val_questions)\n",
    "    val_answers = list(val_answers)\n",
    "    print('훈련 질문 샘플 수:', len(train_questions))\n",
    "    print('훈련 답변 샘플 수:', len(train_answers))\n",
    "    print('검증 질문 샘플 수:', len(val_questions))\n",
    "    print('검증 답변 샘플 수:', len(val_answers))"
   ]
  },
  {
   "cell_type": "code",
   "execution_count": 14,
   "id": "a0f17b48",
   "metadata": {},
   "outputs": [],
   "source": [
    "BATCH_SIZE = 64\n",
    "BUFFER_SIZE = 10000\n",
    "# 디코더는 이전의 target을 다음의 input으로 사용합니다.\n",
    "# 이에 따라 outputs에서는 START_TOKEN을 제거하겠습니다.\n",
    "dataset = tf.data.Dataset.from_tensor_slices((\n",
    "    {\n",
    "        'inputs': questions,\n",
    "        'dec_inputs': answers[:, :-1]\n",
    "    },\n",
    "    {\n",
    "        'outputs': answers[:, 1:]\n",
    "    },\n",
    "))\n",
    "\n",
    "dataset = dataset.cache()\n",
    "dataset = dataset.shuffle(BUFFER_SIZE)\n",
    "dataset = dataset.batch(BATCH_SIZE)\n",
    "dataset = dataset.prefetch(tf.data.experimental.AUTOTUNE)"
   ]
  },
  {
   "cell_type": "markdown",
   "id": "1961d93a",
   "metadata": {},
   "source": [
    "#### Step 4. 모델 구성하기"
   ]
  },
  {
   "cell_type": "code",
   "execution_count": 15,
   "id": "8307e54c",
   "metadata": {},
   "outputs": [],
   "source": [
    "def create_padding_mask(x):\n",
    "  mask = tf.cast(tf.math.equal(x, 0), tf.float32)\n",
    "  # (batch_size, 1, 1, sequence length)\n",
    "  return mask[:, tf.newaxis, tf.newaxis, :]"
   ]
  },
  {
   "cell_type": "code",
   "execution_count": 16,
   "id": "2264f43e",
   "metadata": {},
   "outputs": [],
   "source": [
    "def create_look_ahead_mask(x):\n",
    "  seq_len = tf.shape(x)[1]\n",
    "  look_ahead_mask = 1 - tf.linalg.band_part(tf.ones((seq_len, seq_len)), -1, 0)\n",
    "  padding_mask = create_padding_mask(x)\n",
    "  return tf.maximum(look_ahead_mask, padding_mask)"
   ]
  },
  {
   "cell_type": "code",
   "execution_count": 17,
   "id": "abbeda23",
   "metadata": {},
   "outputs": [],
   "source": [
    "# 인코더 하나의 레이어를 함수로 구현.\n",
    "# 이 하나의 레이어 안에는 두 개의 서브 레이어가 존재합니다.\n",
    "def encoder_layer(units, d_model, num_heads, dropout, name=\"encoder_layer\"):\n",
    "  inputs = tf.keras.Input(shape=(None, d_model), name=\"inputs\")\n",
    "\n",
    "  # 패딩 마스크 사용\n",
    "  padding_mask = tf.keras.Input(shape=(1, 1, None), name=\"padding_mask\")\n",
    "\n",
    "  # 첫 번째 서브 레이어 : 멀티 헤드 어텐션 수행 (셀프 어텐션)\n",
    "  attention = MultiHeadAttention(\n",
    "      d_model, num_heads, name=\"attention\")({\n",
    "          'query': inputs,\n",
    "          'key': inputs,\n",
    "          'value': inputs,\n",
    "          'mask': padding_mask\n",
    "      })\n",
    "\n",
    "  # 어텐션의 결과는 Dropout과 Layer Normalization이라는 훈련을 돕는 테크닉을 수행\n",
    "  attention = tf.keras.layers.Dropout(rate=dropout)(attention)\n",
    "  attention = tf.keras.layers.LayerNormalization(\n",
    "      epsilon=1e-6)(inputs + attention)\n",
    "\n",
    "  # 두 번째 서브 레이어 : 2개의 완전연결층\n",
    "  outputs = tf.keras.layers.Dense(units=units, activation='relu')(attention)\n",
    "  outputs = tf.keras.layers.Dense(units=d_model)(outputs)\n",
    "\n",
    "  # 완전연결층의 결과는 Dropout과 LayerNormalization이라는 훈련을 돕는 테크닉을 수행\n",
    "  outputs = tf.keras.layers.Dropout(rate=dropout)(outputs)\n",
    "  outputs = tf.keras.layers.LayerNormalization(\n",
    "      epsilon=1e-6)(attention + outputs)\n",
    "\n",
    "  return tf.keras.Model(\n",
    "      inputs=[inputs, padding_mask], outputs=outputs, name=name)"
   ]
  },
  {
   "cell_type": "code",
   "execution_count": 18,
   "id": "d95195f7",
   "metadata": {},
   "outputs": [],
   "source": [
    "# 포지셔널 인코딩 레이어\n",
    "class PositionalEncoding(tf.keras.layers.Layer):\n",
    "\n",
    "  def __init__(self, position, d_model):\n",
    "    super(PositionalEncoding, self).__init__()\n",
    "    self.pos_encoding = self.positional_encoding(position, d_model)\n",
    "\n",
    "  def get_angles(self, position, i, d_model):\n",
    "    angles = 1 / tf.pow(10000, (2 * (i // 2)) / tf.cast(d_model, tf.float32))\n",
    "    return position * angles\n",
    "\n",
    "  def positional_encoding(self, position, d_model):\n",
    "    # 각도 배열 생성\n",
    "    angle_rads = self.get_angles(\n",
    "        position=tf.range(position, dtype=tf.float32)[:, tf.newaxis],\n",
    "        i=tf.range(d_model, dtype=tf.float32)[tf.newaxis, :],\n",
    "        d_model=d_model)\n",
    "\n",
    "    # 배열의 짝수 인덱스에는 sin 함수 적용\n",
    "    sines = tf.math.sin(angle_rads[:, 0::2])\n",
    "    # 배열의 홀수 인덱스에는 cosine 함수 적용\n",
    "    cosines = tf.math.cos(angle_rads[:, 1::2])\n",
    "\n",
    "    # sin과 cosine이 교차되도록 재배열\n",
    "    pos_encoding = tf.stack([sines, cosines], axis=0)\n",
    "    pos_encoding = tf.transpose(pos_encoding,[1, 2, 0]) \n",
    "    pos_encoding = tf.reshape(pos_encoding, [position, d_model])\n",
    "\n",
    "    pos_encoding = pos_encoding[tf.newaxis, ...]\n",
    "    return tf.cast(pos_encoding, tf.float32)\n",
    "\n",
    "  def call(self, inputs):\n",
    "    return inputs + self.pos_encoding[:, :tf.shape(inputs)[1], :]"
   ]
  },
  {
   "cell_type": "code",
   "execution_count": 19,
   "id": "702a0632",
   "metadata": {},
   "outputs": [],
   "source": [
    "def encoder(vocab_size,\n",
    "            num_layers,\n",
    "            units,\n",
    "            d_model,\n",
    "            num_heads,\n",
    "            dropout,\n",
    "            name=\"encoder\"):\n",
    "  inputs = tf.keras.Input(shape=(None,), name=\"inputs\")\n",
    "\n",
    "  # 패딩 마스크 사용\n",
    "  padding_mask = tf.keras.Input(shape=(1, 1, None), name=\"padding_mask\")\n",
    "\n",
    "  # 임베딩 레이어\n",
    "  embeddings = tf.keras.layers.Embedding(vocab_size, d_model)(inputs)\n",
    "  embeddings *= tf.math.sqrt(tf.cast(d_model, tf.float32))\n",
    "\n",
    "  # 포지셔널 인코딩\n",
    "  embeddings = PositionalEncoding(vocab_size, d_model)(embeddings)\n",
    "\n",
    "  outputs = tf.keras.layers.Dropout(rate=dropout)(embeddings)\n",
    "\n",
    "  # num_layers만큼 쌓아올린 인코더의 층.\n",
    "  for i in range(num_layers):\n",
    "    outputs = encoder_layer(\n",
    "        units=units,\n",
    "        d_model=d_model,\n",
    "        num_heads=num_heads,\n",
    "        dropout=dropout,\n",
    "        name=\"encoder_layer_{}\".format(i),\n",
    "    )([outputs, padding_mask])\n",
    "\n",
    "  return tf.keras.Model(\n",
    "      inputs=[inputs, padding_mask], outputs=outputs, name=name)"
   ]
  },
  {
   "cell_type": "code",
   "execution_count": 20,
   "id": "54f96258",
   "metadata": {},
   "outputs": [],
   "source": [
    "# 디코더 하나의 레이어를 함수로 구현.\n",
    "# 이 하나의 레이어 안에는 세 개의 서브 레이어가 존재합니다.\n",
    "def decoder_layer(units, d_model, num_heads, dropout, name=\"decoder_layer\"):\n",
    "  inputs = tf.keras.Input(shape=(None, d_model), name=\"inputs\")\n",
    "  enc_outputs = tf.keras.Input(shape=(None, d_model), name=\"encoder_outputs\")\n",
    "  look_ahead_mask = tf.keras.Input(\n",
    "      shape=(1, None, None), name=\"look_ahead_mask\")\n",
    "  padding_mask = tf.keras.Input(shape=(1, 1, None), name='padding_mask')\n",
    "\n",
    "  # 첫 번째 서브 레이어 : 멀티 헤드 어텐션 수행 (셀프 어텐션)\n",
    "  attention1 = MultiHeadAttention(\n",
    "      d_model, num_heads, name=\"attention_1\")(inputs={\n",
    "          'query': inputs,\n",
    "          'key': inputs,\n",
    "          'value': inputs,\n",
    "          'mask': look_ahead_mask\n",
    "      })\n",
    "\n",
    "  # 멀티 헤드 어텐션의 결과는 LayerNormalization이라는 훈련을 돕는 테크닉을 수행\n",
    "  attention1 = tf.keras.layers.LayerNormalization(\n",
    "      epsilon=1e-6)(attention1 + inputs)\n",
    "\n",
    "  # 두 번째 서브 레이어 : 마스크드 멀티 헤드 어텐션 수행 (인코더-디코더 어텐션)\n",
    "  attention2 = MultiHeadAttention(\n",
    "      d_model, num_heads, name=\"attention_2\")(inputs={\n",
    "          'query': attention1,\n",
    "          'key': enc_outputs,\n",
    "          'value': enc_outputs,\n",
    "          'mask': padding_mask\n",
    "      })\n",
    "\n",
    "  # 마스크드 멀티 헤드 어텐션의 결과는\n",
    "  # Dropout과 LayerNormalization이라는 훈련을 돕는 테크닉을 수행\n",
    "  attention2 = tf.keras.layers.Dropout(rate=dropout)(attention2)\n",
    "  attention2 = tf.keras.layers.LayerNormalization(\n",
    "      epsilon=1e-6)(attention2 + attention1)\n",
    "\n",
    "  # 세 번째 서브 레이어 : 2개의 완전연결층\n",
    "  outputs = tf.keras.layers.Dense(units=units, activation='relu')(attention2)\n",
    "  outputs = tf.keras.layers.Dense(units=d_model)(outputs)\n",
    "\n",
    "  # 완전연결층의 결과는 Dropout과 LayerNormalization 수행\n",
    "  outputs = tf.keras.layers.Dropout(rate=dropout)(outputs)\n",
    "  outputs = tf.keras.layers.LayerNormalization(\n",
    "      epsilon=1e-6)(outputs + attention2)\n",
    "\n",
    "  return tf.keras.Model(\n",
    "      inputs=[inputs, enc_outputs, look_ahead_mask, padding_mask],\n",
    "      outputs=outputs,\n",
    "      name=name)"
   ]
  },
  {
   "cell_type": "code",
   "execution_count": 21,
   "id": "56e135a5",
   "metadata": {},
   "outputs": [],
   "source": [
    "def decoder(vocab_size,\n",
    "            num_layers,\n",
    "            units,\n",
    "            d_model,\n",
    "            num_heads,\n",
    "            dropout,\n",
    "            name='decoder'):\n",
    "  inputs = tf.keras.Input(shape=(None,), name='inputs')\n",
    "  enc_outputs = tf.keras.Input(shape=(None, d_model), name='encoder_outputs')\n",
    "  look_ahead_mask = tf.keras.Input(\n",
    "      shape=(1, None, None), name='look_ahead_mask')\n",
    "\n",
    "  # 패딩 마스크\n",
    "  padding_mask = tf.keras.Input(shape=(1, 1, None), name='padding_mask')\n",
    "  \n",
    "  # 임베딩 레이어\n",
    "  embeddings = tf.keras.layers.Embedding(vocab_size, d_model)(inputs)\n",
    "  embeddings *= tf.math.sqrt(tf.cast(d_model, tf.float32))\n",
    "\n",
    "  # 포지셔널 인코딩\n",
    "  embeddings = PositionalEncoding(vocab_size, d_model)(embeddings)\n",
    "\n",
    "  # Dropout이라는 훈련을 돕는 테크닉을 수행\n",
    "  outputs = tf.keras.layers.Dropout(rate=dropout)(embeddings)\n",
    "\n",
    "  for i in range(num_layers):\n",
    "    outputs = decoder_layer(\n",
    "        units=units,\n",
    "        d_model=d_model,\n",
    "        num_heads=num_heads,\n",
    "        dropout=dropout,\n",
    "        name='decoder_layer_{}'.format(i),\n",
    "    )(inputs=[outputs, enc_outputs, look_ahead_mask, padding_mask])\n",
    "\n",
    "  return tf.keras.Model(\n",
    "      inputs=[inputs, enc_outputs, look_ahead_mask, padding_mask],\n",
    "      outputs=outputs,\n",
    "      name=name)"
   ]
  },
  {
   "cell_type": "code",
   "execution_count": 22,
   "id": "c659e598",
   "metadata": {},
   "outputs": [],
   "source": [
    "# 스케일드 닷 프로덕트 어텐션 함수\n",
    "def scaled_dot_product_attention(query, key, value, mask):\n",
    "  # 어텐션 가중치는 Q와 K의 닷 프로덕트\n",
    "  matmul_qk = tf.matmul(query, key, transpose_b=True)\n",
    "\n",
    "  # 가중치를 정규화\n",
    "  depth = tf.cast(tf.shape(key)[-1], tf.float32)\n",
    "  logits = matmul_qk / tf.math.sqrt(depth)\n",
    "\n",
    "  # 패딩에 마스크 추가\n",
    "  if mask is not None:\n",
    "    logits += (mask * -1e9)\n",
    "\n",
    "  # softmax적용\n",
    "  attention_weights = tf.nn.softmax(logits, axis=-1)\n",
    "\n",
    "  # 최종 어텐션은 가중치와 V의 닷 프로덕트\n",
    "  output = tf.matmul(attention_weights, value)\n",
    "  return output"
   ]
  },
  {
   "cell_type": "code",
   "execution_count": 23,
   "id": "16a789d2",
   "metadata": {},
   "outputs": [],
   "source": [
    "class MultiHeadAttention(tf.keras.layers.Layer):\n",
    "\n",
    "  def __init__(self, d_model, num_heads, name=\"multi_head_attention\"):\n",
    "    super(MultiHeadAttention, self).__init__(name=name)\n",
    "    self.num_heads = num_heads\n",
    "    self.d_model = d_model\n",
    "\n",
    "    assert d_model % self.num_heads == 0\n",
    "\n",
    "    self.depth = d_model // self.num_heads\n",
    "\n",
    "    self.query_dense = tf.keras.layers.Dense(units=d_model)\n",
    "    self.key_dense = tf.keras.layers.Dense(units=d_model)\n",
    "    self.value_dense = tf.keras.layers.Dense(units=d_model)\n",
    "\n",
    "    self.dense = tf.keras.layers.Dense(units=d_model)\n",
    "\n",
    "  def split_heads(self, inputs, batch_size):\n",
    "    inputs = tf.reshape(\n",
    "        inputs, shape=(batch_size, -1, self.num_heads, self.depth))\n",
    "    return tf.transpose(inputs, perm=[0, 2, 1, 3])\n",
    "\n",
    "  def call(self, inputs):\n",
    "    query, key, value, mask = inputs['query'], inputs['key'], inputs[\n",
    "        'value'], inputs['mask']\n",
    "    batch_size = tf.shape(query)[0]\n",
    "\n",
    "    # Q, K, V에 각각 Dense를 적용합니다\n",
    "    query = self.query_dense(query)  # Q에 Dense를 적용하여 query를 계산합니다\n",
    "    key = self.key_dense(key)  # K에 Dense를 적용하여 key를 계산합니다\n",
    "    value = self.value_dense(value)  # V에 Dense를 적용하여 value를 계산합니다\n",
    "\n",
    "    # 병렬 연산을 위한 머리를 여러 개 만듭니다\n",
    "    query = self.split_heads(query, batch_size)  # query를 머리 수(num_heads)로 분할합니다\n",
    "    key = self.split_heads(key, batch_size)  # key를 머리 수(num_heads)로 분할합니다\n",
    "    value = self.split_heads(value, batch_size)  # value를 머리 수(num_heads)로 분할합니다\n",
    "\n",
    "    # 스케일드 닷 프로덕트 어텐션 함수\n",
    "    scaled_attention = scaled_dot_product_attention(query, key, value, mask)\n",
    "\n",
    "    scaled_attention = tf.transpose(scaled_attention, perm=[0, 2, 1, 3])\n",
    "\n",
    "    # 어텐션 연산 후에 각 결과를 다시 연결(concatenate)합니다\n",
    "    concat_attention = tf.reshape(scaled_attention,\n",
    "                                  (batch_size, -1, self.d_model))\n",
    "\n",
    "    # 최종 결과에도 Dense를 한 번 더 적용합니다\n",
    "    outputs = self.dense(concat_attention)\n",
    "\n",
    "    return outputs"
   ]
  },
  {
   "cell_type": "code",
   "execution_count": 24,
   "id": "0bfa3d52",
   "metadata": {},
   "outputs": [],
   "source": [
    "def transformer(vocab_size,\n",
    "                num_layers,\n",
    "                units,\n",
    "                d_model,\n",
    "                num_heads,\n",
    "                dropout,\n",
    "                name=\"transformer\"):\n",
    "  inputs = tf.keras.Input(shape=(None,), name=\"inputs\")\n",
    "  dec_inputs = tf.keras.Input(shape=(None,), name=\"dec_inputs\")\n",
    "\n",
    "  # 인코더에서 패딩을 위한 마스크\n",
    "  enc_padding_mask = tf.keras.layers.Lambda(\n",
    "      create_padding_mask, output_shape=(1, 1, None),\n",
    "      name='enc_padding_mask')(inputs)\n",
    "\n",
    "  # 디코더에서 미래의 토큰을 마스크 하기 위해서 사용합니다.\n",
    "  # 내부적으로 패딩 마스크도 포함되어져 있습니다.\n",
    "  look_ahead_mask = tf.keras.layers.Lambda(\n",
    "      create_look_ahead_mask,\n",
    "      output_shape=(1, None, None),\n",
    "      name='look_ahead_mask')(dec_inputs)\n",
    "\n",
    "  # 두 번째 어텐션 블록에서 인코더의 벡터들을 마스킹\n",
    "  # 디코더에서 패딩을 위한 마스크\n",
    "  dec_padding_mask = tf.keras.layers.Lambda(\n",
    "      create_padding_mask, output_shape=(1, 1, None),\n",
    "      name='dec_padding_mask')(inputs)\n",
    "\n",
    "  # 인코더\n",
    "  enc_outputs = encoder(\n",
    "      vocab_size=vocab_size,\n",
    "      num_layers=num_layers,\n",
    "      units=units,\n",
    "      d_model=d_model,\n",
    "      num_heads=num_heads,\n",
    "      dropout=dropout,\n",
    "  )(inputs=[inputs, enc_padding_mask])\n",
    "\n",
    "  # 디코더\n",
    "  dec_outputs = decoder(\n",
    "      vocab_size=vocab_size,\n",
    "      num_layers=num_layers,\n",
    "      units=units,\n",
    "      d_model=d_model,\n",
    "      num_heads=num_heads,\n",
    "      dropout=dropout,\n",
    "  )(inputs=[dec_inputs, enc_outputs, look_ahead_mask, dec_padding_mask])\n",
    "\n",
    "  # 완전연결층\n",
    "  outputs = tf.keras.layers.Dense(units=vocab_size, name=\"outputs\")(dec_outputs)\n",
    "\n",
    "  return tf.keras.Model(inputs=[inputs, dec_inputs], outputs=outputs, name=name)"
   ]
  },
  {
   "attachments": {
    "image.png": {
     "image/png": "[encoded data removed]"
    }
   },
   "cell_type": "markdown",
   "id": "e7e2cc76",
   "metadata": {},
   "source": [
    "![image.png](attachment:image.png)"
   ]
  },
  {
   "cell_type": "code",
   "execution_count": 25,
   "id": "d91c59d5",
   "metadata": {},
   "outputs": [
    {
     "name": "stdout",
     "output_type": "stream",
     "text": [
      "Model: \"transformer\"\n",
      "__________________________________________________________________________________________________\n",
      "Layer (type)                    Output Shape         Param #     Connected to                     \n",
      "==================================================================================================\n",
      "inputs (InputLayer)             [(None, None)]       0                                            \n",
      "__________________________________________________________________________________________________\n",
      "dec_inputs (InputLayer)         [(None, None)]       0                                            \n",
      "__________________________________________________________________________________________________\n",
      "enc_padding_mask (Lambda)       (None, 1, 1, None)   0           inputs[0][0]                     \n",
      "__________________________________________________________________________________________________\n",
      "encoder (Functional)            (None, None, 512)    23092224    inputs[0][0]                     \n",
      "                                                                 enc_padding_mask[0][0]           \n",
      "__________________________________________________________________________________________________\n",
      "look_ahead_mask (Lambda)        (None, 1, None, None 0           dec_inputs[0][0]                 \n",
      "__________________________________________________________________________________________________\n",
      "dec_padding_mask (Lambda)       (None, 1, 1, None)   0           inputs[0][0]                     \n",
      "__________________________________________________________________________________________________\n",
      "decoder (Functional)            (None, None, 512)    29402112    dec_inputs[0][0]                 \n",
      "                                                                 encoder[0][0]                    \n",
      "                                                                 look_ahead_mask[0][0]            \n",
      "                                                                 dec_padding_mask[0][0]           \n",
      "__________________________________________________________________________________________________\n",
      "outputs (Dense)                 (None, None, 8160)   4186080     decoder[0][0]                    \n",
      "==================================================================================================\n",
      "Total params: 56,680,416\n",
      "Trainable params: 56,680,416\n",
      "Non-trainable params: 0\n",
      "__________________________________________________________________________________________________\n"
     ]
    }
   ],
   "source": [
    "tf.keras.backend.clear_session()\n",
    "'''\n",
    "  hparams = common_hparams.basic_params1()\n",
    "  hparams.no_data_parallelism = True\n",
    "  hparams.use_fixed_batch_size = True\n",
    "  hparams.add_hparam(\"mtf_mode\", True)\n",
    "  hparams.batch_size = 64\n",
    "  hparams.max_length = 256\n",
    "  hparams.add_hparam(\"d_model\", 512)\n",
    "  hparams.add_hparam(\"d_kv\", 128)\n",
    "  hparams.add_hparam(\"local_attention_window_size\", 128)\n",
    "  hparams.label_smoothing = 0.1\n",
    "  # 8-way model-parallelism\n",
    "  hparams.add_hparam(\"mesh_shape\", \"model:8\")\n",
    "  hparams.add_hparam(\"layout\", \"batch:batch;vocab:model;d_ff:model;heads:model\")\n",
    "  hparams.add_hparam(\"num_heads\", 8)\n",
    "  hparams.add_hparam(\"d_ff\", 2048)\n",
    "  hparams.add_hparam(\"encoder_replicate_factor\", 1)\n",
    "  hparams.add_hparam(\"decoder_replicate_factor\", 1)\n",
    "  hparams.add_hparam(\"encoder_layers\", [\"att\", \"drd\"] * 6)\n",
    "  hparams.add_hparam(\"decoder_layers\", [\"att\", \"enc_att\", \"drd\"] * 6)\n",
    "  hparams.add_hparam(\"attention_dropout\", 0.1)\n",
    "  hparams.add_hparam(\"relu_dropout\", 0.1)\n",
    "  hparams.layer_prepostprocess_dropout = 0.1\n",
    "'''\n",
    "NUM_LAYERS = 6 # 인코더와 디코더의 층의 개수\n",
    "D_MODEL = 512 # 인코더와 디코더 내부의 입, 출력의 고정 차원\n",
    "NUM_HEADS = 8 # 멀티 헤드 어텐션에서의 헤드 수 \n",
    "UNITS = 2048 # 피드 포워드 신경망의 은닉층의 크기\n",
    "DROPOUT = 0.1 # 드롭아웃의 비율\n",
    "EPOCHS = 64 # 반복횟수\n",
    "model = transformer(\n",
    "    vocab_size=VOCAB_SIZE,\n",
    "    num_layers=NUM_LAYERS,\n",
    "    units=UNITS,\n",
    "    d_model=D_MODEL,\n",
    "    num_heads=NUM_HEADS,\n",
    "    dropout=DROPOUT)\n",
    "model.summary()"
   ]
  },
  {
   "cell_type": "code",
   "execution_count": 26,
   "id": "b32747ff",
   "metadata": {},
   "outputs": [],
   "source": [
    "def loss_function(y_true, y_pred):\n",
    "  y_true = tf.reshape(y_true, shape=(-1, MAX_LENGTH - 1))\n",
    "  \n",
    "  loss = tf.keras.losses.SparseCategoricalCrossentropy(\n",
    "      from_logits=True, reduction='none')(y_true, y_pred)\n",
    "\n",
    "  mask = tf.cast(tf.not_equal(y_true, 0), tf.float32)\n",
    "  loss = tf.multiply(loss, mask)\n",
    "\n",
    "  return tf.reduce_mean(loss)"
   ]
  },
  {
   "cell_type": "code",
   "execution_count": 27,
   "id": "71d3a2f5",
   "metadata": {},
   "outputs": [],
   "source": [
    "class CustomSchedule(tf.keras.optimizers.schedules.LearningRateSchedule):\n",
    "\n",
    "  def __init__(self, d_model, warmup_steps=2500):\n",
    "    super(CustomSchedule, self).__init__()\n",
    "\n",
    "    self.d_model = d_model\n",
    "    self.d_model = tf.cast(self.d_model, tf.float32)\n",
    "\n",
    "    self.warmup_steps = warmup_steps\n",
    "\n",
    "  def __call__(self, step):\n",
    "    arg1 = tf.math.rsqrt(step)\n",
    "    arg2 = step * (self.warmup_steps**-1.5)\n",
    "\n",
    "    return tf.math.rsqrt(self.d_model) * tf.math.minimum(arg1, arg2)"
   ]
  },
  {
   "cell_type": "code",
   "execution_count": 28,
   "id": "90d1d146",
   "metadata": {},
   "outputs": [
    {
     "name": "stdout",
     "output_type": "stream",
     "text": [
      "11821.0\n"
     ]
    },
    {
     "data": {
      "text/plain": [
       "Text(0.5, 0, 'Train Step')"
      ]
     },
     "execution_count": 28,
     "metadata": {},
     "output_type": "execute_result"
    },
    {
     "data": {
      "image/png": "[encoded data removed]",
      "text/plain": [
       "<Figure size 432x288 with 1 Axes>"
      ]
     },
     "metadata": {
      "needs_background": "light"
     },
     "output_type": "display_data"
    }
   ],
   "source": [
    "# sample_learning_rate = CustomSchedule(d_model=D_MODEL)\n",
    "sample_learning_rate = CustomSchedule(d_model=D_MODEL)\n",
    "total_step = EPOCHS * len(questions)/BATCH_SIZE\n",
    "print(total_step)\n",
    "plt.plot(sample_learning_rate(tf.range(20000, dtype=tf.float32)))\n",
    "plt.ylabel(\"Learning Rate\")\n",
    "plt.xlabel(\"Train Step\")"
   ]
  },
  {
   "cell_type": "code",
   "execution_count": 29,
   "id": "67a3941d",
   "metadata": {},
   "outputs": [],
   "source": [
    "learning_rate = CustomSchedule(D_MODEL)\n",
    "\n",
    "optimizer = tf.keras.optimizers.Adam(\n",
    "    learning_rate=learning_rate, beta_1=0.9, beta_2=0.98, epsilon=1e-9) \n",
    "\n",
    "def accuracy(y_true, y_pred):\n",
    "    y_true = tf.reshape(y_true, shape=(-1, MAX_LENGTH - 1))\n",
    "    return tf.keras.metrics.sparse_categorical_accuracy(y_true, y_pred)\n",
    "\n",
    "model.compile(optimizer=optimizer, loss=loss_function, metrics=[accuracy])\n"
   ]
  },
  {
   "cell_type": "code",
   "execution_count": 30,
   "id": "b77a3f6f",
   "metadata": {},
   "outputs": [
    {
     "name": "stdout",
     "output_type": "stream",
     "text": [
      "Epoch 1/64\n",
      "185/185 [==============================] - 61s 235ms/step - loss: 1.7613 - accuracy: 0.0439\n",
      "Epoch 2/64\n",
      "185/185 [==============================] - 43s 232ms/step - loss: 1.4072 - accuracy: 0.0696\n",
      "Epoch 3/64\n",
      "185/185 [==============================] - 43s 233ms/step - loss: 1.3134 - accuracy: 0.0730\n",
      "Epoch 4/64\n",
      "185/185 [==============================] - 43s 233ms/step - loss: 1.2618 - accuracy: 0.0760\n",
      "Epoch 5/64\n",
      "185/185 [==============================] - 43s 233ms/step - loss: 1.2213 - accuracy: 0.0778\n",
      "Epoch 6/64\n",
      "185/185 [==============================] - 43s 232ms/step - loss: 1.1862 - accuracy: 0.0794\n",
      "Epoch 7/64\n",
      "185/185 [==============================] - 43s 232ms/step - loss: 1.1536 - accuracy: 0.0809\n",
      "Epoch 8/64\n",
      "185/185 [==============================] - 43s 232ms/step - loss: 1.1251 - accuracy: 0.0818\n",
      "Epoch 9/64\n",
      "185/185 [==============================] - 43s 232ms/step - loss: 1.0993 - accuracy: 0.0829\n",
      "Epoch 10/64\n",
      "185/185 [==============================] - 43s 232ms/step - loss: 1.0768 - accuracy: 0.0840\n",
      "Epoch 11/64\n",
      "185/185 [==============================] - 43s 232ms/step - loss: 1.0534 - accuracy: 0.0852\n",
      "Epoch 12/64\n",
      "185/185 [==============================] - 43s 232ms/step - loss: 1.0531 - accuracy: 0.0847\n",
      "Epoch 13/64\n",
      "185/185 [==============================] - 43s 232ms/step - loss: 1.0367 - accuracy: 0.0852\n",
      "Epoch 14/64\n",
      "185/185 [==============================] - 43s 232ms/step - loss: 1.0676 - accuracy: 0.0831\n",
      "Epoch 15/64\n",
      "185/185 [==============================] - 43s 232ms/step - loss: 1.0322 - accuracy: 0.0849\n",
      "Epoch 16/64\n",
      "185/185 [==============================] - 43s 232ms/step - loss: 0.9936 - accuracy: 0.0871\n",
      "Epoch 17/64\n",
      "185/185 [==============================] - 43s 232ms/step - loss: 0.9896 - accuracy: 0.0870\n",
      "Epoch 18/64\n",
      "185/185 [==============================] - 43s 232ms/step - loss: 0.9595 - accuracy: 0.0888\n",
      "Epoch 19/64\n",
      "185/185 [==============================] - 43s 232ms/step - loss: 0.9188 - accuracy: 0.0922\n",
      "Epoch 20/64\n",
      "185/185 [==============================] - 43s 232ms/step - loss: 0.9011 - accuracy: 0.0933\n",
      "Epoch 21/64\n",
      "185/185 [==============================] - 43s 231ms/step - loss: 0.8889 - accuracy: 0.0945\n",
      "Epoch 22/64\n",
      "185/185 [==============================] - 43s 231ms/step - loss: 0.8736 - accuracy: 0.0956\n",
      "Epoch 23/64\n",
      "185/185 [==============================] - 43s 231ms/step - loss: 0.8387 - accuracy: 0.0988\n",
      "Epoch 24/64\n",
      "185/185 [==============================] - 43s 232ms/step - loss: 0.8198 - accuracy: 0.1007\n",
      "Epoch 25/64\n",
      "185/185 [==============================] - 43s 232ms/step - loss: 0.7977 - accuracy: 0.1028\n",
      "Epoch 26/64\n",
      "185/185 [==============================] - 43s 232ms/step - loss: 0.7752 - accuracy: 0.1053\n",
      "Epoch 27/64\n",
      "185/185 [==============================] - 43s 232ms/step - loss: 0.7548 - accuracy: 0.1081\n",
      "Epoch 28/64\n",
      "185/185 [==============================] - 43s 232ms/step - loss: 0.7519 - accuracy: 0.1078\n",
      "Epoch 29/64\n",
      "185/185 [==============================] - 43s 232ms/step - loss: 0.7324 - accuracy: 0.1105\n",
      "Epoch 30/64\n",
      "185/185 [==============================] - 43s 232ms/step - loss: 0.7114 - accuracy: 0.1133\n",
      "Epoch 31/64\n",
      "185/185 [==============================] - 43s 232ms/step - loss: 0.7037 - accuracy: 0.1147\n",
      "Epoch 32/64\n",
      "185/185 [==============================] - 43s 232ms/step - loss: 0.6909 - accuracy: 0.1157\n",
      "Epoch 33/64\n",
      "185/185 [==============================] - 43s 233ms/step - loss: 0.6668 - accuracy: 0.1197\n",
      "Epoch 34/64\n",
      "185/185 [==============================] - 43s 232ms/step - loss: 0.6591 - accuracy: 0.1208\n",
      "Epoch 35/64\n",
      "185/185 [==============================] - 43s 232ms/step - loss: 0.6408 - accuracy: 0.1240\n",
      "Epoch 36/64\n",
      "185/185 [==============================] - 43s 232ms/step - loss: 0.6346 - accuracy: 0.1252\n",
      "Epoch 37/64\n",
      "185/185 [==============================] - 43s 232ms/step - loss: 0.6301 - accuracy: 0.1258\n",
      "Epoch 38/64\n",
      "185/185 [==============================] - 43s 231ms/step - loss: 0.6165 - accuracy: 0.1280\n",
      "Epoch 39/64\n",
      "185/185 [==============================] - 43s 232ms/step - loss: 0.6004 - accuracy: 0.1309\n",
      "Epoch 40/64\n",
      "185/185 [==============================] - 43s 232ms/step - loss: 0.6046 - accuracy: 0.1300\n",
      "Epoch 41/64\n",
      "185/185 [==============================] - 43s 232ms/step - loss: 0.5917 - accuracy: 0.1326\n",
      "Epoch 42/64\n",
      "185/185 [==============================] - 43s 232ms/step - loss: 0.5767 - accuracy: 0.1353\n",
      "Epoch 43/64\n",
      "185/185 [==============================] - 43s 231ms/step - loss: 0.5663 - accuracy: 0.1374\n",
      "Epoch 44/64\n",
      "185/185 [==============================] - 43s 231ms/step - loss: 0.5580 - accuracy: 0.1389\n",
      "Epoch 45/64\n",
      "185/185 [==============================] - 43s 232ms/step - loss: 0.5632 - accuracy: 0.1382\n",
      "Epoch 46/64\n",
      "185/185 [==============================] - 43s 232ms/step - loss: 0.5519 - accuracy: 0.1404\n",
      "Epoch 47/64\n",
      "185/185 [==============================] - 43s 232ms/step - loss: 0.5509 - accuracy: 0.1401\n",
      "Epoch 48/64\n",
      "185/185 [==============================] - 43s 232ms/step - loss: 0.5395 - accuracy: 0.1426\n",
      "Epoch 49/64\n",
      "185/185 [==============================] - 43s 232ms/step - loss: 0.5247 - accuracy: 0.1460\n",
      "Epoch 50/64\n",
      "185/185 [==============================] - 43s 232ms/step - loss: 0.5250 - accuracy: 0.1457\n",
      "Epoch 51/64\n",
      "185/185 [==============================] - 43s 232ms/step - loss: 0.5163 - accuracy: 0.1476\n",
      "Epoch 52/64\n",
      "185/185 [==============================] - 43s 232ms/step - loss: 0.5192 - accuracy: 0.1470\n",
      "Epoch 53/64\n",
      "185/185 [==============================] - 43s 232ms/step - loss: 0.5124 - accuracy: 0.1483\n",
      "Epoch 54/64\n",
      "185/185 [==============================] - 43s 232ms/step - loss: 0.5154 - accuracy: 0.1478\n",
      "Epoch 55/64\n",
      "185/185 [==============================] - 43s 232ms/step - loss: 0.5037 - accuracy: 0.1501\n",
      "Epoch 56/64\n",
      "185/185 [==============================] - 43s 232ms/step - loss: 0.4964 - accuracy: 0.1520\n",
      "Epoch 57/64\n",
      "185/185 [==============================] - 43s 232ms/step - loss: 0.4956 - accuracy: 0.1523\n",
      "Epoch 58/64\n",
      "185/185 [==============================] - 43s 232ms/step - loss: 0.4868 - accuracy: 0.1537\n",
      "Epoch 59/64\n",
      "185/185 [==============================] - 43s 232ms/step - loss: 0.4905 - accuracy: 0.1534\n",
      "Epoch 60/64\n",
      "185/185 [==============================] - 43s 232ms/step - loss: 0.4880 - accuracy: 0.1538\n",
      "Epoch 61/64\n",
      "185/185 [==============================] - 43s 232ms/step - loss: 0.4773 - accuracy: 0.1560\n",
      "Epoch 62/64\n",
      "185/185 [==============================] - 43s 232ms/step - loss: 0.4777 - accuracy: 0.1558\n",
      "Epoch 63/64\n",
      "185/185 [==============================] - 43s 232ms/step - loss: 0.4814 - accuracy: 0.1552\n",
      "Epoch 64/64\n",
      "185/185 [==============================] - 43s 232ms/step - loss: 0.4720 - accuracy: 0.1573\n"
     ]
    },
    {
     "data": {
      "text/plain": [
       "<keras.callbacks.History at 0x7f6371f71e80>"
      ]
     },
     "execution_count": 30,
     "metadata": {},
     "output_type": "execute_result"
    }
   ],
   "source": [
    "model.fit(dataset, epochs=EPOCHS, verbose=1)"
   ]
  },
  {
   "cell_type": "markdown",
   "id": "ac1ed152",
   "metadata": {},
   "source": [
    "#### Step 5. 모델 평가하기"
   ]
  },
  {
   "cell_type": "code",
   "execution_count": 31,
   "id": "1ad4113a",
   "metadata": {},
   "outputs": [],
   "source": [
    "def decoder_inference(sentence):\n",
    "  sentence = preprocess_sentence(sentence)\n",
    "\n",
    "  # 입력된 문장을 정수 인코딩 후, 시작 토큰과 종료 토큰을 앞뒤로 추가.\n",
    "  # ex) Where have you been? → [[8331   86   30    5 1059    7 8332]]\n",
    "  sentence = tf.expand_dims(\n",
    "      START_TOKEN + tokenizer.encode(sentence) + END_TOKEN, axis=0)\n",
    "\n",
    "  # 디코더의 현재까지의 예측한 출력 시퀀스가 지속적으로 저장되는 변수.\n",
    "  # 처음에는 예측한 내용이 없음으로 시작 토큰만 별도 저장. ex) 8331\n",
    "  output_sequence = tf.expand_dims(START_TOKEN, 0)\n",
    "\n",
    "  # 디코더의 인퍼런스 단계\n",
    "  for i in range(MAX_LENGTH):\n",
    "    # 디코더는 최대 MAX_LENGTH의 길이만큼 다음 단어 예측을 반복합니다.\n",
    "    predictions = model(inputs=[sentence, output_sequence], training=False)\n",
    "    predictions = predictions[:, -1:, :]\n",
    "\n",
    "    # 현재 예측한 단어의 정수\n",
    "    predicted_id = tf.cast(tf.argmax(predictions, axis=-1), tf.int32)\n",
    "\n",
    "    # 만약 현재 예측한 단어가 종료 토큰이라면 for문을 종료\n",
    "    if tf.equal(predicted_id, END_TOKEN[0]):\n",
    "      break\n",
    "\n",
    "    # 예측한 단어들은 지속적으로 output_sequence에 추가됩니다.\n",
    "    # 이 output_sequence는 다시 디코더의 입력이 됩니다.\n",
    "    output_sequence = tf.concat([output_sequence, predicted_id], axis=-1)\n",
    "\n",
    "  return tf.squeeze(output_sequence, axis=0)"
   ]
  },
  {
   "cell_type": "code",
   "execution_count": 32,
   "id": "6a6415f6",
   "metadata": {},
   "outputs": [],
   "source": [
    "def sentence_generation(sentence):\n",
    "  prediction = preprocess_sentence(sentence) \n",
    "  # 입력 문장에 대해서 디코더를 동작 시켜 예측된 정수 시퀀스를 리턴받습니다.\n",
    "  prediction = decoder_inference(prediction)\n",
    "  \n",
    "  # 정수 시퀀스를 다시 텍스트 시퀀스로 변환합니다.\n",
    "  predicted_sentence = tokenizer.decode(\n",
    "      [i for i in prediction if i < tokenizer.vocab_size])\n",
    "\n",
    "  print('입력 : {}'.format(sentence))\n",
    "  print('출력 : {}'.format(predicted_sentence))\n",
    "\n",
    "  return predicted_sentence"
   ]
  },
  {
   "cell_type": "code",
   "execution_count": 33,
   "id": "90d7a310",
   "metadata": {},
   "outputs": [
    {
     "name": "stdout",
     "output_type": "stream",
     "text": [
      "입력 : 너 바보야?\n",
      "출력 : 좋은 친구를 두셨네요 .\n"
     ]
    },
    {
     "data": {
      "text/plain": [
       "'좋은 친구를 두셨네요 .'"
      ]
     },
     "execution_count": 33,
     "metadata": {},
     "output_type": "execute_result"
    }
   ],
   "source": [
    "sentence_generation(\"너 바보야?\")"
   ]
  },
  {
   "cell_type": "code",
   "execution_count": 34,
   "id": "3d9ba81c",
   "metadata": {},
   "outputs": [
    {
     "name": "stdout",
     "output_type": "stream",
     "text": [
      "입력 : 나 너무 피곤한데 어떻게해?\n",
      "출력 : 좋은 친구를 두셨네요 .\n"
     ]
    },
    {
     "data": {
      "text/plain": [
       "'좋은 친구를 두셨네요 .'"
      ]
     },
     "execution_count": 34,
     "metadata": {},
     "output_type": "execute_result"
    }
   ],
   "source": [
    "sentence_generation(\"나 너무 피곤한데 어떻게해?\")"
   ]
  },
  {
   "cell_type": "code",
   "execution_count": 35,
   "id": "2cf92a97",
   "metadata": {},
   "outputs": [
    {
     "name": "stdout",
     "output_type": "stream",
     "text": [
      "입력 : 너무 단순한 것만 하는거 아니니.\n",
      "출력 : 좋은 친구를 두셨네요 .\n"
     ]
    },
    {
     "data": {
      "text/plain": [
       "'좋은 친구를 두셨네요 .'"
      ]
     },
     "execution_count": 35,
     "metadata": {},
     "output_type": "execute_result"
    }
   ],
   "source": [
    "sentence_generation(\"너무 단순한 것만 하는거 아니니.\")"
   ]
  },
  {
   "cell_type": "code",
   "execution_count": 36,
   "id": "b88c014e",
   "metadata": {},
   "outputs": [
    {
     "name": "stdout",
     "output_type": "stream",
     "text": [
      "입력 : 너무 더워\n",
      "출력 : 좋은 친구를 두셨네요 .\n"
     ]
    },
    {
     "data": {
      "text/plain": [
       "'좋은 친구를 두셨네요 .'"
      ]
     },
     "execution_count": 36,
     "metadata": {},
     "output_type": "execute_result"
    }
   ],
   "source": [
    "sentence_generation(\"너무 더워\")"
   ]
  },
  {
   "cell_type": "code",
   "execution_count": 37,
   "id": "9fd14e0c",
   "metadata": {},
   "outputs": [
    {
     "name": "stdout",
     "output_type": "stream",
     "text": [
      "입력 : 엄준식은 사람 이름이야?\n",
      "출력 : 좋은 친구를 두셨네요 .\n"
     ]
    },
    {
     "data": {
      "text/plain": [
       "'좋은 친구를 두셨네요 .'"
      ]
     },
     "execution_count": 37,
     "metadata": {},
     "output_type": "execute_result"
    }
   ],
   "source": [
    "sentence_generation('엄준식은 사람 이름이야?')"
   ]
  },
  {
   "cell_type": "code",
   "execution_count": 38,
   "id": "16ad57ef",
   "metadata": {},
   "outputs": [
    {
     "name": "stdout",
     "output_type": "stream",
     "text": [
      "입력 : 위로 해줘\n",
      "출력 : 좋은 친구를 두셨네요 .\n"
     ]
    },
    {
     "data": {
      "text/plain": [
       "'좋은 친구를 두셨네요 .'"
      ]
     },
     "execution_count": 38,
     "metadata": {},
     "output_type": "execute_result"
    }
   ],
   "source": [
    "sentence_generation('위로 해줘')"
   ]
  },
  {
   "cell_type": "code",
   "execution_count": 39,
   "id": "776756a5",
   "metadata": {},
   "outputs": [
    {
     "name": "stdout",
     "output_type": "stream",
     "text": [
      "입력 : 뭐라고 해야할지 모르겠어\n",
      "출력 : 좋은 친구를 두셨네요 .\n"
     ]
    },
    {
     "data": {
      "text/plain": [
       "'좋은 친구를 두셨네요 .'"
      ]
     },
     "execution_count": 39,
     "metadata": {},
     "output_type": "execute_result"
    }
   ],
   "source": [
    "sentence_generation('뭐라고 해야할지 모르겠어')"
   ]
  },
  {
   "cell_type": "code",
   "execution_count": 40,
   "id": "ae2fd934",
   "metadata": {},
   "outputs": [
    {
     "name": "stdout",
     "output_type": "stream",
     "text": [
      "입력 : 머리가 아파\n",
      "출력 : 좋은 친구를 두셨네요 .\n"
     ]
    },
    {
     "data": {
      "text/plain": [
       "'좋은 친구를 두셨네요 .'"
      ]
     },
     "execution_count": 40,
     "metadata": {},
     "output_type": "execute_result"
    }
   ],
   "source": [
    "sentence_generation('머리가 아파')"
   ]
  },
  {
   "cell_type": "code",
   "execution_count": 41,
   "id": "a37e6cd3",
   "metadata": {},
   "outputs": [
    {
     "name": "stdout",
     "output_type": "stream",
     "text": [
      "입력 : 배고파\n",
      "출력 : 좋은 친구를 두셨네요 .\n"
     ]
    },
    {
     "data": {
      "text/plain": [
       "'좋은 친구를 두셨네요 .'"
      ]
     },
     "execution_count": 41,
     "metadata": {},
     "output_type": "execute_result"
    }
   ],
   "source": [
    "sentence_generation('배고파')"
   ]
  },
  {
   "cell_type": "code",
   "execution_count": 42,
   "id": "62d15af2",
   "metadata": {},
   "outputs": [
    {
     "name": "stdout",
     "output_type": "stream",
     "text": [
      "입력 : 너 누구야\n",
      "출력 : 좋은 친구를 두셨네요 .\n"
     ]
    },
    {
     "data": {
      "text/plain": [
       "'좋은 친구를 두셨네요 .'"
      ]
     },
     "execution_count": 42,
     "metadata": {},
     "output_type": "execute_result"
    }
   ],
   "source": [
    "sentence_generation('너 누구야')"
   ]
  },
  {
   "cell_type": "code",
   "execution_count": 43,
   "id": "a2675f4e",
   "metadata": {},
   "outputs": [
    {
     "name": "stdout",
     "output_type": "stream",
     "text": [
      "입력 : 너 어제 뭐 먹었어?\n",
      "출력 : 좋은 친구를 두셨네요 .\n"
     ]
    },
    {
     "data": {
      "text/plain": [
       "'좋은 친구를 두셨네요 .'"
      ]
     },
     "execution_count": 43,
     "metadata": {},
     "output_type": "execute_result"
    }
   ],
   "source": [
    "sentence_generation('너 어제 뭐 먹었어?')"
   ]
  },
  {
   "cell_type": "code",
   "execution_count": 44,
   "id": "7a80cd1d",
   "metadata": {},
   "outputs": [
    {
     "name": "stdout",
     "output_type": "stream",
     "text": [
      "입력 : 밥 뭐 먹었어?\n",
      "출력 : 좋은 친구를 두셨네요 .\n"
     ]
    },
    {
     "data": {
      "text/plain": [
       "'좋은 친구를 두셨네요 .'"
      ]
     },
     "execution_count": 44,
     "metadata": {},
     "output_type": "execute_result"
    }
   ],
   "source": [
    "sentence_generation('밥 뭐 먹었어?')"
   ]
  },
  {
   "cell_type": "code",
   "execution_count": 45,
   "id": "471012d7",
   "metadata": {},
   "outputs": [
    {
     "name": "stdout",
     "output_type": "stream",
     "text": [
      "입력 : 엄\n",
      "출력 : 좋은 친구를 두셨네요 .\n"
     ]
    },
    {
     "data": {
      "text/plain": [
       "'좋은 친구를 두셨네요 .'"
      ]
     },
     "execution_count": 45,
     "metadata": {},
     "output_type": "execute_result"
    }
   ],
   "source": [
    "sentence_generation('엄')"
   ]
  },
  {
   "cell_type": "code",
   "execution_count": 46,
   "id": "08d2044e",
   "metadata": {},
   "outputs": [
    {
     "name": "stdout",
     "output_type": "stream",
     "text": [
      "입력 : \n",
      "출력 : 좋은 친구를 두셨네요 .\n"
     ]
    },
    {
     "data": {
      "text/plain": [
       "'좋은 친구를 두셨네요 .'"
      ]
     },
     "execution_count": 46,
     "metadata": {},
     "output_type": "execute_result"
    }
   ],
   "source": [
    "sentence_generation('')"
   ]
  },
  {
   "cell_type": "markdown",
   "id": "50df4299",
   "metadata": {},
   "source": [
    "#### 모델 저장 후 테스트 "
   ]
  },
  {
   "cell_type": "code",
   "execution_count": 47,
   "id": "23aabb37",
   "metadata": {},
   "outputs": [
    {
     "name": "stderr",
     "output_type": "stream",
     "text": [
      "WARNING:absl:Found untraced functions such as dense_layer_call_fn, dense_layer_call_and_return_conditional_losses, dense_1_layer_call_fn, dense_1_layer_call_and_return_conditional_losses, dense_2_layer_call_fn while saving (showing 5 of 360). These functions will not be directly callable after loading.\n"
     ]
    },
    {
     "name": "stdout",
     "output_type": "stream",
     "text": [
      "INFO:tensorflow:Assets written to: ./comfort_bot1/assets\n"
     ]
    },
    {
     "name": "stderr",
     "output_type": "stream",
     "text": [
      "INFO:tensorflow:Assets written to: ./comfort_bot1/assets\n"
     ]
    }
   ],
   "source": [
    "model.optimizer = None\n",
    "model.save('./comfort_bot1')"
   ]
  },
  {
   "cell_type": "code",
   "execution_count": 48,
   "id": "0427353a",
   "metadata": {},
   "outputs": [
    {
     "name": "stdout",
     "output_type": "stream",
     "text": [
      "WARNING:tensorflow:No training configuration found in save file, so the model was *not* compiled. Compile it manually.\n"
     ]
    },
    {
     "name": "stderr",
     "output_type": "stream",
     "text": [
      "WARNING:tensorflow:No training configuration found in save file, so the model was *not* compiled. Compile it manually.\n"
     ]
    }
   ],
   "source": [
    "new_model = tf.keras.models.load_model('comfort_bot1')"
   ]
  },
  {
   "cell_type": "code",
   "execution_count": 49,
   "id": "246aaa61",
   "metadata": {},
   "outputs": [],
   "source": [
    "def decoder_inference2(sentence, _new_model):\n",
    "  sentence = preprocess_sentence(sentence)\n",
    "\n",
    "  # 입력된 문장을 정수 인코딩 후, 시작 토큰과 종료 토큰을 앞뒤로 추가.\n",
    "  # ex) Where have you been? → [[8331   86   30    5 1059    7 8332]]\n",
    "  sentence = tf.expand_dims(\n",
    "      START_TOKEN + tokenizer.encode(sentence) + END_TOKEN, axis=0)\n",
    "\n",
    "  # 디코더의 현재까지의 예측한 출력 시퀀스가 지속적으로 저장되는 변수.\n",
    "  # 처음에는 예측한 내용이 없음으로 시작 토큰만 별도 저장. ex) 8331\n",
    "  output_sequence = tf.expand_dims(START_TOKEN, 0)\n",
    "\n",
    "  # 디코더의 인퍼런스 단계\n",
    "  for i in range(MAX_LENGTH):\n",
    "    # 디코더는 최대 MAX_LENGTH의 길이만큼 다음 단어 예측을 반복합니다.\n",
    "    predictions = _new_model(inputs=[sentence, output_sequence], training=False)\n",
    "    predictions = predictions[:, -1:, :]\n",
    "\n",
    "    # 현재 예측한 단어의 정수\n",
    "    predicted_id = tf.cast(tf.argmax(predictions, axis=-1), tf.int32)\n",
    "\n",
    "    # 만약 현재 예측한 단어가 종료 토큰이라면 for문을 종료\n",
    "    if tf.equal(predicted_id, END_TOKEN[0]):\n",
    "      break\n",
    "\n",
    "    # 예측한 단어들은 지속적으로 output_sequence에 추가됩니다.\n",
    "    # 이 output_sequence는 다시 디코더의 입력이 됩니다.\n",
    "    output_sequence = tf.concat([output_sequence, predicted_id], axis=-1)\n",
    "\n",
    "  return tf.squeeze(output_sequence, axis=0)"
   ]
  },
  {
   "cell_type": "code",
   "execution_count": 50,
   "id": "71207c2d",
   "metadata": {},
   "outputs": [],
   "source": [
    "def sentence_generation2(_sentence, _new_model):\n",
    "#   prediction = preprocess_sentence(sentence) \n",
    "  # 입력 문장에 대해서 디코더를 동작 시켜 예측된 정수 시퀀스를 리턴받습니다.\n",
    "  prediction = decoder_inference2(_sentence, _new_model)\n",
    "  \n",
    "  # 정수 시퀀스를 다시 텍스트 시퀀스로 변환합니다.\n",
    "  predicted_sentence = tokenizer.decode(\n",
    "      [i for i in prediction if i < tokenizer.vocab_size])\n",
    "\n",
    "  print('입력 : {}'.format(_sentence))\n",
    "  print('출력 : {}'.format(predicted_sentence))\n",
    "\n",
    "  return predicted_sentence"
   ]
  },
  {
   "cell_type": "code",
   "execution_count": 51,
   "id": "9cfc3124",
   "metadata": {},
   "outputs": [
    {
     "name": "stdout",
     "output_type": "stream",
     "text": [
      "입력 : 밥 뭐 먹었어?\n",
      "출력 : 좋은 친구를 두셨네요 .\n"
     ]
    },
    {
     "data": {
      "text/plain": [
       "'좋은 친구를 두셨네요 .'"
      ]
     },
     "execution_count": 51,
     "metadata": {},
     "output_type": "execute_result"
    }
   ],
   "source": [
    "sentence_generation2('밥 뭐 먹었어?', new_model)"
   ]
  },
  {
   "cell_type": "code",
   "execution_count": 52,
   "id": "7bbe6570",
   "metadata": {},
   "outputs": [
    {
     "name": "stdout",
     "output_type": "stream",
     "text": [
      "입력 : 너한테 뭐라고 해야할지 모르겠어\n",
      "출력 : 좋은 친구를 두셨네요 .\n"
     ]
    },
    {
     "data": {
      "text/plain": [
       "'좋은 친구를 두셨네요 .'"
      ]
     },
     "execution_count": 52,
     "metadata": {},
     "output_type": "execute_result"
    }
   ],
   "source": [
    "sentence_generation('너한테 뭐라고 해야할지 모르겠어')"
   ]
  },
  {
   "cell_type": "code",
   "execution_count": 53,
   "id": "46ca25b8",
   "metadata": {},
   "outputs": [
    {
     "name": "stdout",
     "output_type": "stream",
     "text": [
      "입력 : 너 드론 운전 할줄 알아?\n",
      "출력 : 좋은 친구를 두셨네요 .\n"
     ]
    },
    {
     "data": {
      "text/plain": [
       "'좋은 친구를 두셨네요 .'"
      ]
     },
     "execution_count": 53,
     "metadata": {},
     "output_type": "execute_result"
    }
   ],
   "source": [
    "sentence_generation('너 드론 운전 할줄 알아?')"
   ]
  }
 ],
 "metadata": {
  "kernelspec": {
   "display_name": "Python 3 (ipykernel)",
   "language": "python",
   "name": "python3"
  },
  "language_info": {
   "codemirror_mode": {
    "name": "ipython",
    "version": 3
   },
   "file_extension": ".py",
   "mimetype": "text/x-python",
   "name": "python",
   "nbconvert_exporter": "python",
   "pygments_lexer": "ipython3",
   "version": "3.9.7"
  }
 },
 "nbformat": 4,
 "nbformat_minor": 5
}
